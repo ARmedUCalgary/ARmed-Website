{
  "cells": [
    {
      "cell_type": "code",
      "execution_count": 1,
      "metadata": {
        "id": "igMyGnjE9hEp"
      },
      "outputs": [
        {
          "name": "stdout",
          "output_type": "stream",
          "text": [
            "WARNING:tensorflow:From c:\\Users\\Aadi\\OneDrive\\Desktop\\TFODCourse\\tfod\\Lib\\site-packages\\keras\\src\\losses.py:2976: The name tf.losses.sparse_softmax_cross_entropy is deprecated. Please use tf.compat.v1.losses.sparse_softmax_cross_entropy instead.\n",
            "\n"
          ]
        }
      ],
      "source": [
        "import csv\n",
        "\n",
        "import numpy as np\n",
        "import tensorflow as tf\n",
        "from sklearn.model_selection import train_test_split\n",
        "\n",
        "RANDOM_SEED = 42"
      ]
    },
    {
      "cell_type": "markdown",
      "metadata": {
        "id": "t2HDvhIu9hEr"
      },
      "source": [
        "# Specify each path"
      ]
    },
    {
      "cell_type": "code",
      "execution_count": 2,
      "metadata": {
        "id": "9NvZP2Zn9hEy"
      },
      "outputs": [],
      "source": [
        "dataset = 'model/keypoint_classifier/keypoint.csv'\n",
        "model_save_path = 'model/keypoint_classifier/keypoint_classifier.hdf5'\n",
        "tflite_save_path = 'model/keypoint_classifier/keypoint_classifier.tflite'"
      ]
    },
    {
      "cell_type": "markdown",
      "metadata": {
        "id": "s5oMH7x19hEz"
      },
      "source": [
        "# Set number of classes"
      ]
    },
    {
      "cell_type": "code",
      "execution_count": 3,
      "metadata": {
        "id": "du4kodXL9hEz"
      },
      "outputs": [],
      "source": [
        "NUM_CLASSES = 6"
      ]
    },
    {
      "cell_type": "markdown",
      "metadata": {
        "id": "XjnL0uso9hEz"
      },
      "source": [
        "# Dataset reading"
      ]
    },
    {
      "cell_type": "code",
      "execution_count": 4,
      "metadata": {
        "id": "QT5ZqtEz9hE0"
      },
      "outputs": [],
      "source": [
        "X_dataset = np.loadtxt(dataset, delimiter=',', dtype='float32', usecols=list(range(1, (21 * 2) + 1)))"
      ]
    },
    {
      "cell_type": "code",
      "execution_count": 5,
      "metadata": {
        "id": "QmoKFsp49hE0"
      },
      "outputs": [],
      "source": [
        "y_dataset = np.loadtxt(dataset, delimiter=',', dtype='int32', usecols=(0))"
      ]
    },
    {
      "cell_type": "code",
      "execution_count": 6,
      "metadata": {
        "id": "xQU7JTZ_9hE0"
      },
      "outputs": [],
      "source": [
        "X_train, X_test, y_train, y_test = train_test_split(X_dataset, y_dataset, train_size=0.75, random_state=RANDOM_SEED)"
      ]
    },
    {
      "cell_type": "markdown",
      "metadata": {
        "id": "mxK_lETT9hE0"
      },
      "source": [
        "# Model building"
      ]
    },
    {
      "cell_type": "code",
      "execution_count": 7,
      "metadata": {
        "id": "vHBmUf1t9hE1"
      },
      "outputs": [
        {
          "name": "stdout",
          "output_type": "stream",
          "text": [
            "WARNING:tensorflow:From c:\\Users\\Aadi\\OneDrive\\Desktop\\TFODCourse\\tfod\\Lib\\site-packages\\keras\\src\\backend.py:1398: The name tf.executing_eagerly_outside_functions is deprecated. Please use tf.compat.v1.executing_eagerly_outside_functions instead.\n",
            "\n"
          ]
        }
      ],
      "source": [
        "model = tf.keras.models.Sequential([\n",
        "    tf.keras.layers.Input((21 * 2, )),\n",
        "    tf.keras.layers.Dropout(0.2),\n",
        "    tf.keras.layers.Dense(20, activation='relu'),\n",
        "    tf.keras.layers.Dropout(0.4),\n",
        "    tf.keras.layers.Dense(10, activation='relu'),\n",
        "    tf.keras.layers.Dense(NUM_CLASSES, activation='softmax')\n",
        "])"
      ]
    },
    {
      "cell_type": "code",
      "execution_count": 8,
      "metadata": {
        "colab": {
          "base_uri": "https://localhost:8080/"
        },
        "id": "ypqky9tc9hE1",
        "outputId": "5db082bb-30e3-4110-bf63-a1ee777ecd46"
      },
      "outputs": [
        {
          "name": "stdout",
          "output_type": "stream",
          "text": [
            "Model: \"sequential\"\n",
            "_________________________________________________________________\n",
            " Layer (type)                Output Shape              Param #   \n",
            "=================================================================\n",
            " dropout (Dropout)           (None, 42)                0         \n",
            "                                                                 \n",
            " dense (Dense)               (None, 20)                860       \n",
            "                                                                 \n",
            " dropout_1 (Dropout)         (None, 20)                0         \n",
            "                                                                 \n",
            " dense_1 (Dense)             (None, 10)                210       \n",
            "                                                                 \n",
            " dense_2 (Dense)             (None, 6)                 66        \n",
            "                                                                 \n",
            "=================================================================\n",
            "Total params: 1136 (4.44 KB)\n",
            "Trainable params: 1136 (4.44 KB)\n",
            "Non-trainable params: 0 (0.00 Byte)\n",
            "_________________________________________________________________\n"
          ]
        }
      ],
      "source": [
        "model.summary()  # tf.keras.utils.plot_model(model, show_shapes=True)"
      ]
    },
    {
      "cell_type": "code",
      "execution_count": 9,
      "metadata": {
        "id": "MbMjOflQ9hE1"
      },
      "outputs": [],
      "source": [
        "# Model checkpoint callback\n",
        "cp_callback = tf.keras.callbacks.ModelCheckpoint(\n",
        "    model_save_path, verbose=1, save_weights_only=False)\n",
        "# Callback for early stopping\n",
        "es_callback = tf.keras.callbacks.EarlyStopping(patience=20, verbose=1)"
      ]
    },
    {
      "cell_type": "code",
      "execution_count": 10,
      "metadata": {
        "id": "c3Dac0M_9hE2"
      },
      "outputs": [
        {
          "name": "stdout",
          "output_type": "stream",
          "text": [
            "WARNING:tensorflow:From c:\\Users\\Aadi\\OneDrive\\Desktop\\TFODCourse\\tfod\\Lib\\site-packages\\keras\\src\\optimizers\\__init__.py:309: The name tf.train.Optimizer is deprecated. Please use tf.compat.v1.train.Optimizer instead.\n",
            "\n"
          ]
        }
      ],
      "source": [
        "# Model compilation\n",
        "model.compile(\n",
        "    optimizer='adam',\n",
        "    loss='sparse_categorical_crossentropy',\n",
        "    metrics=['accuracy']\n",
        ")"
      ]
    },
    {
      "cell_type": "markdown",
      "metadata": {
        "id": "7XI0j1Iu9hE2"
      },
      "source": [
        "# Model training"
      ]
    },
    {
      "cell_type": "code",
      "execution_count": 11,
      "metadata": {
        "colab": {
          "base_uri": "https://localhost:8080/"
        },
        "id": "WirBl-JE9hE3",
        "outputId": "71b30ca2-8294-4d9d-8aa2-800d90d399de",
        "scrolled": true
      },
      "outputs": [
        {
          "name": "stdout",
          "output_type": "stream",
          "text": [
            "Epoch 1/1000\n",
            "WARNING:tensorflow:From c:\\Users\\Aadi\\OneDrive\\Desktop\\TFODCourse\\tfod\\Lib\\site-packages\\keras\\src\\utils\\tf_utils.py:492: The name tf.ragged.RaggedTensorValue is deprecated. Please use tf.compat.v1.ragged.RaggedTensorValue instead.\n",
            "\n",
            "WARNING:tensorflow:From c:\\Users\\Aadi\\OneDrive\\Desktop\\TFODCourse\\tfod\\Lib\\site-packages\\keras\\src\\engine\\base_layer_utils.py:384: The name tf.executing_eagerly_outside_functions is deprecated. Please use tf.compat.v1.executing_eagerly_outside_functions instead.\n",
            "\n",
            " 1/11 [=>............................] - ETA: 16s - loss: 1.8714 - accuracy: 0.1172\n",
            "Epoch 1: saving model to model/keypoint_classifier\\keypoint_classifier.hdf5\n",
            "11/11 [==============================] - 2s 44ms/step - loss: 1.8411 - accuracy: 0.1441 - val_loss: 1.7289 - val_accuracy: 0.2721\n",
            "Epoch 2/1000\n",
            " 1/11 [=>............................] - ETA: 0s - loss: 1.7972 - accuracy: 0.2109\n",
            "Epoch 2: saving model to model/keypoint_classifier\\keypoint_classifier.hdf5\n",
            "11/11 [==============================] - 0s 10ms/step - loss: 1.7617 - accuracy: 0.2089 - val_loss: 1.6798 - val_accuracy: 0.4428\n",
            "Epoch 3/1000\n",
            " 1/11 [=>............................] - ETA: 0s - loss: 1.7207 - accuracy: 0.2344"
          ]
        },
        {
          "name": "stderr",
          "output_type": "stream",
          "text": [
            "c:\\Users\\Aadi\\OneDrive\\Desktop\\TFODCourse\\tfod\\Lib\\site-packages\\keras\\src\\engine\\training.py:3103: UserWarning: You are saving your model as an HDF5 file via `model.save()`. This file format is considered legacy. We recommend using instead the native Keras format, e.g. `model.save('my_model.keras')`.\n",
            "  saving_api.save_model(\n"
          ]
        },
        {
          "name": "stdout",
          "output_type": "stream",
          "text": [
            "\n",
            "Epoch 3: saving model to model/keypoint_classifier\\keypoint_classifier.hdf5\n",
            "11/11 [==============================] - 0s 11ms/step - loss: 1.7079 - accuracy: 0.2997 - val_loss: 1.6354 - val_accuracy: 0.4946\n",
            "Epoch 4/1000\n",
            " 1/11 [=>............................] - ETA: 0s - loss: 1.6655 - accuracy: 0.3438\n",
            "Epoch 4: saving model to model/keypoint_classifier\\keypoint_classifier.hdf5\n",
            "11/11 [==============================] - 0s 11ms/step - loss: 1.6648 - accuracy: 0.3761 - val_loss: 1.5815 - val_accuracy: 0.5076\n",
            "Epoch 5/1000\n",
            " 1/11 [=>............................] - ETA: 0s - loss: 1.6407 - accuracy: 0.3984\n",
            "Epoch 5: saving model to model/keypoint_classifier\\keypoint_classifier.hdf5\n",
            "11/11 [==============================] - 0s 10ms/step - loss: 1.6144 - accuracy: 0.4359 - val_loss: 1.5240 - val_accuracy: 0.5227\n",
            "Epoch 6/1000\n",
            " 1/11 [=>............................] - ETA: 0s - loss: 1.5518 - accuracy: 0.5156\n",
            "Epoch 6: saving model to model/keypoint_classifier\\keypoint_classifier.hdf5\n",
            "11/11 [==============================] - 0s 10ms/step - loss: 1.5538 - accuracy: 0.4856 - val_loss: 1.4584 - val_accuracy: 0.5248\n",
            "Epoch 7/1000\n",
            " 1/11 [=>............................] - ETA: 0s - loss: 1.5612 - accuracy: 0.4688\n",
            "Epoch 7: saving model to model/keypoint_classifier\\keypoint_classifier.hdf5\n",
            "11/11 [==============================] - 0s 10ms/step - loss: 1.5018 - accuracy: 0.4950 - val_loss: 1.3855 - val_accuracy: 0.5248\n",
            "Epoch 8/1000\n",
            " 1/11 [=>............................] - ETA: 0s - loss: 1.5158 - accuracy: 0.4609\n",
            "Epoch 8: saving model to model/keypoint_classifier\\keypoint_classifier.hdf5\n",
            "11/11 [==============================] - 0s 11ms/step - loss: 1.4130 - accuracy: 0.5303 - val_loss: 1.3092 - val_accuracy: 0.5486\n",
            "Epoch 9/1000\n",
            " 1/11 [=>............................] - ETA: 0s - loss: 1.3935 - accuracy: 0.5234\n",
            "Epoch 9: saving model to model/keypoint_classifier\\keypoint_classifier.hdf5\n",
            "11/11 [==============================] - 0s 9ms/step - loss: 1.3558 - accuracy: 0.5346 - val_loss: 1.2358 - val_accuracy: 0.5983\n",
            "Epoch 10/1000\n",
            " 1/11 [=>............................] - ETA: 0s - loss: 1.3392 - accuracy: 0.5469\n",
            "Epoch 10: saving model to model/keypoint_classifier\\keypoint_classifier.hdf5\n",
            "11/11 [==============================] - 0s 9ms/step - loss: 1.2741 - accuracy: 0.5821 - val_loss: 1.1678 - val_accuracy: 0.6112\n",
            "Epoch 11/1000\n",
            " 1/11 [=>............................] - ETA: 0s - loss: 1.2770 - accuracy: 0.5781\n",
            "Epoch 11: saving model to model/keypoint_classifier\\keypoint_classifier.hdf5\n",
            "11/11 [==============================] - 0s 9ms/step - loss: 1.2501 - accuracy: 0.5821 - val_loss: 1.1168 - val_accuracy: 0.6285\n",
            "Epoch 12/1000\n",
            " 1/11 [=>............................] - ETA: 0s - loss: 1.3540 - accuracy: 0.5000\n",
            "Epoch 12: saving model to model/keypoint_classifier\\keypoint_classifier.hdf5\n",
            "11/11 [==============================] - 0s 9ms/step - loss: 1.1916 - accuracy: 0.5929 - val_loss: 1.0762 - val_accuracy: 0.6350\n",
            "Epoch 13/1000\n",
            " 1/11 [=>............................] - ETA: 0s - loss: 1.2694 - accuracy: 0.5547\n",
            "Epoch 13: saving model to model/keypoint_classifier\\keypoint_classifier.hdf5\n",
            "11/11 [==============================] - 0s 9ms/step - loss: 1.1539 - accuracy: 0.6182 - val_loss: 1.0443 - val_accuracy: 0.6393\n",
            "Epoch 14/1000\n",
            " 1/11 [=>............................] - ETA: 0s - loss: 1.1630 - accuracy: 0.5703\n",
            "Epoch 14: saving model to model/keypoint_classifier\\keypoint_classifier.hdf5\n",
            "11/11 [==============================] - 0s 10ms/step - loss: 1.1074 - accuracy: 0.6167 - val_loss: 1.0069 - val_accuracy: 0.6328\n",
            "Epoch 15/1000\n",
            " 1/11 [=>............................] - ETA: 0s - loss: 1.1296 - accuracy: 0.5703\n",
            "Epoch 15: saving model to model/keypoint_classifier\\keypoint_classifier.hdf5\n",
            "11/11 [==============================] - 0s 10ms/step - loss: 1.0651 - accuracy: 0.6210 - val_loss: 0.9715 - val_accuracy: 0.6350\n",
            "Epoch 16/1000\n",
            " 1/11 [=>............................] - ETA: 0s - loss: 0.9855 - accuracy: 0.6641\n",
            "Epoch 16: saving model to model/keypoint_classifier\\keypoint_classifier.hdf5\n",
            "11/11 [==============================] - 0s 9ms/step - loss: 1.0340 - accuracy: 0.6333 - val_loss: 0.9406 - val_accuracy: 0.6307\n",
            "Epoch 17/1000\n",
            " 1/11 [=>............................] - ETA: 0s - loss: 0.8521 - accuracy: 0.7188\n",
            "Epoch 17: saving model to model/keypoint_classifier\\keypoint_classifier.hdf5\n",
            "11/11 [==============================] - 0s 10ms/step - loss: 1.0180 - accuracy: 0.6477 - val_loss: 0.9070 - val_accuracy: 0.6436\n",
            "Epoch 18/1000\n",
            " 1/11 [=>............................] - ETA: 0s - loss: 1.0020 - accuracy: 0.6328\n",
            "Epoch 18: saving model to model/keypoint_classifier\\keypoint_classifier.hdf5\n",
            "11/11 [==============================] - 0s 14ms/step - loss: 0.9816 - accuracy: 0.6499 - val_loss: 0.8802 - val_accuracy: 0.6717\n",
            "Epoch 19/1000\n",
            " 1/11 [=>............................] - ETA: 0s - loss: 0.9411 - accuracy: 0.7109\n",
            "Epoch 19: saving model to model/keypoint_classifier\\keypoint_classifier.hdf5\n",
            "11/11 [==============================] - 0s 10ms/step - loss: 0.9623 - accuracy: 0.6542 - val_loss: 0.8388 - val_accuracy: 0.7127\n",
            "Epoch 20/1000\n",
            " 1/11 [=>............................] - ETA: 0s - loss: 1.0021 - accuracy: 0.6562\n",
            "Epoch 20: saving model to model/keypoint_classifier\\keypoint_classifier.hdf5\n",
            "11/11 [==============================] - 0s 10ms/step - loss: 0.9473 - accuracy: 0.6614 - val_loss: 0.8137 - val_accuracy: 0.7235\n",
            "Epoch 21/1000\n",
            " 1/11 [=>............................] - ETA: 0s - loss: 0.8895 - accuracy: 0.6875\n",
            "Epoch 21: saving model to model/keypoint_classifier\\keypoint_classifier.hdf5\n",
            "11/11 [==============================] - 0s 9ms/step - loss: 0.9216 - accuracy: 0.6650 - val_loss: 0.7934 - val_accuracy: 0.7430\n",
            "Epoch 22/1000\n",
            " 1/11 [=>............................] - ETA: 0s - loss: 0.8154 - accuracy: 0.7344\n",
            "Epoch 22: saving model to model/keypoint_classifier\\keypoint_classifier.hdf5\n",
            "11/11 [==============================] - 0s 10ms/step - loss: 0.8835 - accuracy: 0.6765 - val_loss: 0.7671 - val_accuracy: 0.7451\n",
            "Epoch 23/1000\n",
            " 1/11 [=>............................] - ETA: 0s - loss: 0.9290 - accuracy: 0.6328\n",
            "Epoch 23: saving model to model/keypoint_classifier\\keypoint_classifier.hdf5\n",
            "11/11 [==============================] - 0s 10ms/step - loss: 0.8735 - accuracy: 0.6664 - val_loss: 0.7471 - val_accuracy: 0.7516\n",
            "Epoch 24/1000\n",
            " 1/11 [=>............................] - ETA: 0s - loss: 0.8752 - accuracy: 0.6641\n",
            "Epoch 24: saving model to model/keypoint_classifier\\keypoint_classifier.hdf5\n",
            "11/11 [==============================] - 0s 11ms/step - loss: 0.8676 - accuracy: 0.6657 - val_loss: 0.7268 - val_accuracy: 0.7603\n",
            "Epoch 25/1000\n",
            " 1/11 [=>............................] - ETA: 0s - loss: 0.7862 - accuracy: 0.7031\n",
            "Epoch 25: saving model to model/keypoint_classifier\\keypoint_classifier.hdf5\n",
            "11/11 [==============================] - 0s 11ms/step - loss: 0.8456 - accuracy: 0.6650 - val_loss: 0.7054 - val_accuracy: 0.7603\n",
            "Epoch 26/1000\n",
            " 1/11 [=>............................] - ETA: 0s - loss: 0.7280 - accuracy: 0.7656\n",
            "Epoch 26: saving model to model/keypoint_classifier\\keypoint_classifier.hdf5\n",
            "11/11 [==============================] - 0s 10ms/step - loss: 0.8259 - accuracy: 0.6751 - val_loss: 0.6858 - val_accuracy: 0.7689\n",
            "Epoch 27/1000\n",
            " 1/11 [=>............................] - ETA: 0s - loss: 0.7529 - accuracy: 0.7734\n",
            "Epoch 27: saving model to model/keypoint_classifier\\keypoint_classifier.hdf5\n",
            "11/11 [==============================] - 0s 11ms/step - loss: 0.8170 - accuracy: 0.6744 - val_loss: 0.6700 - val_accuracy: 0.7711\n",
            "Epoch 28/1000\n",
            " 1/11 [=>............................] - ETA: 0s - loss: 0.8051 - accuracy: 0.7031\n",
            "Epoch 28: saving model to model/keypoint_classifier\\keypoint_classifier.hdf5\n",
            "11/11 [==============================] - 0s 10ms/step - loss: 0.7741 - accuracy: 0.6837 - val_loss: 0.6506 - val_accuracy: 0.7689\n",
            "Epoch 29/1000\n",
            " 1/11 [=>............................] - ETA: 0s - loss: 0.8314 - accuracy: 0.6484\n",
            "Epoch 29: saving model to model/keypoint_classifier\\keypoint_classifier.hdf5\n",
            "11/11 [==============================] - 0s 13ms/step - loss: 0.7953 - accuracy: 0.6823 - val_loss: 0.6364 - val_accuracy: 0.7732\n",
            "Epoch 30/1000\n",
            " 1/11 [=>............................] - ETA: 0s - loss: 0.7421 - accuracy: 0.6641\n",
            "Epoch 30: saving model to model/keypoint_classifier\\keypoint_classifier.hdf5\n",
            "11/11 [==============================] - 0s 10ms/step - loss: 0.7440 - accuracy: 0.7032 - val_loss: 0.6160 - val_accuracy: 0.7711\n",
            "Epoch 31/1000\n",
            " 1/11 [=>............................] - ETA: 0s - loss: 0.7430 - accuracy: 0.6641\n",
            "Epoch 31: saving model to model/keypoint_classifier\\keypoint_classifier.hdf5\n",
            "11/11 [==============================] - 0s 11ms/step - loss: 0.7447 - accuracy: 0.6744 - val_loss: 0.6024 - val_accuracy: 0.7732\n",
            "Epoch 32/1000\n",
            " 1/11 [=>............................] - ETA: 0s - loss: 0.7954 - accuracy: 0.6641\n",
            "Epoch 32: saving model to model/keypoint_classifier\\keypoint_classifier.hdf5\n",
            "11/11 [==============================] - 0s 10ms/step - loss: 0.7436 - accuracy: 0.6952 - val_loss: 0.5916 - val_accuracy: 0.7883\n",
            "Epoch 33/1000\n",
            " 1/11 [=>............................] - ETA: 0s - loss: 0.7830 - accuracy: 0.6562\n",
            "Epoch 33: saving model to model/keypoint_classifier\\keypoint_classifier.hdf5\n",
            "11/11 [==============================] - 0s 8ms/step - loss: 0.7250 - accuracy: 0.7089 - val_loss: 0.5822 - val_accuracy: 0.7991\n",
            "Epoch 34/1000\n",
            " 1/11 [=>............................] - ETA: 0s - loss: 0.7371 - accuracy: 0.7109\n",
            "Epoch 34: saving model to model/keypoint_classifier\\keypoint_classifier.hdf5\n",
            "11/11 [==============================] - 0s 9ms/step - loss: 0.7266 - accuracy: 0.6967 - val_loss: 0.5694 - val_accuracy: 0.7991\n",
            "Epoch 35/1000\n",
            " 1/11 [=>............................] - ETA: 0s - loss: 0.7601 - accuracy: 0.7031\n",
            "Epoch 35: saving model to model/keypoint_classifier\\keypoint_classifier.hdf5\n",
            "11/11 [==============================] - 0s 10ms/step - loss: 0.6998 - accuracy: 0.7327 - val_loss: 0.5614 - val_accuracy: 0.8099\n",
            "Epoch 36/1000\n",
            " 1/11 [=>............................] - ETA: 0s - loss: 0.7916 - accuracy: 0.6016\n",
            "Epoch 36: saving model to model/keypoint_classifier\\keypoint_classifier.hdf5\n",
            "11/11 [==============================] - 0s 9ms/step - loss: 0.7083 - accuracy: 0.7104 - val_loss: 0.5516 - val_accuracy: 0.8143\n",
            "Epoch 37/1000\n",
            " 1/11 [=>............................] - ETA: 0s - loss: 0.6703 - accuracy: 0.6797\n",
            "Epoch 37: saving model to model/keypoint_classifier\\keypoint_classifier.hdf5\n",
            "11/11 [==============================] - 0s 9ms/step - loss: 0.6902 - accuracy: 0.7341 - val_loss: 0.5364 - val_accuracy: 0.8143\n",
            "Epoch 38/1000\n",
            " 1/11 [=>............................] - ETA: 0s - loss: 0.7755 - accuracy: 0.7266\n",
            "Epoch 38: saving model to model/keypoint_classifier\\keypoint_classifier.hdf5\n",
            "11/11 [==============================] - 0s 10ms/step - loss: 0.6597 - accuracy: 0.7478 - val_loss: 0.5222 - val_accuracy: 0.8164\n",
            "Epoch 39/1000\n",
            " 1/11 [=>............................] - ETA: 0s - loss: 0.6754 - accuracy: 0.7422\n",
            "Epoch 39: saving model to model/keypoint_classifier\\keypoint_classifier.hdf5\n",
            "11/11 [==============================] - 0s 10ms/step - loss: 0.6724 - accuracy: 0.7399 - val_loss: 0.5168 - val_accuracy: 0.8143\n",
            "Epoch 40/1000\n",
            " 1/11 [=>............................] - ETA: 0s - loss: 0.6532 - accuracy: 0.7422\n",
            "Epoch 40: saving model to model/keypoint_classifier\\keypoint_classifier.hdf5\n",
            "11/11 [==============================] - 0s 11ms/step - loss: 0.6497 - accuracy: 0.7313 - val_loss: 0.5026 - val_accuracy: 0.8207\n",
            "Epoch 41/1000\n",
            " 1/11 [=>............................] - ETA: 0s - loss: 0.5706 - accuracy: 0.7969\n",
            "Epoch 41: saving model to model/keypoint_classifier\\keypoint_classifier.hdf5\n",
            "11/11 [==============================] - 0s 9ms/step - loss: 0.6546 - accuracy: 0.7529 - val_loss: 0.4935 - val_accuracy: 0.8272\n",
            "Epoch 42/1000\n",
            " 1/11 [=>............................] - ETA: 0s - loss: 0.6275 - accuracy: 0.7031\n",
            "Epoch 42: saving model to model/keypoint_classifier\\keypoint_classifier.hdf5\n",
            "11/11 [==============================] - 0s 10ms/step - loss: 0.6597 - accuracy: 0.7378 - val_loss: 0.4860 - val_accuracy: 0.8337\n",
            "Epoch 43/1000\n",
            " 1/11 [=>............................] - ETA: 0s - loss: 0.7377 - accuracy: 0.6797\n",
            "Epoch 43: saving model to model/keypoint_classifier\\keypoint_classifier.hdf5\n",
            "11/11 [==============================] - 0s 15ms/step - loss: 0.6351 - accuracy: 0.7378 - val_loss: 0.4778 - val_accuracy: 0.8337\n",
            "Epoch 44/1000\n",
            " 1/11 [=>............................] - ETA: 0s - loss: 0.6420 - accuracy: 0.7891\n",
            "Epoch 44: saving model to model/keypoint_classifier\\keypoint_classifier.hdf5\n",
            "11/11 [==============================] - 0s 9ms/step - loss: 0.6492 - accuracy: 0.7478 - val_loss: 0.4637 - val_accuracy: 0.8380\n",
            "Epoch 45/1000\n",
            " 1/11 [=>............................] - ETA: 0s - loss: 0.6170 - accuracy: 0.7734\n",
            "Epoch 45: saving model to model/keypoint_classifier\\keypoint_classifier.hdf5\n",
            "11/11 [==============================] - 0s 9ms/step - loss: 0.6432 - accuracy: 0.7558 - val_loss: 0.4580 - val_accuracy: 0.8402\n",
            "Epoch 46/1000\n",
            " 1/11 [=>............................] - ETA: 0s - loss: 0.5757 - accuracy: 0.7891\n",
            "Epoch 46: saving model to model/keypoint_classifier\\keypoint_classifier.hdf5\n",
            "11/11 [==============================] - 0s 9ms/step - loss: 0.6284 - accuracy: 0.7457 - val_loss: 0.4492 - val_accuracy: 0.8315\n",
            "Epoch 47/1000\n",
            " 1/11 [=>............................] - ETA: 0s - loss: 0.5989 - accuracy: 0.8125\n",
            "Epoch 47: saving model to model/keypoint_classifier\\keypoint_classifier.hdf5\n",
            "11/11 [==============================] - 0s 10ms/step - loss: 0.5986 - accuracy: 0.7702 - val_loss: 0.4384 - val_accuracy: 0.8467\n",
            "Epoch 48/1000\n",
            " 1/11 [=>............................] - ETA: 0s - loss: 0.5671 - accuracy: 0.7734\n",
            "Epoch 48: saving model to model/keypoint_classifier\\keypoint_classifier.hdf5\n",
            "11/11 [==============================] - 0s 10ms/step - loss: 0.6019 - accuracy: 0.7680 - val_loss: 0.4288 - val_accuracy: 0.8510\n",
            "Epoch 49/1000\n",
            " 1/11 [=>............................] - ETA: 0s - loss: 0.5554 - accuracy: 0.7656\n",
            "Epoch 49: saving model to model/keypoint_classifier\\keypoint_classifier.hdf5\n",
            "11/11 [==============================] - 0s 11ms/step - loss: 0.5984 - accuracy: 0.7716 - val_loss: 0.4234 - val_accuracy: 0.8531\n",
            "Epoch 50/1000\n",
            " 1/11 [=>............................] - ETA: 0s - loss: 0.6055 - accuracy: 0.8047\n",
            "Epoch 50: saving model to model/keypoint_classifier\\keypoint_classifier.hdf5\n",
            "11/11 [==============================] - 0s 9ms/step - loss: 0.5799 - accuracy: 0.7781 - val_loss: 0.4191 - val_accuracy: 0.8553\n",
            "Epoch 51/1000\n",
            " 1/11 [=>............................] - ETA: 0s - loss: 0.5560 - accuracy: 0.7500\n",
            "Epoch 51: saving model to model/keypoint_classifier\\keypoint_classifier.hdf5\n",
            "11/11 [==============================] - 0s 9ms/step - loss: 0.5870 - accuracy: 0.7702 - val_loss: 0.4064 - val_accuracy: 0.8618\n",
            "Epoch 52/1000\n",
            " 1/11 [=>............................] - ETA: 0s - loss: 0.5966 - accuracy: 0.7656\n",
            "Epoch 52: saving model to model/keypoint_classifier\\keypoint_classifier.hdf5\n",
            "11/11 [==============================] - 0s 9ms/step - loss: 0.5714 - accuracy: 0.7889 - val_loss: 0.3989 - val_accuracy: 0.8596\n",
            "Epoch 53/1000\n",
            " 1/11 [=>............................] - ETA: 0s - loss: 0.5852 - accuracy: 0.7734\n",
            "Epoch 53: saving model to model/keypoint_classifier\\keypoint_classifier.hdf5\n",
            "11/11 [==============================] - 0s 8ms/step - loss: 0.5818 - accuracy: 0.7731 - val_loss: 0.3947 - val_accuracy: 0.8661\n",
            "Epoch 54/1000\n",
            " 1/11 [=>............................] - ETA: 0s - loss: 0.6890 - accuracy: 0.7031\n",
            "Epoch 54: saving model to model/keypoint_classifier\\keypoint_classifier.hdf5\n",
            "11/11 [==============================] - 0s 9ms/step - loss: 0.5820 - accuracy: 0.7716 - val_loss: 0.3862 - val_accuracy: 0.8704\n",
            "Epoch 55/1000\n",
            " 1/11 [=>............................] - ETA: 0s - loss: 0.5135 - accuracy: 0.8125\n",
            "Epoch 55: saving model to model/keypoint_classifier\\keypoint_classifier.hdf5\n",
            "11/11 [==============================] - 0s 8ms/step - loss: 0.5467 - accuracy: 0.7925 - val_loss: 0.3798 - val_accuracy: 0.8704\n",
            "Epoch 56/1000\n",
            " 1/11 [=>............................] - ETA: 0s - loss: 0.6244 - accuracy: 0.7656\n",
            "Epoch 56: saving model to model/keypoint_classifier\\keypoint_classifier.hdf5\n",
            "11/11 [==============================] - 0s 10ms/step - loss: 0.5686 - accuracy: 0.7990 - val_loss: 0.3739 - val_accuracy: 0.8769\n",
            "Epoch 57/1000\n",
            " 1/11 [=>............................] - ETA: 0s - loss: 0.5168 - accuracy: 0.8594\n",
            "Epoch 57: saving model to model/keypoint_classifier\\keypoint_classifier.hdf5\n",
            "11/11 [==============================] - 0s 11ms/step - loss: 0.5412 - accuracy: 0.7824 - val_loss: 0.3694 - val_accuracy: 0.8769\n",
            "Epoch 58/1000\n",
            " 1/11 [=>............................] - ETA: 0s - loss: 0.5394 - accuracy: 0.7500\n",
            "Epoch 58: saving model to model/keypoint_classifier\\keypoint_classifier.hdf5\n",
            "11/11 [==============================] - 0s 8ms/step - loss: 0.5595 - accuracy: 0.7824 - val_loss: 0.3676 - val_accuracy: 0.8769\n",
            "Epoch 59/1000\n",
            " 1/11 [=>............................] - ETA: 0s - loss: 0.4344 - accuracy: 0.8672\n",
            "Epoch 59: saving model to model/keypoint_classifier\\keypoint_classifier.hdf5\n",
            "11/11 [==============================] - 0s 8ms/step - loss: 0.5498 - accuracy: 0.7947 - val_loss: 0.3648 - val_accuracy: 0.8769\n",
            "Epoch 60/1000\n",
            " 1/11 [=>............................] - ETA: 0s - loss: 0.5478 - accuracy: 0.7812\n",
            "Epoch 60: saving model to model/keypoint_classifier\\keypoint_classifier.hdf5\n",
            "11/11 [==============================] - 0s 8ms/step - loss: 0.5541 - accuracy: 0.7803 - val_loss: 0.3661 - val_accuracy: 0.8726\n",
            "Epoch 61/1000\n",
            " 1/11 [=>............................] - ETA: 0s - loss: 0.5793 - accuracy: 0.8203\n",
            "Epoch 61: saving model to model/keypoint_classifier\\keypoint_classifier.hdf5\n",
            "11/11 [==============================] - 0s 9ms/step - loss: 0.5665 - accuracy: 0.7853 - val_loss: 0.3637 - val_accuracy: 0.8855\n",
            "Epoch 62/1000\n",
            " 1/11 [=>............................] - ETA: 0s - loss: 0.5789 - accuracy: 0.7188\n",
            "Epoch 62: saving model to model/keypoint_classifier\\keypoint_classifier.hdf5\n",
            "11/11 [==============================] - 0s 9ms/step - loss: 0.5496 - accuracy: 0.7889 - val_loss: 0.3466 - val_accuracy: 0.8834\n",
            "Epoch 63/1000\n",
            " 1/11 [=>............................] - ETA: 0s - loss: 0.5197 - accuracy: 0.8203\n",
            "Epoch 63: saving model to model/keypoint_classifier\\keypoint_classifier.hdf5\n",
            "11/11 [==============================] - 0s 8ms/step - loss: 0.5656 - accuracy: 0.7939 - val_loss: 0.3422 - val_accuracy: 0.8855\n",
            "Epoch 64/1000\n",
            " 1/11 [=>............................] - ETA: 0s - loss: 0.5790 - accuracy: 0.7734\n",
            "Epoch 64: saving model to model/keypoint_classifier\\keypoint_classifier.hdf5\n",
            "11/11 [==============================] - 0s 8ms/step - loss: 0.5378 - accuracy: 0.8098 - val_loss: 0.3382 - val_accuracy: 0.8963\n",
            "Epoch 65/1000\n",
            " 1/11 [=>............................] - ETA: 0s - loss: 0.5866 - accuracy: 0.7188\n",
            "Epoch 65: saving model to model/keypoint_classifier\\keypoint_classifier.hdf5\n",
            "11/11 [==============================] - 0s 8ms/step - loss: 0.5594 - accuracy: 0.7867 - val_loss: 0.3373 - val_accuracy: 0.9028\n",
            "Epoch 66/1000\n",
            " 1/11 [=>............................] - ETA: 0s - loss: 0.4557 - accuracy: 0.8359\n",
            "Epoch 66: saving model to model/keypoint_classifier\\keypoint_classifier.hdf5\n",
            "11/11 [==============================] - 0s 8ms/step - loss: 0.5526 - accuracy: 0.7947 - val_loss: 0.3344 - val_accuracy: 0.8942\n",
            "Epoch 67/1000\n",
            " 1/11 [=>............................] - ETA: 0s - loss: 0.4486 - accuracy: 0.8516\n",
            "Epoch 67: saving model to model/keypoint_classifier\\keypoint_classifier.hdf5\n",
            "11/11 [==============================] - 0s 8ms/step - loss: 0.5424 - accuracy: 0.7889 - val_loss: 0.3356 - val_accuracy: 0.8877\n",
            "Epoch 68/1000\n",
            " 1/11 [=>............................] - ETA: 0s - loss: 0.4429 - accuracy: 0.8438\n",
            "Epoch 68: saving model to model/keypoint_classifier\\keypoint_classifier.hdf5\n",
            "11/11 [==============================] - 0s 8ms/step - loss: 0.5324 - accuracy: 0.8148 - val_loss: 0.3361 - val_accuracy: 0.8985\n",
            "Epoch 69/1000\n",
            " 1/11 [=>............................] - ETA: 0s - loss: 0.5220 - accuracy: 0.8203\n",
            "Epoch 69: saving model to model/keypoint_classifier\\keypoint_classifier.hdf5\n",
            "11/11 [==============================] - 0s 8ms/step - loss: 0.5013 - accuracy: 0.8163 - val_loss: 0.3271 - val_accuracy: 0.8942\n",
            "Epoch 70/1000\n",
            " 1/11 [=>............................] - ETA: 0s - loss: 0.4713 - accuracy: 0.8516\n",
            "Epoch 70: saving model to model/keypoint_classifier\\keypoint_classifier.hdf5\n",
            "11/11 [==============================] - 0s 11ms/step - loss: 0.5274 - accuracy: 0.7983 - val_loss: 0.3228 - val_accuracy: 0.9006\n",
            "Epoch 71/1000\n",
            " 1/11 [=>............................] - ETA: 0s - loss: 0.4779 - accuracy: 0.8047\n",
            "Epoch 71: saving model to model/keypoint_classifier\\keypoint_classifier.hdf5\n",
            "11/11 [==============================] - 0s 8ms/step - loss: 0.5064 - accuracy: 0.8127 - val_loss: 0.3187 - val_accuracy: 0.9028\n",
            "Epoch 72/1000\n",
            " 1/11 [=>............................] - ETA: 0s - loss: 0.6515 - accuracy: 0.7812\n",
            "Epoch 72: saving model to model/keypoint_classifier\\keypoint_classifier.hdf5\n",
            "11/11 [==============================] - 0s 9ms/step - loss: 0.5306 - accuracy: 0.8026 - val_loss: 0.3128 - val_accuracy: 0.9114\n",
            "Epoch 73/1000\n",
            " 1/11 [=>............................] - ETA: 0s - loss: 0.4684 - accuracy: 0.8281\n",
            "Epoch 73: saving model to model/keypoint_classifier\\keypoint_classifier.hdf5\n",
            "11/11 [==============================] - 0s 9ms/step - loss: 0.5088 - accuracy: 0.8033 - val_loss: 0.3096 - val_accuracy: 0.9071\n",
            "Epoch 74/1000\n",
            " 1/11 [=>............................] - ETA: 0s - loss: 0.5998 - accuracy: 0.7500\n",
            "Epoch 74: saving model to model/keypoint_classifier\\keypoint_classifier.hdf5\n",
            "11/11 [==============================] - 0s 8ms/step - loss: 0.5073 - accuracy: 0.8091 - val_loss: 0.3041 - val_accuracy: 0.9028\n",
            "Epoch 75/1000\n",
            " 1/11 [=>............................] - ETA: 0s - loss: 0.5298 - accuracy: 0.7969\n",
            "Epoch 75: saving model to model/keypoint_classifier\\keypoint_classifier.hdf5\n",
            "11/11 [==============================] - 0s 9ms/step - loss: 0.5105 - accuracy: 0.8040 - val_loss: 0.2948 - val_accuracy: 0.9114\n",
            "Epoch 76/1000\n",
            " 1/11 [=>............................] - ETA: 0s - loss: 0.4081 - accuracy: 0.8516\n",
            "Epoch 76: saving model to model/keypoint_classifier\\keypoint_classifier.hdf5\n",
            "11/11 [==============================] - 0s 8ms/step - loss: 0.4719 - accuracy: 0.8220 - val_loss: 0.2921 - val_accuracy: 0.9158\n",
            "Epoch 77/1000\n",
            " 1/11 [=>............................] - ETA: 0s - loss: 0.5259 - accuracy: 0.7734\n",
            "Epoch 77: saving model to model/keypoint_classifier\\keypoint_classifier.hdf5\n",
            "11/11 [==============================] - 0s 9ms/step - loss: 0.4967 - accuracy: 0.8156 - val_loss: 0.2874 - val_accuracy: 0.9136\n",
            "Epoch 78/1000\n",
            " 1/11 [=>............................] - ETA: 0s - loss: 0.5205 - accuracy: 0.7891\n",
            "Epoch 78: saving model to model/keypoint_classifier\\keypoint_classifier.hdf5\n",
            "11/11 [==============================] - 0s 9ms/step - loss: 0.5063 - accuracy: 0.8170 - val_loss: 0.2900 - val_accuracy: 0.9158\n",
            "Epoch 79/1000\n",
            " 1/11 [=>............................] - ETA: 0s - loss: 0.4040 - accuracy: 0.8672\n",
            "Epoch 79: saving model to model/keypoint_classifier\\keypoint_classifier.hdf5\n",
            "11/11 [==============================] - 0s 8ms/step - loss: 0.4865 - accuracy: 0.8228 - val_loss: 0.2871 - val_accuracy: 0.9179\n",
            "Epoch 80/1000\n",
            " 1/11 [=>............................] - ETA: 0s - loss: 0.5156 - accuracy: 0.8047\n",
            "Epoch 80: saving model to model/keypoint_classifier\\keypoint_classifier.hdf5\n",
            "11/11 [==============================] - 0s 8ms/step - loss: 0.5113 - accuracy: 0.8105 - val_loss: 0.2884 - val_accuracy: 0.9158\n",
            "Epoch 81/1000\n",
            " 1/11 [=>............................] - ETA: 0s - loss: 0.4849 - accuracy: 0.8281\n",
            "Epoch 81: saving model to model/keypoint_classifier\\keypoint_classifier.hdf5\n",
            "11/11 [==============================] - 0s 8ms/step - loss: 0.4895 - accuracy: 0.8105 - val_loss: 0.2892 - val_accuracy: 0.9158\n",
            "Epoch 82/1000\n",
            " 1/11 [=>............................] - ETA: 0s - loss: 0.6406 - accuracy: 0.7656\n",
            "Epoch 82: saving model to model/keypoint_classifier\\keypoint_classifier.hdf5\n",
            "11/11 [==============================] - 0s 8ms/step - loss: 0.5013 - accuracy: 0.8148 - val_loss: 0.2771 - val_accuracy: 0.9244\n",
            "Epoch 83/1000\n",
            " 1/11 [=>............................] - ETA: 0s - loss: 0.4395 - accuracy: 0.8359\n",
            "Epoch 83: saving model to model/keypoint_classifier\\keypoint_classifier.hdf5\n",
            "11/11 [==============================] - 0s 11ms/step - loss: 0.4995 - accuracy: 0.8163 - val_loss: 0.2748 - val_accuracy: 0.9222\n",
            "Epoch 84/1000\n",
            " 1/11 [=>............................] - ETA: 0s - loss: 0.4835 - accuracy: 0.7812\n",
            "Epoch 84: saving model to model/keypoint_classifier\\keypoint_classifier.hdf5\n",
            "11/11 [==============================] - 0s 9ms/step - loss: 0.4914 - accuracy: 0.8105 - val_loss: 0.2778 - val_accuracy: 0.9179\n",
            "Epoch 85/1000\n",
            " 1/11 [=>............................] - ETA: 0s - loss: 0.5707 - accuracy: 0.7734\n",
            "Epoch 85: saving model to model/keypoint_classifier\\keypoint_classifier.hdf5\n",
            "11/11 [==============================] - 0s 8ms/step - loss: 0.4888 - accuracy: 0.8112 - val_loss: 0.2768 - val_accuracy: 0.9201\n",
            "Epoch 86/1000\n",
            " 1/11 [=>............................] - ETA: 0s - loss: 0.4790 - accuracy: 0.8438\n",
            "Epoch 86: saving model to model/keypoint_classifier\\keypoint_classifier.hdf5\n",
            "11/11 [==============================] - 0s 8ms/step - loss: 0.4783 - accuracy: 0.8184 - val_loss: 0.2769 - val_accuracy: 0.9179\n",
            "Epoch 87/1000\n",
            " 1/11 [=>............................] - ETA: 0s - loss: 0.5453 - accuracy: 0.7734\n",
            "Epoch 87: saving model to model/keypoint_classifier\\keypoint_classifier.hdf5\n",
            "11/11 [==============================] - 0s 9ms/step - loss: 0.4928 - accuracy: 0.8242 - val_loss: 0.2728 - val_accuracy: 0.9201\n",
            "Epoch 88/1000\n",
            " 1/11 [=>............................] - ETA: 0s - loss: 0.4785 - accuracy: 0.8359\n",
            "Epoch 88: saving model to model/keypoint_classifier\\keypoint_classifier.hdf5\n",
            "11/11 [==============================] - 0s 8ms/step - loss: 0.4771 - accuracy: 0.8148 - val_loss: 0.2755 - val_accuracy: 0.9222\n",
            "Epoch 89/1000\n",
            " 1/11 [=>............................] - ETA: 0s - loss: 0.5298 - accuracy: 0.7734\n",
            "Epoch 89: saving model to model/keypoint_classifier\\keypoint_classifier.hdf5\n",
            "11/11 [==============================] - 0s 8ms/step - loss: 0.4897 - accuracy: 0.8256 - val_loss: 0.2708 - val_accuracy: 0.9201\n",
            "Epoch 90/1000\n",
            " 1/11 [=>............................] - ETA: 0s - loss: 0.4424 - accuracy: 0.8438\n",
            "Epoch 90: saving model to model/keypoint_classifier\\keypoint_classifier.hdf5\n",
            "11/11 [==============================] - 0s 9ms/step - loss: 0.4921 - accuracy: 0.8170 - val_loss: 0.2679 - val_accuracy: 0.9201\n",
            "Epoch 91/1000\n",
            " 1/11 [=>............................] - ETA: 0s - loss: 0.5349 - accuracy: 0.8359\n",
            "Epoch 91: saving model to model/keypoint_classifier\\keypoint_classifier.hdf5\n",
            "11/11 [==============================] - 0s 9ms/step - loss: 0.4607 - accuracy: 0.8336 - val_loss: 0.2671 - val_accuracy: 0.9244\n",
            "Epoch 92/1000\n",
            " 1/11 [=>............................] - ETA: 0s - loss: 0.5488 - accuracy: 0.8047\n",
            "Epoch 92: saving model to model/keypoint_classifier\\keypoint_classifier.hdf5\n",
            "11/11 [==============================] - 0s 9ms/step - loss: 0.4727 - accuracy: 0.8293 - val_loss: 0.2601 - val_accuracy: 0.9244\n",
            "Epoch 93/1000\n",
            " 1/11 [=>............................] - ETA: 0s - loss: 0.4577 - accuracy: 0.8125\n",
            "Epoch 93: saving model to model/keypoint_classifier\\keypoint_classifier.hdf5\n",
            "11/11 [==============================] - 0s 8ms/step - loss: 0.4880 - accuracy: 0.8278 - val_loss: 0.2572 - val_accuracy: 0.9244\n",
            "Epoch 94/1000\n",
            " 1/11 [=>............................] - ETA: 0s - loss: 0.4548 - accuracy: 0.8438\n",
            "Epoch 94: saving model to model/keypoint_classifier\\keypoint_classifier.hdf5\n",
            "11/11 [==============================] - 0s 9ms/step - loss: 0.4521 - accuracy: 0.8415 - val_loss: 0.2588 - val_accuracy: 0.9222\n",
            "Epoch 95/1000\n",
            " 1/11 [=>............................] - ETA: 0s - loss: 0.4881 - accuracy: 0.8359\n",
            "Epoch 95: saving model to model/keypoint_classifier\\keypoint_classifier.hdf5\n",
            "11/11 [==============================] - 0s 8ms/step - loss: 0.4924 - accuracy: 0.8120 - val_loss: 0.2594 - val_accuracy: 0.9222\n",
            "Epoch 96/1000\n",
            " 1/11 [=>............................] - ETA: 0s - loss: 0.5129 - accuracy: 0.8359\n",
            "Epoch 96: saving model to model/keypoint_classifier\\keypoint_classifier.hdf5\n",
            "11/11 [==============================] - 0s 11ms/step - loss: 0.4792 - accuracy: 0.8264 - val_loss: 0.2595 - val_accuracy: 0.9287\n",
            "Epoch 97/1000\n",
            " 1/11 [=>............................] - ETA: 0s - loss: 0.4854 - accuracy: 0.8125\n",
            "Epoch 97: saving model to model/keypoint_classifier\\keypoint_classifier.hdf5\n",
            "11/11 [==============================] - 0s 9ms/step - loss: 0.4794 - accuracy: 0.8314 - val_loss: 0.2541 - val_accuracy: 0.9287\n",
            "Epoch 98/1000\n",
            " 1/11 [=>............................] - ETA: 0s - loss: 0.4340 - accuracy: 0.8203\n",
            "Epoch 98: saving model to model/keypoint_classifier\\keypoint_classifier.hdf5\n",
            "11/11 [==============================] - 0s 9ms/step - loss: 0.4329 - accuracy: 0.8451 - val_loss: 0.2545 - val_accuracy: 0.9244\n",
            "Epoch 99/1000\n",
            " 1/11 [=>............................] - ETA: 0s - loss: 0.5090 - accuracy: 0.8750\n",
            "Epoch 99: saving model to model/keypoint_classifier\\keypoint_classifier.hdf5\n",
            "11/11 [==============================] - 0s 8ms/step - loss: 0.4892 - accuracy: 0.8372 - val_loss: 0.2552 - val_accuracy: 0.9222\n",
            "Epoch 100/1000\n",
            " 1/11 [=>............................] - ETA: 0s - loss: 0.5310 - accuracy: 0.8438\n",
            "Epoch 100: saving model to model/keypoint_classifier\\keypoint_classifier.hdf5\n",
            "11/11 [==============================] - 0s 8ms/step - loss: 0.4903 - accuracy: 0.8242 - val_loss: 0.2566 - val_accuracy: 0.9222\n",
            "Epoch 101/1000\n",
            " 1/11 [=>............................] - ETA: 0s - loss: 0.4402 - accuracy: 0.8516\n",
            "Epoch 101: saving model to model/keypoint_classifier\\keypoint_classifier.hdf5\n",
            "11/11 [==============================] - 0s 8ms/step - loss: 0.4555 - accuracy: 0.8393 - val_loss: 0.2514 - val_accuracy: 0.9222\n",
            "Epoch 102/1000\n",
            " 1/11 [=>............................] - ETA: 0s - loss: 0.4150 - accuracy: 0.8438\n",
            "Epoch 102: saving model to model/keypoint_classifier\\keypoint_classifier.hdf5\n",
            "11/11 [==============================] - 0s 8ms/step - loss: 0.4423 - accuracy: 0.8458 - val_loss: 0.2487 - val_accuracy: 0.9266\n",
            "Epoch 103/1000\n",
            " 1/11 [=>............................] - ETA: 0s - loss: 0.4281 - accuracy: 0.8125\n",
            "Epoch 103: saving model to model/keypoint_classifier\\keypoint_classifier.hdf5\n",
            "11/11 [==============================] - 0s 8ms/step - loss: 0.4601 - accuracy: 0.8401 - val_loss: 0.2499 - val_accuracy: 0.9244\n",
            "Epoch 104/1000\n",
            " 1/11 [=>............................] - ETA: 0s - loss: 0.3970 - accuracy: 0.8359\n",
            "Epoch 104: saving model to model/keypoint_classifier\\keypoint_classifier.hdf5\n",
            "11/11 [==============================] - 0s 8ms/step - loss: 0.4594 - accuracy: 0.8429 - val_loss: 0.2477 - val_accuracy: 0.9266\n",
            "Epoch 105/1000\n",
            " 1/11 [=>............................] - ETA: 0s - loss: 0.5541 - accuracy: 0.8203\n",
            "Epoch 105: saving model to model/keypoint_classifier\\keypoint_classifier.hdf5\n",
            "11/11 [==============================] - 0s 8ms/step - loss: 0.4710 - accuracy: 0.8264 - val_loss: 0.2471 - val_accuracy: 0.9244\n",
            "Epoch 106/1000\n",
            " 1/11 [=>............................] - ETA: 0s - loss: 0.4249 - accuracy: 0.8359\n",
            "Epoch 106: saving model to model/keypoint_classifier\\keypoint_classifier.hdf5\n",
            "11/11 [==============================] - 0s 8ms/step - loss: 0.4624 - accuracy: 0.8307 - val_loss: 0.2497 - val_accuracy: 0.9222\n",
            "Epoch 107/1000\n",
            " 1/11 [=>............................] - ETA: 0s - loss: 0.5114 - accuracy: 0.8203\n",
            "Epoch 107: saving model to model/keypoint_classifier\\keypoint_classifier.hdf5\n",
            "11/11 [==============================] - 0s 8ms/step - loss: 0.4206 - accuracy: 0.8595 - val_loss: 0.2501 - val_accuracy: 0.9222\n",
            "Epoch 108/1000\n",
            " 1/11 [=>............................] - ETA: 0s - loss: 0.3872 - accuracy: 0.8516\n",
            "Epoch 108: saving model to model/keypoint_classifier\\keypoint_classifier.hdf5\n",
            "11/11 [==============================] - 0s 12ms/step - loss: 0.4425 - accuracy: 0.8422 - val_loss: 0.2434 - val_accuracy: 0.9201\n",
            "Epoch 109/1000\n",
            " 1/11 [=>............................] - ETA: 0s - loss: 0.4883 - accuracy: 0.8203\n",
            "Epoch 109: saving model to model/keypoint_classifier\\keypoint_classifier.hdf5\n",
            "11/11 [==============================] - 0s 8ms/step - loss: 0.4776 - accuracy: 0.8235 - val_loss: 0.2430 - val_accuracy: 0.9244\n",
            "Epoch 110/1000\n",
            " 1/11 [=>............................] - ETA: 0s - loss: 0.4702 - accuracy: 0.8203\n",
            "Epoch 110: saving model to model/keypoint_classifier\\keypoint_classifier.hdf5\n",
            "11/11 [==============================] - 0s 9ms/step - loss: 0.4330 - accuracy: 0.8487 - val_loss: 0.2380 - val_accuracy: 0.9222\n",
            "Epoch 111/1000\n",
            " 1/11 [=>............................] - ETA: 0s - loss: 0.4054 - accuracy: 0.8516\n",
            "Epoch 111: saving model to model/keypoint_classifier\\keypoint_classifier.hdf5\n",
            "11/11 [==============================] - 0s 10ms/step - loss: 0.4821 - accuracy: 0.8220 - val_loss: 0.2400 - val_accuracy: 0.9266\n",
            "Epoch 112/1000\n",
            " 1/11 [=>............................] - ETA: 0s - loss: 0.4509 - accuracy: 0.8516\n",
            "Epoch 112: saving model to model/keypoint_classifier\\keypoint_classifier.hdf5\n",
            "11/11 [==============================] - 0s 8ms/step - loss: 0.4596 - accuracy: 0.8307 - val_loss: 0.2368 - val_accuracy: 0.9374\n",
            "Epoch 113/1000\n",
            " 1/11 [=>............................] - ETA: 0s - loss: 0.3553 - accuracy: 0.8359\n",
            "Epoch 113: saving model to model/keypoint_classifier\\keypoint_classifier.hdf5\n",
            "11/11 [==============================] - 0s 8ms/step - loss: 0.4288 - accuracy: 0.8480 - val_loss: 0.2352 - val_accuracy: 0.9287\n",
            "Epoch 114/1000\n",
            " 1/11 [=>............................] - ETA: 0s - loss: 0.4142 - accuracy: 0.8516\n",
            "Epoch 114: saving model to model/keypoint_classifier\\keypoint_classifier.hdf5\n",
            "11/11 [==============================] - 0s 8ms/step - loss: 0.4579 - accuracy: 0.8285 - val_loss: 0.2390 - val_accuracy: 0.9244\n",
            "Epoch 115/1000\n",
            " 1/11 [=>............................] - ETA: 0s - loss: 0.3891 - accuracy: 0.8594\n",
            "Epoch 115: saving model to model/keypoint_classifier\\keypoint_classifier.hdf5\n",
            "11/11 [==============================] - 0s 8ms/step - loss: 0.4721 - accuracy: 0.8307 - val_loss: 0.2350 - val_accuracy: 0.9244\n",
            "Epoch 116/1000\n",
            " 1/11 [=>............................] - ETA: 0s - loss: 0.5488 - accuracy: 0.7969\n",
            "Epoch 116: saving model to model/keypoint_classifier\\keypoint_classifier.hdf5\n",
            "11/11 [==============================] - 0s 9ms/step - loss: 0.4423 - accuracy: 0.8465 - val_loss: 0.2362 - val_accuracy: 0.9287\n",
            "Epoch 117/1000\n",
            " 1/11 [=>............................] - ETA: 0s - loss: 0.4462 - accuracy: 0.8438\n",
            "Epoch 117: saving model to model/keypoint_classifier\\keypoint_classifier.hdf5\n",
            "11/11 [==============================] - 0s 8ms/step - loss: 0.4550 - accuracy: 0.8293 - val_loss: 0.2394 - val_accuracy: 0.9330\n",
            "Epoch 118/1000\n",
            " 1/11 [=>............................] - ETA: 0s - loss: 0.4413 - accuracy: 0.8438\n",
            "Epoch 118: saving model to model/keypoint_classifier\\keypoint_classifier.hdf5\n",
            "11/11 [==============================] - 0s 8ms/step - loss: 0.4545 - accuracy: 0.8314 - val_loss: 0.2345 - val_accuracy: 0.9309\n",
            "Epoch 119/1000\n",
            " 1/11 [=>............................] - ETA: 0s - loss: 0.5410 - accuracy: 0.7891\n",
            "Epoch 119: saving model to model/keypoint_classifier\\keypoint_classifier.hdf5\n",
            "11/11 [==============================] - 0s 11ms/step - loss: 0.4570 - accuracy: 0.8379 - val_loss: 0.2346 - val_accuracy: 0.9309\n",
            "Epoch 120/1000\n",
            " 1/11 [=>............................] - ETA: 0s - loss: 0.5030 - accuracy: 0.7969\n",
            "Epoch 120: saving model to model/keypoint_classifier\\keypoint_classifier.hdf5\n",
            "11/11 [==============================] - 0s 9ms/step - loss: 0.4412 - accuracy: 0.8444 - val_loss: 0.2299 - val_accuracy: 0.9330\n",
            "Epoch 121/1000\n",
            " 1/11 [=>............................] - ETA: 0s - loss: 0.3323 - accuracy: 0.9141\n",
            "Epoch 121: saving model to model/keypoint_classifier\\keypoint_classifier.hdf5\n",
            "11/11 [==============================] - 0s 8ms/step - loss: 0.4289 - accuracy: 0.8566 - val_loss: 0.2292 - val_accuracy: 0.9287\n",
            "Epoch 122/1000\n",
            " 1/11 [=>............................] - ETA: 0s - loss: 0.4832 - accuracy: 0.8281\n",
            "Epoch 122: saving model to model/keypoint_classifier\\keypoint_classifier.hdf5\n",
            "11/11 [==============================] - 0s 9ms/step - loss: 0.4267 - accuracy: 0.8451 - val_loss: 0.2293 - val_accuracy: 0.9287\n",
            "Epoch 123/1000\n",
            " 1/11 [=>............................] - ETA: 0s - loss: 0.4150 - accuracy: 0.8594\n",
            "Epoch 123: saving model to model/keypoint_classifier\\keypoint_classifier.hdf5\n",
            "11/11 [==============================] - 0s 10ms/step - loss: 0.4294 - accuracy: 0.8393 - val_loss: 0.2240 - val_accuracy: 0.9374\n",
            "Epoch 124/1000\n",
            " 1/11 [=>............................] - ETA: 0s - loss: 0.3758 - accuracy: 0.8828\n",
            "Epoch 124: saving model to model/keypoint_classifier\\keypoint_classifier.hdf5\n",
            "11/11 [==============================] - 0s 9ms/step - loss: 0.4299 - accuracy: 0.8545 - val_loss: 0.2198 - val_accuracy: 0.9352\n",
            "Epoch 125/1000\n",
            " 1/11 [=>............................] - ETA: 0s - loss: 0.3616 - accuracy: 0.8750\n",
            "Epoch 125: saving model to model/keypoint_classifier\\keypoint_classifier.hdf5\n",
            "11/11 [==============================] - 0s 10ms/step - loss: 0.4060 - accuracy: 0.8516 - val_loss: 0.2167 - val_accuracy: 0.9352\n",
            "Epoch 126/1000\n",
            " 1/11 [=>............................] - ETA: 0s - loss: 0.4188 - accuracy: 0.8750\n",
            "Epoch 126: saving model to model/keypoint_classifier\\keypoint_classifier.hdf5\n",
            "11/11 [==============================] - 0s 9ms/step - loss: 0.4566 - accuracy: 0.8350 - val_loss: 0.2189 - val_accuracy: 0.9417\n",
            "Epoch 127/1000\n",
            " 1/11 [=>............................] - ETA: 0s - loss: 0.5100 - accuracy: 0.8203\n",
            "Epoch 127: saving model to model/keypoint_classifier\\keypoint_classifier.hdf5\n",
            "11/11 [==============================] - 0s 8ms/step - loss: 0.4440 - accuracy: 0.8516 - val_loss: 0.2239 - val_accuracy: 0.9482\n",
            "Epoch 128/1000\n",
            " 1/11 [=>............................] - ETA: 0s - loss: 0.6416 - accuracy: 0.7969\n",
            "Epoch 128: saving model to model/keypoint_classifier\\keypoint_classifier.hdf5\n",
            "11/11 [==============================] - 0s 9ms/step - loss: 0.4371 - accuracy: 0.8386 - val_loss: 0.2232 - val_accuracy: 0.9417\n",
            "Epoch 129/1000\n",
            " 1/11 [=>............................] - ETA: 0s - loss: 0.3329 - accuracy: 0.8906\n",
            "Epoch 129: saving model to model/keypoint_classifier\\keypoint_classifier.hdf5\n",
            "11/11 [==============================] - 0s 8ms/step - loss: 0.4436 - accuracy: 0.8401 - val_loss: 0.2195 - val_accuracy: 0.9460\n",
            "Epoch 130/1000\n",
            " 1/11 [=>............................] - ETA: 0s - loss: 0.4199 - accuracy: 0.8438\n",
            "Epoch 130: saving model to model/keypoint_classifier\\keypoint_classifier.hdf5\n",
            "11/11 [==============================] - 0s 12ms/step - loss: 0.4156 - accuracy: 0.8465 - val_loss: 0.2194 - val_accuracy: 0.9546\n",
            "Epoch 131/1000\n",
            " 1/11 [=>............................] - ETA: 0s - loss: 0.4079 - accuracy: 0.8125\n",
            "Epoch 131: saving model to model/keypoint_classifier\\keypoint_classifier.hdf5\n",
            "11/11 [==============================] - 0s 8ms/step - loss: 0.4398 - accuracy: 0.8357 - val_loss: 0.2211 - val_accuracy: 0.9330\n",
            "Epoch 132/1000\n",
            " 1/11 [=>............................] - ETA: 0s - loss: 0.3289 - accuracy: 0.8828\n",
            "Epoch 132: saving model to model/keypoint_classifier\\keypoint_classifier.hdf5\n",
            "11/11 [==============================] - 0s 9ms/step - loss: 0.4165 - accuracy: 0.8365 - val_loss: 0.2158 - val_accuracy: 0.9309\n",
            "Epoch 133/1000\n",
            " 1/11 [=>............................] - ETA: 0s - loss: 0.4029 - accuracy: 0.8281\n",
            "Epoch 133: saving model to model/keypoint_classifier\\keypoint_classifier.hdf5\n",
            "11/11 [==============================] - 0s 9ms/step - loss: 0.4349 - accuracy: 0.8386 - val_loss: 0.2133 - val_accuracy: 0.9503\n",
            "Epoch 134/1000\n",
            " 1/11 [=>............................] - ETA: 0s - loss: 0.5100 - accuracy: 0.8281\n",
            "Epoch 134: saving model to model/keypoint_classifier\\keypoint_classifier.hdf5\n",
            "11/11 [==============================] - 0s 9ms/step - loss: 0.4363 - accuracy: 0.8473 - val_loss: 0.2125 - val_accuracy: 0.9503\n",
            "Epoch 135/1000\n",
            " 1/11 [=>............................] - ETA: 0s - loss: 0.4177 - accuracy: 0.8438\n",
            "Epoch 135: saving model to model/keypoint_classifier\\keypoint_classifier.hdf5\n",
            "11/11 [==============================] - 0s 9ms/step - loss: 0.4304 - accuracy: 0.8401 - val_loss: 0.2130 - val_accuracy: 0.9503\n",
            "Epoch 136/1000\n",
            " 1/11 [=>............................] - ETA: 0s - loss: 0.4593 - accuracy: 0.8438\n",
            "Epoch 136: saving model to model/keypoint_classifier\\keypoint_classifier.hdf5\n",
            "11/11 [==============================] - 0s 8ms/step - loss: 0.4330 - accuracy: 0.8465 - val_loss: 0.2110 - val_accuracy: 0.9395\n",
            "Epoch 137/1000\n",
            " 1/11 [=>............................] - ETA: 0s - loss: 0.5417 - accuracy: 0.8203\n",
            "Epoch 137: saving model to model/keypoint_classifier\\keypoint_classifier.hdf5\n",
            "11/11 [==============================] - 0s 8ms/step - loss: 0.4437 - accuracy: 0.8379 - val_loss: 0.2124 - val_accuracy: 0.9460\n",
            "Epoch 138/1000\n",
            " 1/11 [=>............................] - ETA: 0s - loss: 0.4138 - accuracy: 0.8594\n",
            "Epoch 138: saving model to model/keypoint_classifier\\keypoint_classifier.hdf5\n",
            "11/11 [==============================] - 0s 8ms/step - loss: 0.4161 - accuracy: 0.8559 - val_loss: 0.2174 - val_accuracy: 0.9395\n",
            "Epoch 139/1000\n",
            " 1/11 [=>............................] - ETA: 0s - loss: 0.3382 - accuracy: 0.8828\n",
            "Epoch 139: saving model to model/keypoint_classifier\\keypoint_classifier.hdf5\n",
            "11/11 [==============================] - 0s 8ms/step - loss: 0.4107 - accuracy: 0.8523 - val_loss: 0.2181 - val_accuracy: 0.9374\n",
            "Epoch 140/1000\n",
            " 1/11 [=>............................] - ETA: 0s - loss: 0.3229 - accuracy: 0.8594\n",
            "Epoch 140: saving model to model/keypoint_classifier\\keypoint_classifier.hdf5\n",
            "11/11 [==============================] - 0s 9ms/step - loss: 0.4317 - accuracy: 0.8494 - val_loss: 0.2137 - val_accuracy: 0.9417\n",
            "Epoch 141/1000\n",
            " 1/11 [=>............................] - ETA: 0s - loss: 0.2828 - accuracy: 0.9062\n",
            "Epoch 141: saving model to model/keypoint_classifier\\keypoint_classifier.hdf5\n",
            "11/11 [==============================] - 0s 12ms/step - loss: 0.4254 - accuracy: 0.8487 - val_loss: 0.2162 - val_accuracy: 0.9503\n",
            "Epoch 142/1000\n",
            " 1/11 [=>............................] - ETA: 0s - loss: 0.4272 - accuracy: 0.8594\n",
            "Epoch 142: saving model to model/keypoint_classifier\\keypoint_classifier.hdf5\n",
            "11/11 [==============================] - 0s 8ms/step - loss: 0.4290 - accuracy: 0.8415 - val_loss: 0.2157 - val_accuracy: 0.9503\n",
            "Epoch 143/1000\n",
            " 1/11 [=>............................] - ETA: 0s - loss: 0.4058 - accuracy: 0.8594\n",
            "Epoch 143: saving model to model/keypoint_classifier\\keypoint_classifier.hdf5\n",
            "11/11 [==============================] - 0s 10ms/step - loss: 0.4197 - accuracy: 0.8509 - val_loss: 0.2146 - val_accuracy: 0.9374\n",
            "Epoch 144/1000\n",
            " 1/11 [=>............................] - ETA: 0s - loss: 0.4727 - accuracy: 0.8516\n",
            "Epoch 144: saving model to model/keypoint_classifier\\keypoint_classifier.hdf5\n",
            "11/11 [==============================] - 0s 8ms/step - loss: 0.4220 - accuracy: 0.8559 - val_loss: 0.2159 - val_accuracy: 0.9395\n",
            "Epoch 145/1000\n",
            " 1/11 [=>............................] - ETA: 0s - loss: 0.3960 - accuracy: 0.8594\n",
            "Epoch 145: saving model to model/keypoint_classifier\\keypoint_classifier.hdf5\n",
            "11/11 [==============================] - 0s 8ms/step - loss: 0.4407 - accuracy: 0.8509 - val_loss: 0.2215 - val_accuracy: 0.9395\n",
            "Epoch 146/1000\n",
            " 1/11 [=>............................] - ETA: 0s - loss: 0.4673 - accuracy: 0.7891\n",
            "Epoch 146: saving model to model/keypoint_classifier\\keypoint_classifier.hdf5\n",
            "11/11 [==============================] - 0s 8ms/step - loss: 0.4269 - accuracy: 0.8415 - val_loss: 0.2184 - val_accuracy: 0.9417\n",
            "Epoch 147/1000\n",
            " 1/11 [=>............................] - ETA: 0s - loss: 0.3417 - accuracy: 0.8906\n",
            "Epoch 147: saving model to model/keypoint_classifier\\keypoint_classifier.hdf5\n",
            "11/11 [==============================] - 0s 8ms/step - loss: 0.4013 - accuracy: 0.8581 - val_loss: 0.2101 - val_accuracy: 0.9503\n",
            "Epoch 148/1000\n",
            " 1/11 [=>............................] - ETA: 0s - loss: 0.5058 - accuracy: 0.8672\n",
            "Epoch 148: saving model to model/keypoint_classifier\\keypoint_classifier.hdf5\n",
            "11/11 [==============================] - 0s 8ms/step - loss: 0.4319 - accuracy: 0.8509 - val_loss: 0.2058 - val_accuracy: 0.9546\n",
            "Epoch 149/1000\n",
            " 1/11 [=>............................] - ETA: 0s - loss: 0.3198 - accuracy: 0.8750\n",
            "Epoch 149: saving model to model/keypoint_classifier\\keypoint_classifier.hdf5\n",
            "11/11 [==============================] - 0s 8ms/step - loss: 0.4235 - accuracy: 0.8422 - val_loss: 0.2057 - val_accuracy: 0.9590\n",
            "Epoch 150/1000\n",
            " 1/11 [=>............................] - ETA: 0s - loss: 0.4854 - accuracy: 0.8125\n",
            "Epoch 150: saving model to model/keypoint_classifier\\keypoint_classifier.hdf5\n",
            "11/11 [==============================] - 0s 8ms/step - loss: 0.4271 - accuracy: 0.8429 - val_loss: 0.2063 - val_accuracy: 0.9590\n",
            "Epoch 151/1000\n",
            " 1/11 [=>............................] - ETA: 0s - loss: 0.3686 - accuracy: 0.8906\n",
            "Epoch 151: saving model to model/keypoint_classifier\\keypoint_classifier.hdf5\n",
            "11/11 [==============================] - 0s 8ms/step - loss: 0.4153 - accuracy: 0.8494 - val_loss: 0.2052 - val_accuracy: 0.9568\n",
            "Epoch 152/1000\n",
            " 1/11 [=>............................] - ETA: 0s - loss: 0.3073 - accuracy: 0.8672\n",
            "Epoch 152: saving model to model/keypoint_classifier\\keypoint_classifier.hdf5\n",
            "11/11 [==============================] - 0s 11ms/step - loss: 0.4122 - accuracy: 0.8552 - val_loss: 0.2013 - val_accuracy: 0.9503\n",
            "Epoch 153/1000\n",
            " 1/11 [=>............................] - ETA: 0s - loss: 0.4310 - accuracy: 0.8438\n",
            "Epoch 153: saving model to model/keypoint_classifier\\keypoint_classifier.hdf5\n",
            "11/11 [==============================] - 0s 8ms/step - loss: 0.4346 - accuracy: 0.8285 - val_loss: 0.2051 - val_accuracy: 0.9438\n",
            "Epoch 154/1000\n",
            " 1/11 [=>............................] - ETA: 0s - loss: 0.4216 - accuracy: 0.8516\n",
            "Epoch 154: saving model to model/keypoint_classifier\\keypoint_classifier.hdf5\n",
            "11/11 [==============================] - 0s 8ms/step - loss: 0.4061 - accuracy: 0.8480 - val_loss: 0.2047 - val_accuracy: 0.9438\n",
            "Epoch 155/1000\n",
            " 1/11 [=>............................] - ETA: 0s - loss: 0.5044 - accuracy: 0.8438\n",
            "Epoch 155: saving model to model/keypoint_classifier\\keypoint_classifier.hdf5\n",
            "11/11 [==============================] - 0s 8ms/step - loss: 0.4106 - accuracy: 0.8624 - val_loss: 0.2101 - val_accuracy: 0.9546\n",
            "Epoch 156/1000\n",
            " 1/11 [=>............................] - ETA: 0s - loss: 0.3215 - accuracy: 0.8906\n",
            "Epoch 156: saving model to model/keypoint_classifier\\keypoint_classifier.hdf5\n",
            "11/11 [==============================] - 0s 8ms/step - loss: 0.4054 - accuracy: 0.8530 - val_loss: 0.2020 - val_accuracy: 0.9611\n",
            "Epoch 157/1000\n",
            " 1/11 [=>............................] - ETA: 0s - loss: 0.3939 - accuracy: 0.8672\n",
            "Epoch 157: saving model to model/keypoint_classifier\\keypoint_classifier.hdf5\n",
            "11/11 [==============================] - 0s 8ms/step - loss: 0.3769 - accuracy: 0.8696 - val_loss: 0.1938 - val_accuracy: 0.9590\n",
            "Epoch 158/1000\n",
            " 1/11 [=>............................] - ETA: 0s - loss: 0.3995 - accuracy: 0.8672\n",
            "Epoch 158: saving model to model/keypoint_classifier\\keypoint_classifier.hdf5\n",
            "11/11 [==============================] - 0s 8ms/step - loss: 0.4095 - accuracy: 0.8494 - val_loss: 0.1939 - val_accuracy: 0.9590\n",
            "Epoch 159/1000\n",
            " 1/11 [=>............................] - ETA: 0s - loss: 0.4395 - accuracy: 0.8438\n",
            "Epoch 159: saving model to model/keypoint_classifier\\keypoint_classifier.hdf5\n",
            "11/11 [==============================] - 0s 9ms/step - loss: 0.4147 - accuracy: 0.8523 - val_loss: 0.1985 - val_accuracy: 0.9568\n",
            "Epoch 160/1000\n",
            " 1/11 [=>............................] - ETA: 0s - loss: 0.4356 - accuracy: 0.8594\n",
            "Epoch 160: saving model to model/keypoint_classifier\\keypoint_classifier.hdf5\n",
            "11/11 [==============================] - 0s 9ms/step - loss: 0.3931 - accuracy: 0.8667 - val_loss: 0.2023 - val_accuracy: 0.9611\n",
            "Epoch 161/1000\n",
            " 1/11 [=>............................] - ETA: 0s - loss: 0.5354 - accuracy: 0.8125\n",
            "Epoch 161: saving model to model/keypoint_classifier\\keypoint_classifier.hdf5\n",
            "11/11 [==============================] - 0s 8ms/step - loss: 0.4051 - accuracy: 0.8487 - val_loss: 0.2010 - val_accuracy: 0.9590\n",
            "Epoch 162/1000\n",
            " 1/11 [=>............................] - ETA: 0s - loss: 0.3536 - accuracy: 0.8906\n",
            "Epoch 162: saving model to model/keypoint_classifier\\keypoint_classifier.hdf5\n",
            "11/11 [==============================] - 0s 11ms/step - loss: 0.4090 - accuracy: 0.8530 - val_loss: 0.1991 - val_accuracy: 0.9590\n",
            "Epoch 163/1000\n",
            " 1/11 [=>............................] - ETA: 0s - loss: 0.4303 - accuracy: 0.8672\n",
            "Epoch 163: saving model to model/keypoint_classifier\\keypoint_classifier.hdf5\n",
            "11/11 [==============================] - 0s 8ms/step - loss: 0.3989 - accuracy: 0.8581 - val_loss: 0.1957 - val_accuracy: 0.9568\n",
            "Epoch 164/1000\n",
            " 1/11 [=>............................] - ETA: 0s - loss: 0.3473 - accuracy: 0.8906\n",
            "Epoch 164: saving model to model/keypoint_classifier\\keypoint_classifier.hdf5\n",
            "11/11 [==============================] - 0s 8ms/step - loss: 0.4526 - accuracy: 0.8372 - val_loss: 0.1982 - val_accuracy: 0.9633\n",
            "Epoch 165/1000\n",
            " 1/11 [=>............................] - ETA: 0s - loss: 0.4537 - accuracy: 0.8359\n",
            "Epoch 165: saving model to model/keypoint_classifier\\keypoint_classifier.hdf5\n",
            "11/11 [==============================] - 0s 8ms/step - loss: 0.4091 - accuracy: 0.8509 - val_loss: 0.2047 - val_accuracy: 0.9654\n",
            "Epoch 166/1000\n",
            " 1/11 [=>............................] - ETA: 0s - loss: 0.4368 - accuracy: 0.8281\n",
            "Epoch 166: saving model to model/keypoint_classifier\\keypoint_classifier.hdf5\n",
            "11/11 [==============================] - 0s 9ms/step - loss: 0.3898 - accuracy: 0.8653 - val_loss: 0.2014 - val_accuracy: 0.9654\n",
            "Epoch 167/1000\n",
            " 1/11 [=>............................] - ETA: 0s - loss: 0.3737 - accuracy: 0.8984\n",
            "Epoch 167: saving model to model/keypoint_classifier\\keypoint_classifier.hdf5\n",
            "11/11 [==============================] - 0s 8ms/step - loss: 0.3978 - accuracy: 0.8545 - val_loss: 0.2021 - val_accuracy: 0.9590\n",
            "Epoch 168/1000\n",
            " 1/11 [=>............................] - ETA: 0s - loss: 0.5000 - accuracy: 0.8281\n",
            "Epoch 168: saving model to model/keypoint_classifier\\keypoint_classifier.hdf5\n",
            "11/11 [==============================] - 0s 8ms/step - loss: 0.4002 - accuracy: 0.8465 - val_loss: 0.1979 - val_accuracy: 0.9546\n",
            "Epoch 169/1000\n",
            " 1/11 [=>............................] - ETA: 0s - loss: 0.5458 - accuracy: 0.7969\n",
            "Epoch 169: saving model to model/keypoint_classifier\\keypoint_classifier.hdf5\n",
            "11/11 [==============================] - 0s 8ms/step - loss: 0.4162 - accuracy: 0.8494 - val_loss: 0.2037 - val_accuracy: 0.9503\n",
            "Epoch 170/1000\n",
            " 1/11 [=>............................] - ETA: 0s - loss: 0.3142 - accuracy: 0.8984\n",
            "Epoch 170: saving model to model/keypoint_classifier\\keypoint_classifier.hdf5\n",
            "11/11 [==============================] - 0s 9ms/step - loss: 0.3949 - accuracy: 0.8545 - val_loss: 0.2053 - val_accuracy: 0.9438\n",
            "Epoch 171/1000\n",
            " 1/11 [=>............................] - ETA: 0s - loss: 0.3846 - accuracy: 0.8516\n",
            "Epoch 171: saving model to model/keypoint_classifier\\keypoint_classifier.hdf5\n",
            "11/11 [==============================] - 0s 8ms/step - loss: 0.3992 - accuracy: 0.8581 - val_loss: 0.1993 - val_accuracy: 0.9482\n",
            "Epoch 172/1000\n",
            " 1/11 [=>............................] - ETA: 0s - loss: 0.3838 - accuracy: 0.8438\n",
            "Epoch 172: saving model to model/keypoint_classifier\\keypoint_classifier.hdf5\n",
            "11/11 [==============================] - 0s 11ms/step - loss: 0.3858 - accuracy: 0.8653 - val_loss: 0.1946 - val_accuracy: 0.9633\n",
            "Epoch 173/1000\n",
            " 1/11 [=>............................] - ETA: 0s - loss: 0.3373 - accuracy: 0.8828\n",
            "Epoch 173: saving model to model/keypoint_classifier\\keypoint_classifier.hdf5\n",
            "11/11 [==============================] - 0s 8ms/step - loss: 0.3682 - accuracy: 0.8782 - val_loss: 0.1895 - val_accuracy: 0.9654\n",
            "Epoch 174/1000\n",
            " 1/11 [=>............................] - ETA: 0s - loss: 0.3928 - accuracy: 0.8594\n",
            "Epoch 174: saving model to model/keypoint_classifier\\keypoint_classifier.hdf5\n",
            "11/11 [==============================] - 0s 9ms/step - loss: 0.4156 - accuracy: 0.8465 - val_loss: 0.1893 - val_accuracy: 0.9633\n",
            "Epoch 175/1000\n",
            " 1/11 [=>............................] - ETA: 0s - loss: 0.4779 - accuracy: 0.8438\n",
            "Epoch 175: saving model to model/keypoint_classifier\\keypoint_classifier.hdf5\n",
            "11/11 [==============================] - 0s 8ms/step - loss: 0.4084 - accuracy: 0.8610 - val_loss: 0.1902 - val_accuracy: 0.9654\n",
            "Epoch 176/1000\n",
            " 1/11 [=>............................] - ETA: 0s - loss: 0.4419 - accuracy: 0.8672\n",
            "Epoch 176: saving model to model/keypoint_classifier\\keypoint_classifier.hdf5\n",
            "11/11 [==============================] - 0s 9ms/step - loss: 0.4329 - accuracy: 0.8458 - val_loss: 0.1923 - val_accuracy: 0.9590\n",
            "Epoch 177/1000\n",
            " 1/11 [=>............................] - ETA: 0s - loss: 0.3852 - accuracy: 0.8828\n",
            "Epoch 177: saving model to model/keypoint_classifier\\keypoint_classifier.hdf5\n",
            "11/11 [==============================] - 0s 8ms/step - loss: 0.3799 - accuracy: 0.8667 - val_loss: 0.1895 - val_accuracy: 0.9611\n",
            "Epoch 178/1000\n",
            " 1/11 [=>............................] - ETA: 0s - loss: 0.3553 - accuracy: 0.8828\n",
            "Epoch 178: saving model to model/keypoint_classifier\\keypoint_classifier.hdf5\n",
            "11/11 [==============================] - 0s 8ms/step - loss: 0.3837 - accuracy: 0.8523 - val_loss: 0.1897 - val_accuracy: 0.9611\n",
            "Epoch 179/1000\n",
            " 1/11 [=>............................] - ETA: 0s - loss: 0.4557 - accuracy: 0.8359\n",
            "Epoch 179: saving model to model/keypoint_classifier\\keypoint_classifier.hdf5\n",
            "11/11 [==============================] - 0s 8ms/step - loss: 0.3840 - accuracy: 0.8617 - val_loss: 0.1845 - val_accuracy: 0.9590\n",
            "Epoch 180/1000\n",
            " 1/11 [=>............................] - ETA: 0s - loss: 0.3838 - accuracy: 0.8828\n",
            "Epoch 180: saving model to model/keypoint_classifier\\keypoint_classifier.hdf5\n",
            "11/11 [==============================] - 0s 8ms/step - loss: 0.3864 - accuracy: 0.8537 - val_loss: 0.1836 - val_accuracy: 0.9568\n",
            "Epoch 181/1000\n",
            " 1/11 [=>............................] - ETA: 0s - loss: 0.5586 - accuracy: 0.7656\n",
            "Epoch 181: saving model to model/keypoint_classifier\\keypoint_classifier.hdf5\n",
            "11/11 [==============================] - 0s 8ms/step - loss: 0.3990 - accuracy: 0.8530 - val_loss: 0.1873 - val_accuracy: 0.9654\n",
            "Epoch 182/1000\n",
            " 1/11 [=>............................] - ETA: 0s - loss: 0.4438 - accuracy: 0.8281\n",
            "Epoch 182: saving model to model/keypoint_classifier\\keypoint_classifier.hdf5\n",
            "11/11 [==============================] - 0s 11ms/step - loss: 0.4125 - accuracy: 0.8487 - val_loss: 0.1924 - val_accuracy: 0.9546\n",
            "Epoch 183/1000\n",
            " 1/11 [=>............................] - ETA: 0s - loss: 0.3441 - accuracy: 0.8828\n",
            "Epoch 183: saving model to model/keypoint_classifier\\keypoint_classifier.hdf5\n",
            "11/11 [==============================] - 0s 8ms/step - loss: 0.3611 - accuracy: 0.8746 - val_loss: 0.1889 - val_accuracy: 0.9546\n",
            "Epoch 184/1000\n",
            " 1/11 [=>............................] - ETA: 0s - loss: 0.4896 - accuracy: 0.8047\n",
            "Epoch 184: saving model to model/keypoint_classifier\\keypoint_classifier.hdf5\n",
            "11/11 [==============================] - 0s 8ms/step - loss: 0.3838 - accuracy: 0.8602 - val_loss: 0.1872 - val_accuracy: 0.9482\n",
            "Epoch 185/1000\n",
            " 1/11 [=>............................] - ETA: 0s - loss: 0.4916 - accuracy: 0.8359\n",
            "Epoch 185: saving model to model/keypoint_classifier\\keypoint_classifier.hdf5\n",
            "11/11 [==============================] - 0s 8ms/step - loss: 0.3829 - accuracy: 0.8638 - val_loss: 0.1862 - val_accuracy: 0.9525\n",
            "Epoch 186/1000\n",
            " 1/11 [=>............................] - ETA: 0s - loss: 0.4984 - accuracy: 0.8516\n",
            "Epoch 186: saving model to model/keypoint_classifier\\keypoint_classifier.hdf5\n",
            "11/11 [==============================] - 0s 8ms/step - loss: 0.4021 - accuracy: 0.8617 - val_loss: 0.1812 - val_accuracy: 0.9611\n",
            "Epoch 187/1000\n",
            " 1/11 [=>............................] - ETA: 0s - loss: 0.3511 - accuracy: 0.8672\n",
            "Epoch 187: saving model to model/keypoint_classifier\\keypoint_classifier.hdf5\n",
            "11/11 [==============================] - 0s 8ms/step - loss: 0.3923 - accuracy: 0.8710 - val_loss: 0.1725 - val_accuracy: 0.9654\n",
            "Epoch 188/1000\n",
            " 1/11 [=>............................] - ETA: 0s - loss: 0.4641 - accuracy: 0.8125\n",
            "Epoch 188: saving model to model/keypoint_classifier\\keypoint_classifier.hdf5\n",
            "11/11 [==============================] - 0s 8ms/step - loss: 0.3798 - accuracy: 0.8545 - val_loss: 0.1749 - val_accuracy: 0.9633\n",
            "Epoch 189/1000\n",
            " 1/11 [=>............................] - ETA: 0s - loss: 0.4413 - accuracy: 0.8438\n",
            "Epoch 189: saving model to model/keypoint_classifier\\keypoint_classifier.hdf5\n",
            "11/11 [==============================] - 0s 8ms/step - loss: 0.3943 - accuracy: 0.8516 - val_loss: 0.1809 - val_accuracy: 0.9546\n",
            "Epoch 190/1000\n",
            " 1/11 [=>............................] - ETA: 0s - loss: 0.4016 - accuracy: 0.8516\n",
            "Epoch 190: saving model to model/keypoint_classifier\\keypoint_classifier.hdf5\n",
            "11/11 [==============================] - 0s 8ms/step - loss: 0.3878 - accuracy: 0.8660 - val_loss: 0.1890 - val_accuracy: 0.9525\n",
            "Epoch 191/1000\n",
            " 1/11 [=>............................] - ETA: 0s - loss: 0.4322 - accuracy: 0.8516\n",
            "Epoch 191: saving model to model/keypoint_classifier\\keypoint_classifier.hdf5\n",
            "11/11 [==============================] - 0s 9ms/step - loss: 0.3924 - accuracy: 0.8595 - val_loss: 0.1873 - val_accuracy: 0.9590\n",
            "Epoch 192/1000\n",
            " 1/11 [=>............................] - ETA: 0s - loss: 0.4320 - accuracy: 0.8672\n",
            "Epoch 192: saving model to model/keypoint_classifier\\keypoint_classifier.hdf5\n",
            "11/11 [==============================] - 0s 10ms/step - loss: 0.3582 - accuracy: 0.8761 - val_loss: 0.1806 - val_accuracy: 0.9654\n",
            "Epoch 193/1000\n",
            " 1/11 [=>............................] - ETA: 0s - loss: 0.3779 - accuracy: 0.8672\n",
            "Epoch 193: saving model to model/keypoint_classifier\\keypoint_classifier.hdf5\n",
            "11/11 [==============================] - 0s 8ms/step - loss: 0.3833 - accuracy: 0.8588 - val_loss: 0.1793 - val_accuracy: 0.9654\n",
            "Epoch 194/1000\n",
            " 1/11 [=>............................] - ETA: 0s - loss: 0.3564 - accuracy: 0.8906\n",
            "Epoch 194: saving model to model/keypoint_classifier\\keypoint_classifier.hdf5\n",
            "11/11 [==============================] - 0s 8ms/step - loss: 0.3654 - accuracy: 0.8595 - val_loss: 0.1816 - val_accuracy: 0.9676\n",
            "Epoch 195/1000\n",
            " 1/11 [=>............................] - ETA: 0s - loss: 0.3479 - accuracy: 0.8594\n",
            "Epoch 195: saving model to model/keypoint_classifier\\keypoint_classifier.hdf5\n",
            "11/11 [==============================] - 0s 8ms/step - loss: 0.3775 - accuracy: 0.8624 - val_loss: 0.1801 - val_accuracy: 0.9654\n",
            "Epoch 196/1000\n",
            " 1/11 [=>............................] - ETA: 0s - loss: 0.3383 - accuracy: 0.8906\n",
            "Epoch 196: saving model to model/keypoint_classifier\\keypoint_classifier.hdf5\n",
            "11/11 [==============================] - 0s 8ms/step - loss: 0.3995 - accuracy: 0.8501 - val_loss: 0.1808 - val_accuracy: 0.9654\n",
            "Epoch 197/1000\n",
            " 1/11 [=>............................] - ETA: 0s - loss: 0.3304 - accuracy: 0.8672\n",
            "Epoch 197: saving model to model/keypoint_classifier\\keypoint_classifier.hdf5\n",
            "11/11 [==============================] - 0s 8ms/step - loss: 0.3773 - accuracy: 0.8725 - val_loss: 0.1827 - val_accuracy: 0.9654\n",
            "Epoch 198/1000\n",
            " 1/11 [=>............................] - ETA: 0s - loss: 0.3389 - accuracy: 0.8672\n",
            "Epoch 198: saving model to model/keypoint_classifier\\keypoint_classifier.hdf5\n",
            "11/11 [==============================] - 0s 8ms/step - loss: 0.3728 - accuracy: 0.8746 - val_loss: 0.1835 - val_accuracy: 0.9568\n",
            "Epoch 199/1000\n",
            " 1/11 [=>............................] - ETA: 0s - loss: 0.3865 - accuracy: 0.8750\n",
            "Epoch 199: saving model to model/keypoint_classifier\\keypoint_classifier.hdf5\n",
            "11/11 [==============================] - 0s 9ms/step - loss: 0.3773 - accuracy: 0.8682 - val_loss: 0.1791 - val_accuracy: 0.9546\n",
            "Epoch 200/1000\n",
            " 1/11 [=>............................] - ETA: 0s - loss: 0.4597 - accuracy: 0.8516\n",
            "Epoch 200: saving model to model/keypoint_classifier\\keypoint_classifier.hdf5\n",
            "11/11 [==============================] - 0s 8ms/step - loss: 0.3917 - accuracy: 0.8516 - val_loss: 0.1770 - val_accuracy: 0.9654\n",
            "Epoch 201/1000\n",
            " 1/11 [=>............................] - ETA: 0s - loss: 0.4268 - accuracy: 0.8516\n",
            "Epoch 201: saving model to model/keypoint_classifier\\keypoint_classifier.hdf5\n",
            "11/11 [==============================] - 0s 11ms/step - loss: 0.3928 - accuracy: 0.8530 - val_loss: 0.1748 - val_accuracy: 0.9654\n",
            "Epoch 202/1000\n",
            " 1/11 [=>............................] - ETA: 0s - loss: 0.4379 - accuracy: 0.8594\n",
            "Epoch 202: saving model to model/keypoint_classifier\\keypoint_classifier.hdf5\n",
            "11/11 [==============================] - 0s 8ms/step - loss: 0.3805 - accuracy: 0.8624 - val_loss: 0.1802 - val_accuracy: 0.9654\n",
            "Epoch 203/1000\n",
            " 1/11 [=>............................] - ETA: 0s - loss: 0.4712 - accuracy: 0.8203\n",
            "Epoch 203: saving model to model/keypoint_classifier\\keypoint_classifier.hdf5\n",
            "11/11 [==============================] - 0s 8ms/step - loss: 0.3797 - accuracy: 0.8530 - val_loss: 0.1837 - val_accuracy: 0.9546\n",
            "Epoch 204/1000\n",
            " 1/11 [=>............................] - ETA: 0s - loss: 0.3227 - accuracy: 0.8828\n",
            "Epoch 204: saving model to model/keypoint_classifier\\keypoint_classifier.hdf5\n",
            "11/11 [==============================] - 0s 10ms/step - loss: 0.3829 - accuracy: 0.8660 - val_loss: 0.1851 - val_accuracy: 0.9590\n",
            "Epoch 205/1000\n",
            " 1/11 [=>............................] - ETA: 0s - loss: 0.4081 - accuracy: 0.8594\n",
            "Epoch 205: saving model to model/keypoint_classifier\\keypoint_classifier.hdf5\n",
            "11/11 [==============================] - 0s 8ms/step - loss: 0.3942 - accuracy: 0.8624 - val_loss: 0.1795 - val_accuracy: 0.9654\n",
            "Epoch 206/1000\n",
            " 1/11 [=>............................] - ETA: 0s - loss: 0.4564 - accuracy: 0.8359\n",
            "Epoch 206: saving model to model/keypoint_classifier\\keypoint_classifier.hdf5\n",
            "11/11 [==============================] - 0s 9ms/step - loss: 0.3855 - accuracy: 0.8638 - val_loss: 0.1830 - val_accuracy: 0.9633\n",
            "Epoch 207/1000\n",
            " 1/11 [=>............................] - ETA: 0s - loss: 0.4834 - accuracy: 0.8203\n",
            "Epoch 207: saving model to model/keypoint_classifier\\keypoint_classifier.hdf5\n",
            "11/11 [==============================] - 0s 8ms/step - loss: 0.3484 - accuracy: 0.8782 - val_loss: 0.1820 - val_accuracy: 0.9633\n",
            "Epoch 207: early stopping\n"
          ]
        },
        {
          "data": {
            "text/plain": [
              "<keras.src.callbacks.History at 0x2034c6e9450>"
            ]
          },
          "execution_count": 11,
          "metadata": {},
          "output_type": "execute_result"
        }
      ],
      "source": [
        "model.fit(\n",
        "    X_train,\n",
        "    y_train,\n",
        "    epochs=1000,\n",
        "    batch_size=128,\n",
        "    validation_data=(X_test, y_test),\n",
        "    callbacks=[cp_callback, es_callback]\n",
        ")"
      ]
    },
    {
      "cell_type": "code",
      "execution_count": 12,
      "metadata": {
        "colab": {
          "base_uri": "https://localhost:8080/"
        },
        "id": "pxvb2Y299hE3",
        "outputId": "59eb3185-2e37-4b9e-bc9d-ab1b8ac29b7f"
      },
      "outputs": [
        {
          "name": "stdout",
          "output_type": "stream",
          "text": [
            "4/4 [==============================] - 0s 6ms/step - loss: 0.1820 - accuracy: 0.9633\n"
          ]
        }
      ],
      "source": [
        "# Model evaluation\n",
        "val_loss, val_acc = model.evaluate(X_test, y_test, batch_size=128)"
      ]
    },
    {
      "cell_type": "code",
      "execution_count": 13,
      "metadata": {
        "id": "RBkmDeUW9hE4"
      },
      "outputs": [],
      "source": [
        "# Loading the saved model\n",
        "model = tf.keras.models.load_model(model_save_path)"
      ]
    },
    {
      "cell_type": "code",
      "execution_count": 14,
      "metadata": {
        "colab": {
          "base_uri": "https://localhost:8080/"
        },
        "id": "tFz9Tb0I9hE4",
        "outputId": "1c3b3528-54ae-4ee2-ab04-77429211cbef"
      },
      "outputs": [
        {
          "name": "stdout",
          "output_type": "stream",
          "text": [
            "1/1 [==============================] - 0s 109ms/step\n",
            "[5.9018836e-05 3.9641261e-02 8.5625774e-01 5.3103511e-05 1.0392386e-01\n",
            " 6.5040455e-05]\n",
            "2\n"
          ]
        }
      ],
      "source": [
        "# Inference test\n",
        "predict_result = model.predict(np.array([X_test[0]]))\n",
        "print(np.squeeze(predict_result))\n",
        "print(np.argmax(np.squeeze(predict_result)))"
      ]
    },
    {
      "cell_type": "markdown",
      "metadata": {
        "id": "S3U4yNWx9hE4"
      },
      "source": [
        "# Confusion matrix"
      ]
    },
    {
      "cell_type": "code",
      "execution_count": 15,
      "metadata": {
        "colab": {
          "base_uri": "https://localhost:8080/",
          "height": 582
        },
        "id": "AP1V6SCk9hE5",
        "outputId": "08e41a80-7a4a-4619-8125-ecc371368d19"
      },
      "outputs": [
        {
          "ename": "ImportError",
          "evalue": "Unable to import required dependencies:\npytz: No module named 'pytz'",
          "output_type": "error",
          "traceback": [
            "\u001b[1;31m---------------------------------------------------------------------------\u001b[0m",
            "\u001b[1;31mImportError\u001b[0m                               Traceback (most recent call last)",
            "Cell \u001b[1;32mIn[15], line 1\u001b[0m\n\u001b[1;32m----> 1\u001b[0m \u001b[38;5;28;01mimport\u001b[39;00m \u001b[38;5;21;01mpandas\u001b[39;00m \u001b[38;5;28;01mas\u001b[39;00m \u001b[38;5;21;01mpd\u001b[39;00m\n\u001b[0;32m      2\u001b[0m \u001b[38;5;28;01mimport\u001b[39;00m \u001b[38;5;21;01mseaborn\u001b[39;00m \u001b[38;5;28;01mas\u001b[39;00m \u001b[38;5;21;01msns\u001b[39;00m\n\u001b[0;32m      3\u001b[0m \u001b[38;5;28;01mimport\u001b[39;00m \u001b[38;5;21;01mmatplotlib\u001b[39;00m\u001b[38;5;21;01m.\u001b[39;00m\u001b[38;5;21;01mpyplot\u001b[39;00m \u001b[38;5;28;01mas\u001b[39;00m \u001b[38;5;21;01mplt\u001b[39;00m\n",
            "File \u001b[1;32mc:\\Users\\Aadi\\OneDrive\\Desktop\\TFODCourse\\tfod\\Lib\\site-packages\\pandas-2.2.0-py3.11-win-amd64.egg\\pandas\\__init__.py:32\u001b[0m\n\u001b[0;32m     29\u001b[0m         _missing_dependencies\u001b[38;5;241m.\u001b[39mappend(\u001b[38;5;124mf\u001b[39m\u001b[38;5;124m\"\u001b[39m\u001b[38;5;132;01m{\u001b[39;00m_dependency\u001b[38;5;132;01m}\u001b[39;00m\u001b[38;5;124m: \u001b[39m\u001b[38;5;132;01m{\u001b[39;00m_e\u001b[38;5;132;01m}\u001b[39;00m\u001b[38;5;124m\"\u001b[39m)\n\u001b[0;32m     31\u001b[0m \u001b[38;5;28;01mif\u001b[39;00m _missing_dependencies:  \u001b[38;5;66;03m# pragma: no cover\u001b[39;00m\n\u001b[1;32m---> 32\u001b[0m     \u001b[38;5;28;01mraise\u001b[39;00m \u001b[38;5;167;01mImportError\u001b[39;00m(\n\u001b[0;32m     33\u001b[0m         \u001b[38;5;124m\"\u001b[39m\u001b[38;5;124mUnable to import required dependencies:\u001b[39m\u001b[38;5;130;01m\\n\u001b[39;00m\u001b[38;5;124m\"\u001b[39m \u001b[38;5;241m+\u001b[39m \u001b[38;5;124m\"\u001b[39m\u001b[38;5;130;01m\\n\u001b[39;00m\u001b[38;5;124m\"\u001b[39m\u001b[38;5;241m.\u001b[39mjoin(_missing_dependencies)\n\u001b[0;32m     34\u001b[0m     )\n\u001b[0;32m     35\u001b[0m \u001b[38;5;28;01mdel\u001b[39;00m _hard_dependencies, _dependency, _missing_dependencies\n\u001b[0;32m     37\u001b[0m \u001b[38;5;28;01mtry\u001b[39;00m:\n\u001b[0;32m     38\u001b[0m     \u001b[38;5;66;03m# numpy compat\u001b[39;00m\n",
            "\u001b[1;31mImportError\u001b[0m: Unable to import required dependencies:\npytz: No module named 'pytz'"
          ]
        }
      ],
      "source": [
        "import pandas as pd\n",
        "import seaborn as sns\n",
        "import matplotlib.pyplot as plt\n",
        "from sklearn.metrics import confusion_matrix, classification_report\n",
        "\n",
        "def print_confusion_matrix(y_true, y_pred, report=True):\n",
        "    labels = sorted(list(set(y_true)))\n",
        "    cmx_data = confusion_matrix(y_true, y_pred, labels=labels)\n",
        "    \n",
        "    df_cmx = pd.DataFrame(cmx_data, index=labels, columns=labels)\n",
        " \n",
        "    fig, ax = plt.subplots(figsize=(7, 6))\n",
        "    sns.heatmap(df_cmx, annot=True, fmt='g' ,square=False)\n",
        "    ax.set_ylim(len(set(y_true)), 0)\n",
        "    plt.show()\n",
        "    \n",
        "    if report:\n",
        "        print('Classification Report')\n",
        "        print(classification_report(y_test, y_pred))\n",
        "\n",
        "Y_pred = model.predict(X_test)\n",
        "y_pred = np.argmax(Y_pred, axis=1)\n",
        "\n",
        "print_confusion_matrix(y_test, y_pred)"
      ]
    },
    {
      "cell_type": "markdown",
      "metadata": {
        "id": "FNP6aqzc9hE5"
      },
      "source": [
        "# Convert to model for Tensorflow-Lite"
      ]
    },
    {
      "cell_type": "code",
      "execution_count": 16,
      "metadata": {
        "id": "ODjnYyld9hE6"
      },
      "outputs": [],
      "source": [
        "# Save as a model dedicated to inference\n",
        "model.save(model_save_path, include_optimizer=False)"
      ]
    },
    {
      "cell_type": "code",
      "execution_count": 17,
      "metadata": {
        "colab": {
          "base_uri": "https://localhost:8080/"
        },
        "id": "zRfuK8Y59hE6",
        "outputId": "a4ca585c-b5d5-4244-8291-8674063209bb"
      },
      "outputs": [
        {
          "name": "stdout",
          "output_type": "stream",
          "text": [
            "INFO:tensorflow:Assets written to: C:\\Users\\Aadi\\AppData\\Local\\Temp\\tmp0b5gygl6\\assets\n"
          ]
        },
        {
          "name": "stderr",
          "output_type": "stream",
          "text": [
            "INFO:tensorflow:Assets written to: C:\\Users\\Aadi\\AppData\\Local\\Temp\\tmp0b5gygl6\\assets\n"
          ]
        },
        {
          "data": {
            "text/plain": [
              "6632"
            ]
          },
          "execution_count": 17,
          "metadata": {},
          "output_type": "execute_result"
        }
      ],
      "source": [
        "# Transform model (quantization)\n",
        "\n",
        "converter = tf.lite.TFLiteConverter.from_keras_model(model)\n",
        "converter.optimizations = [tf.lite.Optimize.DEFAULT]\n",
        "tflite_quantized_model = converter.convert()\n",
        "\n",
        "open(tflite_save_path, 'wb').write(tflite_quantized_model)"
      ]
    },
    {
      "cell_type": "markdown",
      "metadata": {
        "id": "CHBPBXdx9hE6"
      },
      "source": [
        "# Inference test"
      ]
    },
    {
      "cell_type": "code",
      "execution_count": 18,
      "metadata": {
        "id": "mGAzLocO9hE7"
      },
      "outputs": [],
      "source": [
        "interpreter = tf.lite.Interpreter(model_path=tflite_save_path)\n",
        "interpreter.allocate_tensors()"
      ]
    },
    {
      "cell_type": "code",
      "execution_count": 19,
      "metadata": {
        "id": "oQuDK8YS9hE7"
      },
      "outputs": [],
      "source": [
        "# Get I / O tensor\n",
        "input_details = interpreter.get_input_details()\n",
        "output_details = interpreter.get_output_details()"
      ]
    },
    {
      "cell_type": "code",
      "execution_count": 20,
      "metadata": {
        "id": "2_ixAf_l9hE7"
      },
      "outputs": [],
      "source": [
        "interpreter.set_tensor(input_details[0]['index'], np.array([X_test[0]]))"
      ]
    },
    {
      "cell_type": "code",
      "execution_count": 21,
      "metadata": {
        "colab": {
          "base_uri": "https://localhost:8080/"
        },
        "id": "s4FoAnuc9hE7",
        "outputId": "91f18257-8d8b-4ef3-c558-e9b5f94fabbf",
        "scrolled": true
      },
      "outputs": [
        {
          "name": "stdout",
          "output_type": "stream",
          "text": [
            "CPU times: total: 0 ns\n",
            "Wall time: 18.6 ms\n"
          ]
        }
      ],
      "source": [
        "%%time\n",
        "# Inference implementation\n",
        "interpreter.invoke()\n",
        "tflite_results = interpreter.get_tensor(output_details[0]['index'])"
      ]
    },
    {
      "cell_type": "code",
      "execution_count": 22,
      "metadata": {
        "colab": {
          "base_uri": "https://localhost:8080/"
        },
        "id": "vONjp19J9hE8",
        "outputId": "77205e24-fd00-42c4-f7b6-e06e527c2cba"
      },
      "outputs": [
        {
          "name": "stdout",
          "output_type": "stream",
          "text": [
            "[5.90187810e-05 3.96412313e-02 8.56257737e-01 5.31035112e-05\n",
            " 1.03923805e-01 6.50404545e-05]\n",
            "2\n"
          ]
        }
      ],
      "source": [
        "print(np.squeeze(tflite_results))\n",
        "print(np.argmax(np.squeeze(tflite_results)))"
      ]
    }
  ],
  "metadata": {
    "accelerator": "GPU",
    "colab": {
      "collapsed_sections": [],
      "name": "keypoint_classification_EN.ipynb",
      "provenance": [],
      "toc_visible": true
    },
    "kernelspec": {
      "display_name": "tfod",
      "language": "python",
      "name": "tfod"
    },
    "language_info": {
      "codemirror_mode": {
        "name": "ipython",
        "version": 3
      },
      "file_extension": ".py",
      "mimetype": "text/x-python",
      "name": "python",
      "nbconvert_exporter": "python",
      "pygments_lexer": "ipython3",
      "version": "3.11.9"
    }
  },
  "nbformat": 4,
  "nbformat_minor": 0
}
