{
  "cells": [
    {
      "cell_type": "code",
      "execution_count": 1,
      "metadata": {
        "id": "igMyGnjE9hEp"
      },
      "outputs": [
        {
          "name": "stdout",
          "output_type": "stream",
          "text": [
            "WARNING:tensorflow:From C:\\Users\\Aadi\\AppData\\Local\\Packages\\PythonSoftwareFoundation.Python.3.11_qbz5n2kfra8p0\\LocalCache\\local-packages\\Python311\\site-packages\\keras\\src\\losses.py:2976: The name tf.losses.sparse_softmax_cross_entropy is deprecated. Please use tf.compat.v1.losses.sparse_softmax_cross_entropy instead.\n",
            "\n"
          ]
        }
      ],
      "source": [
        "import csv\n",
        "\n",
        "import numpy as np\n",
        "import tensorflow as tf\n",
        "from sklearn.model_selection import train_test_split\n",
        "\n",
        "RANDOM_SEED = 42"
      ]
    },
    {
      "cell_type": "markdown",
      "metadata": {
        "id": "t2HDvhIu9hEr"
      },
      "source": [
        "# Specify each path"
      ]
    },
    {
      "cell_type": "code",
      "execution_count": 2,
      "metadata": {
        "id": "9NvZP2Zn9hEy"
      },
      "outputs": [],
      "source": [
        "dataset = 'model/keypoint_classifier/keypoint.csv'\n",
        "model_save_path = 'model/keypoint_classifier/keypoint_classifier.hdf5'\n",
        "tflite_save_path = 'model/keypoint_classifier/keypoint_classifier.tflite'"
      ]
    },
    {
      "cell_type": "markdown",
      "metadata": {
        "id": "s5oMH7x19hEz"
      },
      "source": [
        "# Set number of classes"
      ]
    },
    {
      "cell_type": "code",
      "execution_count": 3,
      "metadata": {
        "id": "du4kodXL9hEz"
      },
      "outputs": [],
      "source": [
        "NUM_CLASSES = 5"
      ]
    },
    {
      "cell_type": "markdown",
      "metadata": {
        "id": "XjnL0uso9hEz"
      },
      "source": [
        "# Dataset reading"
      ]
    },
    {
      "cell_type": "code",
      "execution_count": 4,
      "metadata": {
        "id": "QT5ZqtEz9hE0"
      },
      "outputs": [],
      "source": [
        "X_dataset = np.loadtxt(dataset, delimiter=',', dtype='float32', usecols=list(range(1, (21 * 2) + 1)))"
      ]
    },
    {
      "cell_type": "code",
      "execution_count": 5,
      "metadata": {
        "id": "QmoKFsp49hE0"
      },
      "outputs": [],
      "source": [
        "y_dataset = np.loadtxt(dataset, delimiter=',', dtype='int32', usecols=(0))"
      ]
    },
    {
      "cell_type": "code",
      "execution_count": 6,
      "metadata": {
        "id": "xQU7JTZ_9hE0"
      },
      "outputs": [],
      "source": [
        "X_train, X_test, y_train, y_test = train_test_split(X_dataset, y_dataset, train_size=0.75, random_state=RANDOM_SEED)"
      ]
    },
    {
      "cell_type": "markdown",
      "metadata": {
        "id": "mxK_lETT9hE0"
      },
      "source": [
        "# Model building"
      ]
    },
    {
      "cell_type": "code",
      "execution_count": 7,
      "metadata": {
        "id": "vHBmUf1t9hE1"
      },
      "outputs": [
        {
          "name": "stdout",
          "output_type": "stream",
          "text": [
            "WARNING:tensorflow:From C:\\Users\\Aadi\\AppData\\Local\\Packages\\PythonSoftwareFoundation.Python.3.11_qbz5n2kfra8p0\\LocalCache\\local-packages\\Python311\\site-packages\\keras\\src\\backend.py:1398: The name tf.executing_eagerly_outside_functions is deprecated. Please use tf.compat.v1.executing_eagerly_outside_functions instead.\n",
            "\n"
          ]
        }
      ],
      "source": [
        "model = tf.keras.models.Sequential([\n",
        "    tf.keras.layers.Input((21 * 2, )),\n",
        "    tf.keras.layers.Dropout(0.2),\n",
        "    tf.keras.layers.Dense(20, activation='relu'),\n",
        "    tf.keras.layers.Dropout(0.4),\n",
        "    tf.keras.layers.Dense(10, activation='relu'),\n",
        "    tf.keras.layers.Dense(NUM_CLASSES, activation='softmax')\n",
        "])"
      ]
    },
    {
      "cell_type": "code",
      "execution_count": 8,
      "metadata": {
        "colab": {
          "base_uri": "https://localhost:8080/"
        },
        "id": "ypqky9tc9hE1",
        "outputId": "5db082bb-30e3-4110-bf63-a1ee777ecd46"
      },
      "outputs": [
        {
          "name": "stdout",
          "output_type": "stream",
          "text": [
            "Model: \"sequential\"\n",
            "_________________________________________________________________\n",
            " Layer (type)                Output Shape              Param #   \n",
            "=================================================================\n",
            " dropout (Dropout)           (None, 42)                0         \n",
            "                                                                 \n",
            " dense (Dense)               (None, 20)                860       \n",
            "                                                                 \n",
            " dropout_1 (Dropout)         (None, 20)                0         \n",
            "                                                                 \n",
            " dense_1 (Dense)             (None, 10)                210       \n",
            "                                                                 \n",
            " dense_2 (Dense)             (None, 5)                 55        \n",
            "                                                                 \n",
            "=================================================================\n",
            "Total params: 1125 (4.39 KB)\n",
            "Trainable params: 1125 (4.39 KB)\n",
            "Non-trainable params: 0 (0.00 Byte)\n",
            "_________________________________________________________________\n"
          ]
        }
      ],
      "source": [
        "model.summary()  # tf.keras.utils.plot_model(model, show_shapes=True)"
      ]
    },
    {
      "cell_type": "code",
      "execution_count": 9,
      "metadata": {
        "id": "MbMjOflQ9hE1"
      },
      "outputs": [],
      "source": [
        "# Model checkpoint callback\n",
        "cp_callback = tf.keras.callbacks.ModelCheckpoint(\n",
        "    model_save_path, verbose=1, save_weights_only=False)\n",
        "# Callback for early stopping\n",
        "es_callback = tf.keras.callbacks.EarlyStopping(patience=20, verbose=1)"
      ]
    },
    {
      "cell_type": "code",
      "execution_count": 10,
      "metadata": {
        "id": "c3Dac0M_9hE2"
      },
      "outputs": [
        {
          "name": "stdout",
          "output_type": "stream",
          "text": [
            "WARNING:tensorflow:From C:\\Users\\Aadi\\AppData\\Local\\Packages\\PythonSoftwareFoundation.Python.3.11_qbz5n2kfra8p0\\LocalCache\\local-packages\\Python311\\site-packages\\keras\\src\\optimizers\\__init__.py:309: The name tf.train.Optimizer is deprecated. Please use tf.compat.v1.train.Optimizer instead.\n",
            "\n"
          ]
        }
      ],
      "source": [
        "# Model compilation\n",
        "model.compile(\n",
        "    optimizer='adam',\n",
        "    loss='sparse_categorical_crossentropy',\n",
        "    metrics=['accuracy']\n",
        ")"
      ]
    },
    {
      "cell_type": "markdown",
      "metadata": {
        "id": "7XI0j1Iu9hE2"
      },
      "source": [
        "# Model training"
      ]
    },
    {
      "cell_type": "code",
      "execution_count": 11,
      "metadata": {
        "colab": {
          "base_uri": "https://localhost:8080/"
        },
        "id": "WirBl-JE9hE3",
        "outputId": "71b30ca2-8294-4d9d-8aa2-800d90d399de",
        "scrolled": true
      },
      "outputs": [
        {
          "name": "stdout",
          "output_type": "stream",
          "text": [
            "Epoch 1/1000\n",
            "WARNING:tensorflow:From C:\\Users\\Aadi\\AppData\\Local\\Packages\\PythonSoftwareFoundation.Python.3.11_qbz5n2kfra8p0\\LocalCache\\local-packages\\Python311\\site-packages\\keras\\src\\utils\\tf_utils.py:492: The name tf.ragged.RaggedTensorValue is deprecated. Please use tf.compat.v1.ragged.RaggedTensorValue instead.\n",
            "\n",
            "WARNING:tensorflow:From C:\\Users\\Aadi\\AppData\\Local\\Packages\\PythonSoftwareFoundation.Python.3.11_qbz5n2kfra8p0\\LocalCache\\local-packages\\Python311\\site-packages\\keras\\src\\engine\\base_layer_utils.py:384: The name tf.executing_eagerly_outside_functions is deprecated. Please use tf.compat.v1.executing_eagerly_outside_functions instead.\n",
            "\n",
            "1/8 [==>...........................] - ETA: 12s - loss: 1.7683 - accuracy: 0.1250\n",
            "Epoch 1: saving model to model/keypoint_classifier\\keypoint_classifier.hdf5\n",
            "8/8 [==============================] - 2s 77ms/step - loss: 1.6319 - accuracy: 0.1547 - val_loss: 1.3507 - val_accuracy: 0.2267\n",
            "Epoch 2/1000\n",
            "1/8 [==>...........................] - ETA: 0s - loss: 1.4506 - accuracy: 0.2578\n",
            "Epoch 2: saving model to model/keypoint_classifier\\keypoint_classifier.hdf5\n",
            "8/8 [==============================] - 0s 13ms/step - loss: 1.4200 - accuracy: 0.2285 - val_loss: 1.2245 - val_accuracy: 0.3540\n",
            "Epoch 3/1000\n",
            "1/8 [==>...........................] - ETA: 0s - loss: 1.3044 - accuracy: 0.2422\n",
            "Epoch 3: saving model to model/keypoint_classifier\\keypoint_classifier.hdf5\n"
          ]
        },
        {
          "name": "stderr",
          "output_type": "stream",
          "text": [
            "C:\\Users\\Aadi\\AppData\\Local\\Packages\\PythonSoftwareFoundation.Python.3.11_qbz5n2kfra8p0\\LocalCache\\local-packages\\Python311\\site-packages\\keras\\src\\engine\\training.py:3103: UserWarning: You are saving your model as an HDF5 file via `model.save()`. This file format is considered legacy. We recommend using instead the native Keras format, e.g. `model.save('my_model.keras')`.\n",
            "  saving_api.save_model(\n"
          ]
        },
        {
          "name": "stdout",
          "output_type": "stream",
          "text": [
            "8/8 [==============================] - 0s 12ms/step - loss: 1.2751 - accuracy: 0.3032 - val_loss: 1.1438 - val_accuracy: 0.3758\n",
            "Epoch 4/1000\n",
            "1/8 [==>...........................] - ETA: 0s - loss: 1.1428 - accuracy: 0.4922\n",
            "Epoch 4: saving model to model/keypoint_classifier\\keypoint_classifier.hdf5\n",
            "8/8 [==============================] - 0s 13ms/step - loss: 1.1683 - accuracy: 0.4413 - val_loss: 1.0619 - val_accuracy: 0.6335\n",
            "Epoch 5/1000\n",
            "1/8 [==>...........................] - ETA: 0s - loss: 1.1200 - accuracy: 0.4844\n",
            "Epoch 5: saving model to model/keypoint_classifier\\keypoint_classifier.hdf5\n",
            "8/8 [==============================] - 0s 14ms/step - loss: 1.0856 - accuracy: 0.5545 - val_loss: 0.9929 - val_accuracy: 0.6335\n",
            "Epoch 6/1000\n",
            "1/8 [==>...........................] - ETA: 0s - loss: 1.0466 - accuracy: 0.5234\n",
            "Epoch 6: saving model to model/keypoint_classifier\\keypoint_classifier.hdf5\n",
            "8/8 [==============================] - 0s 13ms/step - loss: 1.0122 - accuracy: 0.5857 - val_loss: 0.9383 - val_accuracy: 0.6335\n",
            "Epoch 7/1000\n",
            "1/8 [==>...........................] - ETA: 0s - loss: 0.9745 - accuracy: 0.6875\n",
            "Epoch 7: saving model to model/keypoint_classifier\\keypoint_classifier.hdf5\n",
            "8/8 [==============================] - 0s 12ms/step - loss: 0.9769 - accuracy: 0.6314 - val_loss: 0.8954 - val_accuracy: 0.6335\n",
            "Epoch 8/1000\n",
            "1/8 [==>...........................] - ETA: 0s - loss: 0.9483 - accuracy: 0.6094\n",
            "Epoch 8: saving model to model/keypoint_classifier\\keypoint_classifier.hdf5\n",
            "8/8 [==============================] - 0s 12ms/step - loss: 0.9292 - accuracy: 0.6355 - val_loss: 0.8638 - val_accuracy: 0.6335\n",
            "Epoch 9/1000\n",
            "1/8 [==>...........................] - ETA: 0s - loss: 0.8262 - accuracy: 0.7109\n",
            "Epoch 9: saving model to model/keypoint_classifier\\keypoint_classifier.hdf5\n",
            "8/8 [==============================] - 0s 13ms/step - loss: 0.9041 - accuracy: 0.6417 - val_loss: 0.8378 - val_accuracy: 0.6335\n",
            "Epoch 10/1000\n",
            "1/8 [==>...........................] - ETA: 0s - loss: 0.8649 - accuracy: 0.6719\n",
            "Epoch 10: saving model to model/keypoint_classifier\\keypoint_classifier.hdf5\n",
            "8/8 [==============================] - 0s 12ms/step - loss: 0.8852 - accuracy: 0.6459 - val_loss: 0.8094 - val_accuracy: 0.6335\n",
            "Epoch 11/1000\n",
            "1/8 [==>...........................] - ETA: 0s - loss: 0.9482 - accuracy: 0.6016\n",
            "Epoch 11: saving model to model/keypoint_classifier\\keypoint_classifier.hdf5\n",
            "8/8 [==============================] - 0s 11ms/step - loss: 0.8545 - accuracy: 0.6594 - val_loss: 0.7818 - val_accuracy: 0.6335\n",
            "Epoch 12/1000\n",
            "1/8 [==>...........................] - ETA: 0s - loss: 0.7359 - accuracy: 0.7109\n",
            "Epoch 12: saving model to model/keypoint_classifier\\keypoint_classifier.hdf5\n",
            "8/8 [==============================] - 0s 11ms/step - loss: 0.8179 - accuracy: 0.6604 - val_loss: 0.7527 - val_accuracy: 0.6335\n",
            "Epoch 13/1000\n",
            "1/8 [==>...........................] - ETA: 0s - loss: 0.7932 - accuracy: 0.6641\n",
            "Epoch 13: saving model to model/keypoint_classifier\\keypoint_classifier.hdf5\n",
            "8/8 [==============================] - 0s 12ms/step - loss: 0.8029 - accuracy: 0.6625 - val_loss: 0.7188 - val_accuracy: 0.6273\n",
            "Epoch 14/1000\n",
            "1/8 [==>...........................] - ETA: 0s - loss: 0.8617 - accuracy: 0.6562\n",
            "Epoch 14: saving model to model/keypoint_classifier\\keypoint_classifier.hdf5\n",
            "8/8 [==============================] - 0s 11ms/step - loss: 0.7902 - accuracy: 0.6719 - val_loss: 0.6838 - val_accuracy: 0.6615\n",
            "Epoch 15/1000\n",
            "1/8 [==>...........................] - ETA: 0s - loss: 0.7344 - accuracy: 0.7188\n",
            "Epoch 15: saving model to model/keypoint_classifier\\keypoint_classifier.hdf5\n",
            "8/8 [==============================] - 0s 13ms/step - loss: 0.7510 - accuracy: 0.7020 - val_loss: 0.6495 - val_accuracy: 0.6739\n",
            "Epoch 16/1000\n",
            "1/8 [==>...........................] - ETA: 0s - loss: 0.7563 - accuracy: 0.6875\n",
            "Epoch 16: saving model to model/keypoint_classifier\\keypoint_classifier.hdf5\n",
            "8/8 [==============================] - 0s 21ms/step - loss: 0.7207 - accuracy: 0.6947 - val_loss: 0.6157 - val_accuracy: 0.6770\n",
            "Epoch 17/1000\n",
            "1/8 [==>...........................] - ETA: 0s - loss: 0.6923 - accuracy: 0.6797\n",
            "Epoch 17: saving model to model/keypoint_classifier\\keypoint_classifier.hdf5\n",
            "8/8 [==============================] - 0s 11ms/step - loss: 0.7175 - accuracy: 0.6885 - val_loss: 0.5872 - val_accuracy: 0.6770\n",
            "Epoch 18/1000\n",
            "1/8 [==>...........................] - ETA: 0s - loss: 0.6371 - accuracy: 0.7266\n",
            "Epoch 18: saving model to model/keypoint_classifier\\keypoint_classifier.hdf5\n",
            "8/8 [==============================] - 0s 11ms/step - loss: 0.6768 - accuracy: 0.7124 - val_loss: 0.5583 - val_accuracy: 0.6925\n",
            "Epoch 19/1000\n",
            "1/8 [==>...........................] - ETA: 0s - loss: 0.6591 - accuracy: 0.7344\n",
            "Epoch 19: saving model to model/keypoint_classifier\\keypoint_classifier.hdf5\n",
            "8/8 [==============================] - 0s 11ms/step - loss: 0.6774 - accuracy: 0.7051 - val_loss: 0.5279 - val_accuracy: 0.7298\n",
            "Epoch 20/1000\n",
            "1/8 [==>...........................] - ETA: 0s - loss: 0.7333 - accuracy: 0.6641\n",
            "Epoch 20: saving model to model/keypoint_classifier\\keypoint_classifier.hdf5\n",
            "8/8 [==============================] - 0s 10ms/step - loss: 0.6550 - accuracy: 0.7113 - val_loss: 0.5061 - val_accuracy: 0.7453\n",
            "Epoch 21/1000\n",
            "1/8 [==>...........................] - ETA: 0s - loss: 0.6779 - accuracy: 0.6719\n",
            "Epoch 21: saving model to model/keypoint_classifier\\keypoint_classifier.hdf5\n",
            "8/8 [==============================] - 0s 11ms/step - loss: 0.6293 - accuracy: 0.7155 - val_loss: 0.4863 - val_accuracy: 0.7702\n",
            "Epoch 22/1000\n",
            "1/8 [==>...........................] - ETA: 0s - loss: 0.6582 - accuracy: 0.7031\n",
            "Epoch 22: saving model to model/keypoint_classifier\\keypoint_classifier.hdf5\n",
            "8/8 [==============================] - 0s 13ms/step - loss: 0.5963 - accuracy: 0.7331 - val_loss: 0.4698 - val_accuracy: 0.7578\n",
            "Epoch 23/1000\n",
            "1/8 [==>...........................] - ETA: 0s - loss: 0.5708 - accuracy: 0.7578\n",
            "Epoch 23: saving model to model/keypoint_classifier\\keypoint_classifier.hdf5\n",
            "8/8 [==============================] - 0s 11ms/step - loss: 0.5936 - accuracy: 0.7290 - val_loss: 0.4500 - val_accuracy: 0.8137\n",
            "Epoch 24/1000\n",
            "1/8 [==>...........................] - ETA: 0s - loss: 0.6055 - accuracy: 0.7109\n",
            "Epoch 24: saving model to model/keypoint_classifier\\keypoint_classifier.hdf5\n",
            "8/8 [==============================] - 0s 11ms/step - loss: 0.6016 - accuracy: 0.7072 - val_loss: 0.4299 - val_accuracy: 0.8540\n",
            "Epoch 25/1000\n",
            "1/8 [==>...........................] - ETA: 0s - loss: 0.5994 - accuracy: 0.7188\n",
            "Epoch 25: saving model to model/keypoint_classifier\\keypoint_classifier.hdf5\n",
            "8/8 [==============================] - 0s 12ms/step - loss: 0.5961 - accuracy: 0.7259 - val_loss: 0.4169 - val_accuracy: 0.8540\n",
            "Epoch 26/1000\n",
            "1/8 [==>...........................] - ETA: 0s - loss: 0.5337 - accuracy: 0.7188\n",
            "Epoch 26: saving model to model/keypoint_classifier\\keypoint_classifier.hdf5\n",
            "8/8 [==============================] - 0s 13ms/step - loss: 0.5722 - accuracy: 0.7362 - val_loss: 0.4097 - val_accuracy: 0.8416\n",
            "Epoch 27/1000\n",
            "1/8 [==>...........................] - ETA: 0s - loss: 0.5134 - accuracy: 0.7500\n",
            "Epoch 27: saving model to model/keypoint_classifier\\keypoint_classifier.hdf5\n",
            "8/8 [==============================] - 0s 11ms/step - loss: 0.5296 - accuracy: 0.7518 - val_loss: 0.3929 - val_accuracy: 0.8634\n",
            "Epoch 28/1000\n",
            "1/8 [==>...........................] - ETA: 0s - loss: 0.6439 - accuracy: 0.6797\n",
            "Epoch 28: saving model to model/keypoint_classifier\\keypoint_classifier.hdf5\n",
            "8/8 [==============================] - 0s 10ms/step - loss: 0.5258 - accuracy: 0.7580 - val_loss: 0.3752 - val_accuracy: 0.8851\n",
            "Epoch 29/1000\n",
            "1/8 [==>...........................] - ETA: 0s - loss: 0.4751 - accuracy: 0.7891\n",
            "Epoch 29: saving model to model/keypoint_classifier\\keypoint_classifier.hdf5\n",
            "8/8 [==============================] - 0s 11ms/step - loss: 0.5176 - accuracy: 0.7788 - val_loss: 0.3591 - val_accuracy: 0.9006\n",
            "Epoch 30/1000\n",
            "1/8 [==>...........................] - ETA: 0s - loss: 0.5476 - accuracy: 0.7578\n",
            "Epoch 30: saving model to model/keypoint_classifier\\keypoint_classifier.hdf5\n",
            "8/8 [==============================] - 0s 13ms/step - loss: 0.5030 - accuracy: 0.7799 - val_loss: 0.3432 - val_accuracy: 0.9068\n",
            "Epoch 31/1000\n",
            "1/8 [==>...........................] - ETA: 0s - loss: 0.5344 - accuracy: 0.7812\n",
            "Epoch 31: saving model to model/keypoint_classifier\\keypoint_classifier.hdf5\n",
            "8/8 [==============================] - 0s 12ms/step - loss: 0.5007 - accuracy: 0.7819 - val_loss: 0.3296 - val_accuracy: 0.9224\n",
            "Epoch 32/1000\n",
            "1/8 [==>...........................] - ETA: 0s - loss: 0.4931 - accuracy: 0.7656\n",
            "Epoch 32: saving model to model/keypoint_classifier\\keypoint_classifier.hdf5\n",
            "8/8 [==============================] - 0s 10ms/step - loss: 0.4916 - accuracy: 0.7882 - val_loss: 0.3156 - val_accuracy: 0.9317\n",
            "Epoch 33/1000\n",
            "1/8 [==>...........................] - ETA: 0s - loss: 0.5121 - accuracy: 0.7266\n",
            "Epoch 33: saving model to model/keypoint_classifier\\keypoint_classifier.hdf5\n",
            "8/8 [==============================] - 0s 11ms/step - loss: 0.4763 - accuracy: 0.7902 - val_loss: 0.3051 - val_accuracy: 0.9317\n",
            "Epoch 34/1000\n",
            "1/8 [==>...........................] - ETA: 0s - loss: 0.4023 - accuracy: 0.8594\n",
            "Epoch 34: saving model to model/keypoint_classifier\\keypoint_classifier.hdf5\n",
            "8/8 [==============================] - 0s 11ms/step - loss: 0.4597 - accuracy: 0.8006 - val_loss: 0.2953 - val_accuracy: 0.9348\n",
            "Epoch 35/1000\n",
            "1/8 [==>...........................] - ETA: 0s - loss: 0.4400 - accuracy: 0.8359\n",
            "Epoch 35: saving model to model/keypoint_classifier\\keypoint_classifier.hdf5\n",
            "8/8 [==============================] - 0s 12ms/step - loss: 0.4458 - accuracy: 0.8110 - val_loss: 0.2802 - val_accuracy: 0.9441\n",
            "Epoch 36/1000\n",
            "1/8 [==>...........................] - ETA: 0s - loss: 0.4350 - accuracy: 0.8125\n",
            "Epoch 36: saving model to model/keypoint_classifier\\keypoint_classifier.hdf5\n",
            "8/8 [==============================] - 0s 11ms/step - loss: 0.4493 - accuracy: 0.8006 - val_loss: 0.2724 - val_accuracy: 0.9379\n",
            "Epoch 37/1000\n",
            "1/8 [==>...........................] - ETA: 0s - loss: 0.4063 - accuracy: 0.8047\n",
            "Epoch 37: saving model to model/keypoint_classifier\\keypoint_classifier.hdf5\n",
            "8/8 [==============================] - 0s 12ms/step - loss: 0.4406 - accuracy: 0.8069 - val_loss: 0.2628 - val_accuracy: 0.9410\n",
            "Epoch 38/1000\n",
            "1/8 [==>...........................] - ETA: 0s - loss: 0.3838 - accuracy: 0.8672\n",
            "Epoch 38: saving model to model/keypoint_classifier\\keypoint_classifier.hdf5\n",
            "8/8 [==============================] - 0s 10ms/step - loss: 0.4282 - accuracy: 0.8266 - val_loss: 0.2542 - val_accuracy: 0.9410\n",
            "Epoch 39/1000\n",
            "1/8 [==>...........................] - ETA: 0s - loss: 0.3911 - accuracy: 0.8516\n",
            "Epoch 39: saving model to model/keypoint_classifier\\keypoint_classifier.hdf5\n",
            "8/8 [==============================] - 0s 16ms/step - loss: 0.4450 - accuracy: 0.8172 - val_loss: 0.2383 - val_accuracy: 0.9596\n",
            "Epoch 40/1000\n",
            "1/8 [==>...........................] - ETA: 0s - loss: 0.4295 - accuracy: 0.7891\n",
            "Epoch 40: saving model to model/keypoint_classifier\\keypoint_classifier.hdf5\n",
            "8/8 [==============================] - 0s 12ms/step - loss: 0.4253 - accuracy: 0.8266 - val_loss: 0.2314 - val_accuracy: 0.9596\n",
            "Epoch 41/1000\n",
            "1/8 [==>...........................] - ETA: 0s - loss: 0.4080 - accuracy: 0.8281\n",
            "Epoch 41: saving model to model/keypoint_classifier\\keypoint_classifier.hdf5\n",
            "8/8 [==============================] - 0s 12ms/step - loss: 0.3924 - accuracy: 0.8401 - val_loss: 0.2262 - val_accuracy: 0.9627\n",
            "Epoch 42/1000\n",
            "1/8 [==>...........................] - ETA: 0s - loss: 0.5244 - accuracy: 0.8125\n",
            "Epoch 42: saving model to model/keypoint_classifier\\keypoint_classifier.hdf5\n",
            "8/8 [==============================] - 0s 11ms/step - loss: 0.4018 - accuracy: 0.8401 - val_loss: 0.2158 - val_accuracy: 0.9627\n",
            "Epoch 43/1000\n",
            "1/8 [==>...........................] - ETA: 0s - loss: 0.3865 - accuracy: 0.8125\n",
            "Epoch 43: saving model to model/keypoint_classifier\\keypoint_classifier.hdf5\n",
            "8/8 [==============================] - 0s 10ms/step - loss: 0.4033 - accuracy: 0.8370 - val_loss: 0.2107 - val_accuracy: 0.9689\n",
            "Epoch 44/1000\n",
            "1/8 [==>...........................] - ETA: 0s - loss: 0.3862 - accuracy: 0.8203\n",
            "Epoch 44: saving model to model/keypoint_classifier\\keypoint_classifier.hdf5\n",
            "8/8 [==============================] - 0s 11ms/step - loss: 0.3720 - accuracy: 0.8494 - val_loss: 0.2100 - val_accuracy: 0.9565\n",
            "Epoch 45/1000\n",
            "1/8 [==>...........................] - ETA: 0s - loss: 0.4212 - accuracy: 0.8203\n",
            "Epoch 45: saving model to model/keypoint_classifier\\keypoint_classifier.hdf5\n",
            "8/8 [==============================] - 0s 11ms/step - loss: 0.3696 - accuracy: 0.8515 - val_loss: 0.2006 - val_accuracy: 0.9689\n",
            "Epoch 46/1000\n",
            "1/8 [==>...........................] - ETA: 0s - loss: 0.3900 - accuracy: 0.8359\n",
            "Epoch 46: saving model to model/keypoint_classifier\\keypoint_classifier.hdf5\n",
            "8/8 [==============================] - 0s 11ms/step - loss: 0.3693 - accuracy: 0.8505 - val_loss: 0.1941 - val_accuracy: 0.9658\n",
            "Epoch 47/1000\n",
            "1/8 [==>...........................] - ETA: 0s - loss: 0.3619 - accuracy: 0.8828\n",
            "Epoch 47: saving model to model/keypoint_classifier\\keypoint_classifier.hdf5\n",
            "8/8 [==============================] - 0s 9ms/step - loss: 0.3871 - accuracy: 0.8494 - val_loss: 0.1917 - val_accuracy: 0.9689\n",
            "Epoch 48/1000\n",
            "1/8 [==>...........................] - ETA: 0s - loss: 0.3209 - accuracy: 0.8750\n",
            "Epoch 48: saving model to model/keypoint_classifier\\keypoint_classifier.hdf5\n",
            "8/8 [==============================] - 0s 11ms/step - loss: 0.3870 - accuracy: 0.8370 - val_loss: 0.1848 - val_accuracy: 0.9720\n",
            "Epoch 49/1000\n",
            "1/8 [==>...........................] - ETA: 0s - loss: 0.3994 - accuracy: 0.8594\n",
            "Epoch 49: saving model to model/keypoint_classifier\\keypoint_classifier.hdf5\n",
            "8/8 [==============================] - 0s 11ms/step - loss: 0.3508 - accuracy: 0.8660 - val_loss: 0.1797 - val_accuracy: 0.9720\n",
            "Epoch 50/1000\n",
            "1/8 [==>...........................] - ETA: 0s - loss: 0.2994 - accuracy: 0.9297\n",
            "Epoch 50: saving model to model/keypoint_classifier\\keypoint_classifier.hdf5\n",
            "8/8 [==============================] - 0s 13ms/step - loss: 0.3538 - accuracy: 0.8692 - val_loss: 0.1739 - val_accuracy: 0.9689\n",
            "Epoch 51/1000\n",
            "1/8 [==>...........................] - ETA: 0s - loss: 0.5485 - accuracy: 0.8047\n",
            "Epoch 51: saving model to model/keypoint_classifier\\keypoint_classifier.hdf5\n",
            "8/8 [==============================] - 0s 13ms/step - loss: 0.3683 - accuracy: 0.8432 - val_loss: 0.1701 - val_accuracy: 0.9720\n",
            "Epoch 52/1000\n",
            "1/8 [==>...........................] - ETA: 0s - loss: 0.3343 - accuracy: 0.8594\n",
            "Epoch 52: saving model to model/keypoint_classifier\\keypoint_classifier.hdf5\n",
            "8/8 [==============================] - 0s 11ms/step - loss: 0.3497 - accuracy: 0.8681 - val_loss: 0.1677 - val_accuracy: 0.9689\n",
            "Epoch 53/1000\n",
            "1/8 [==>...........................] - ETA: 0s - loss: 0.3974 - accuracy: 0.8359\n",
            "Epoch 53: saving model to model/keypoint_classifier\\keypoint_classifier.hdf5\n",
            "8/8 [==============================] - 0s 11ms/step - loss: 0.3401 - accuracy: 0.8702 - val_loss: 0.1653 - val_accuracy: 0.9720\n",
            "Epoch 54/1000\n",
            "1/8 [==>...........................] - ETA: 0s - loss: 0.3786 - accuracy: 0.8438\n",
            "Epoch 54: saving model to model/keypoint_classifier\\keypoint_classifier.hdf5\n",
            "8/8 [==============================] - 0s 11ms/step - loss: 0.3442 - accuracy: 0.8640 - val_loss: 0.1636 - val_accuracy: 0.9689\n",
            "Epoch 55/1000\n",
            "1/8 [==>...........................] - ETA: 0s - loss: 0.4109 - accuracy: 0.8203\n",
            "Epoch 55: saving model to model/keypoint_classifier\\keypoint_classifier.hdf5\n",
            "8/8 [==============================] - 0s 13ms/step - loss: 0.3521 - accuracy: 0.8681 - val_loss: 0.1649 - val_accuracy: 0.9689\n",
            "Epoch 56/1000\n",
            "1/8 [==>...........................] - ETA: 0s - loss: 0.4491 - accuracy: 0.8281\n",
            "Epoch 56: saving model to model/keypoint_classifier\\keypoint_classifier.hdf5\n",
            "8/8 [==============================] - 0s 16ms/step - loss: 0.3473 - accuracy: 0.8619 - val_loss: 0.1629 - val_accuracy: 0.9689\n",
            "Epoch 57/1000\n",
            "1/8 [==>...........................] - ETA: 0s - loss: 0.2784 - accuracy: 0.9062\n",
            "Epoch 57: saving model to model/keypoint_classifier\\keypoint_classifier.hdf5\n",
            "8/8 [==============================] - 0s 9ms/step - loss: 0.3328 - accuracy: 0.8723 - val_loss: 0.1563 - val_accuracy: 0.9689\n",
            "Epoch 58/1000\n",
            "1/8 [==>...........................] - ETA: 0s - loss: 0.3673 - accuracy: 0.8750\n",
            "Epoch 58: saving model to model/keypoint_classifier\\keypoint_classifier.hdf5\n",
            "8/8 [==============================] - 0s 11ms/step - loss: 0.3162 - accuracy: 0.8827 - val_loss: 0.1539 - val_accuracy: 0.9689\n",
            "Epoch 59/1000\n",
            "1/8 [==>...........................] - ETA: 0s - loss: 0.3418 - accuracy: 0.8594\n",
            "Epoch 59: saving model to model/keypoint_classifier\\keypoint_classifier.hdf5\n",
            "8/8 [==============================] - 0s 11ms/step - loss: 0.3552 - accuracy: 0.8629 - val_loss: 0.1532 - val_accuracy: 0.9689\n",
            "Epoch 60/1000\n",
            "1/8 [==>...........................] - ETA: 0s - loss: 0.3287 - accuracy: 0.8594\n",
            "Epoch 60: saving model to model/keypoint_classifier\\keypoint_classifier.hdf5\n",
            "8/8 [==============================] - 0s 12ms/step - loss: 0.3402 - accuracy: 0.8577 - val_loss: 0.1513 - val_accuracy: 0.9689\n",
            "Epoch 61/1000\n",
            "1/8 [==>...........................] - ETA: 0s - loss: 0.3132 - accuracy: 0.8594\n",
            "Epoch 61: saving model to model/keypoint_classifier\\keypoint_classifier.hdf5\n",
            "8/8 [==============================] - 0s 11ms/step - loss: 0.3331 - accuracy: 0.8609 - val_loss: 0.1520 - val_accuracy: 0.9689\n",
            "Epoch 62/1000\n",
            "1/8 [==>...........................] - ETA: 0s - loss: 0.3327 - accuracy: 0.8828\n",
            "Epoch 62: saving model to model/keypoint_classifier\\keypoint_classifier.hdf5\n",
            "8/8 [==============================] - 0s 9ms/step - loss: 0.3345 - accuracy: 0.8775 - val_loss: 0.1502 - val_accuracy: 0.9689\n",
            "Epoch 63/1000\n",
            "1/8 [==>...........................] - ETA: 0s - loss: 0.2321 - accuracy: 0.9297\n",
            "Epoch 63: saving model to model/keypoint_classifier\\keypoint_classifier.hdf5\n",
            "8/8 [==============================] - 0s 11ms/step - loss: 0.3130 - accuracy: 0.8847 - val_loss: 0.1476 - val_accuracy: 0.9689\n",
            "Epoch 64/1000\n",
            "1/8 [==>...........................] - ETA: 0s - loss: 0.2634 - accuracy: 0.8984\n",
            "Epoch 64: saving model to model/keypoint_classifier\\keypoint_classifier.hdf5\n",
            "8/8 [==============================] - 0s 15ms/step - loss: 0.3209 - accuracy: 0.8795 - val_loss: 0.1431 - val_accuracy: 0.9689\n",
            "Epoch 65/1000\n",
            "1/8 [==>...........................] - ETA: 0s - loss: 0.3721 - accuracy: 0.8281\n",
            "Epoch 65: saving model to model/keypoint_classifier\\keypoint_classifier.hdf5\n",
            "8/8 [==============================] - 0s 15ms/step - loss: 0.3151 - accuracy: 0.8806 - val_loss: 0.1427 - val_accuracy: 0.9689\n",
            "Epoch 66/1000\n",
            "1/8 [==>...........................] - ETA: 0s - loss: 0.3075 - accuracy: 0.8906\n",
            "Epoch 66: saving model to model/keypoint_classifier\\keypoint_classifier.hdf5\n",
            "8/8 [==============================] - 0s 16ms/step - loss: 0.3097 - accuracy: 0.8785 - val_loss: 0.1429 - val_accuracy: 0.9689\n",
            "Epoch 67/1000\n",
            "1/8 [==>...........................] - ETA: 0s - loss: 0.3457 - accuracy: 0.8750\n",
            "Epoch 67: saving model to model/keypoint_classifier\\keypoint_classifier.hdf5\n",
            "8/8 [==============================] - 0s 12ms/step - loss: 0.3070 - accuracy: 0.8941 - val_loss: 0.1394 - val_accuracy: 0.9658\n",
            "Epoch 68/1000\n",
            "1/8 [==>...........................] - ETA: 0s - loss: 0.3302 - accuracy: 0.8750\n",
            "Epoch 68: saving model to model/keypoint_classifier\\keypoint_classifier.hdf5\n",
            "8/8 [==============================] - 0s 11ms/step - loss: 0.3386 - accuracy: 0.8775 - val_loss: 0.1372 - val_accuracy: 0.9658\n",
            "Epoch 69/1000\n",
            "1/8 [==>...........................] - ETA: 0s - loss: 0.3187 - accuracy: 0.8438\n",
            "Epoch 69: saving model to model/keypoint_classifier\\keypoint_classifier.hdf5\n",
            "8/8 [==============================] - 0s 9ms/step - loss: 0.3280 - accuracy: 0.8754 - val_loss: 0.1370 - val_accuracy: 0.9658\n",
            "Epoch 70/1000\n",
            "1/8 [==>...........................] - ETA: 0s - loss: 0.2751 - accuracy: 0.8672\n",
            "Epoch 70: saving model to model/keypoint_classifier\\keypoint_classifier.hdf5\n",
            "8/8 [==============================] - 0s 11ms/step - loss: 0.2900 - accuracy: 0.8951 - val_loss: 0.1433 - val_accuracy: 0.9689\n",
            "Epoch 71/1000\n",
            "1/8 [==>...........................] - ETA: 0s - loss: 0.2879 - accuracy: 0.9141\n",
            "Epoch 71: saving model to model/keypoint_classifier\\keypoint_classifier.hdf5\n",
            "8/8 [==============================] - 0s 9ms/step - loss: 0.2849 - accuracy: 0.8889 - val_loss: 0.1397 - val_accuracy: 0.9658\n",
            "Epoch 72/1000\n",
            "1/8 [==>...........................] - ETA: 0s - loss: 0.2889 - accuracy: 0.8750\n",
            "Epoch 72: saving model to model/keypoint_classifier\\keypoint_classifier.hdf5\n",
            "8/8 [==============================] - 0s 11ms/step - loss: 0.3427 - accuracy: 0.8671 - val_loss: 0.1345 - val_accuracy: 0.9658\n",
            "Epoch 73/1000\n",
            "1/8 [==>...........................] - ETA: 0s - loss: 0.4222 - accuracy: 0.8594\n",
            "Epoch 73: saving model to model/keypoint_classifier\\keypoint_classifier.hdf5\n",
            "8/8 [==============================] - 0s 14ms/step - loss: 0.3213 - accuracy: 0.8795 - val_loss: 0.1352 - val_accuracy: 0.9658\n",
            "Epoch 74/1000\n",
            "1/8 [==>...........................] - ETA: 0s - loss: 0.2901 - accuracy: 0.9297\n",
            "Epoch 74: saving model to model/keypoint_classifier\\keypoint_classifier.hdf5\n",
            "8/8 [==============================] - 0s 17ms/step - loss: 0.2744 - accuracy: 0.9013 - val_loss: 0.1346 - val_accuracy: 0.9689\n",
            "Epoch 75/1000\n",
            "1/8 [==>...........................] - ETA: 0s - loss: 0.3511 - accuracy: 0.8750\n",
            "Epoch 75: saving model to model/keypoint_classifier\\keypoint_classifier.hdf5\n",
            "8/8 [==============================] - 0s 10ms/step - loss: 0.3094 - accuracy: 0.8816 - val_loss: 0.1334 - val_accuracy: 0.9689\n",
            "Epoch 76/1000\n",
            "1/8 [==>...........................] - ETA: 0s - loss: 0.3783 - accuracy: 0.8750\n",
            "Epoch 76: saving model to model/keypoint_classifier\\keypoint_classifier.hdf5\n",
            "8/8 [==============================] - 0s 11ms/step - loss: 0.3067 - accuracy: 0.8962 - val_loss: 0.1317 - val_accuracy: 0.9689\n",
            "Epoch 77/1000\n",
            "1/8 [==>...........................] - ETA: 0s - loss: 0.3646 - accuracy: 0.8672\n",
            "Epoch 77: saving model to model/keypoint_classifier\\keypoint_classifier.hdf5\n",
            "8/8 [==============================] - 0s 10ms/step - loss: 0.2706 - accuracy: 0.8993 - val_loss: 0.1286 - val_accuracy: 0.9658\n",
            "Epoch 78/1000\n",
            "1/8 [==>...........................] - ETA: 0s - loss: 0.2923 - accuracy: 0.8672\n",
            "Epoch 78: saving model to model/keypoint_classifier\\keypoint_classifier.hdf5\n",
            "8/8 [==============================] - 0s 11ms/step - loss: 0.2611 - accuracy: 0.8941 - val_loss: 0.1262 - val_accuracy: 0.9658\n",
            "Epoch 79/1000\n",
            "1/8 [==>...........................] - ETA: 0s - loss: 0.2481 - accuracy: 0.9062\n",
            "Epoch 79: saving model to model/keypoint_classifier\\keypoint_classifier.hdf5\n",
            "8/8 [==============================] - 0s 13ms/step - loss: 0.3001 - accuracy: 0.8930 - val_loss: 0.1255 - val_accuracy: 0.9658\n",
            "Epoch 80/1000\n",
            "1/8 [==>...........................] - ETA: 0s - loss: 0.2784 - accuracy: 0.8594\n",
            "Epoch 80: saving model to model/keypoint_classifier\\keypoint_classifier.hdf5\n",
            "8/8 [==============================] - 0s 15ms/step - loss: 0.2727 - accuracy: 0.8951 - val_loss: 0.1255 - val_accuracy: 0.9689\n",
            "Epoch 81/1000\n",
            "1/8 [==>...........................] - ETA: 0s - loss: 0.2966 - accuracy: 0.8750\n",
            "Epoch 81: saving model to model/keypoint_classifier\\keypoint_classifier.hdf5\n",
            "8/8 [==============================] - 0s 19ms/step - loss: 0.2957 - accuracy: 0.8816 - val_loss: 0.1245 - val_accuracy: 0.9658\n",
            "Epoch 82/1000\n",
            "1/8 [==>...........................] - ETA: 0s - loss: 0.3063 - accuracy: 0.8906\n",
            "Epoch 82: saving model to model/keypoint_classifier\\keypoint_classifier.hdf5\n",
            "8/8 [==============================] - 0s 15ms/step - loss: 0.2982 - accuracy: 0.8837 - val_loss: 0.1231 - val_accuracy: 0.9658\n",
            "Epoch 83/1000\n",
            "1/8 [==>...........................] - ETA: 0s - loss: 0.3046 - accuracy: 0.8672\n",
            "Epoch 83: saving model to model/keypoint_classifier\\keypoint_classifier.hdf5\n",
            "8/8 [==============================] - 0s 17ms/step - loss: 0.2781 - accuracy: 0.8920 - val_loss: 0.1223 - val_accuracy: 0.9658\n",
            "Epoch 84/1000\n",
            "1/8 [==>...........................] - ETA: 0s - loss: 0.2894 - accuracy: 0.9062\n",
            "Epoch 84: saving model to model/keypoint_classifier\\keypoint_classifier.hdf5\n",
            "8/8 [==============================] - 0s 18ms/step - loss: 0.2865 - accuracy: 0.8993 - val_loss: 0.1214 - val_accuracy: 0.9596\n",
            "Epoch 85/1000\n",
            "1/8 [==>...........................] - ETA: 0s - loss: 0.3217 - accuracy: 0.9297\n",
            "Epoch 85: saving model to model/keypoint_classifier\\keypoint_classifier.hdf5\n",
            "8/8 [==============================] - 0s 15ms/step - loss: 0.2714 - accuracy: 0.9076 - val_loss: 0.1218 - val_accuracy: 0.9689\n",
            "Epoch 86/1000\n",
            "1/8 [==>...........................] - ETA: 0s - loss: 0.2356 - accuracy: 0.9219\n",
            "Epoch 86: saving model to model/keypoint_classifier\\keypoint_classifier.hdf5\n",
            "8/8 [==============================] - 0s 13ms/step - loss: 0.2618 - accuracy: 0.8993 - val_loss: 0.1196 - val_accuracy: 0.9658\n",
            "Epoch 87/1000\n",
            "1/8 [==>...........................] - ETA: 0s - loss: 0.3309 - accuracy: 0.8984\n",
            "Epoch 87: saving model to model/keypoint_classifier\\keypoint_classifier.hdf5\n",
            "8/8 [==============================] - 0s 16ms/step - loss: 0.2871 - accuracy: 0.8910 - val_loss: 0.1186 - val_accuracy: 0.9627\n",
            "Epoch 88/1000\n",
            "1/8 [==>...........................] - ETA: 0s - loss: 0.2907 - accuracy: 0.8906\n",
            "Epoch 88: saving model to model/keypoint_classifier\\keypoint_classifier.hdf5\n",
            "8/8 [==============================] - 0s 11ms/step - loss: 0.3013 - accuracy: 0.8889 - val_loss: 0.1189 - val_accuracy: 0.9596\n",
            "Epoch 89/1000\n",
            "1/8 [==>...........................] - ETA: 0s - loss: 0.2685 - accuracy: 0.9141\n",
            "Epoch 89: saving model to model/keypoint_classifier\\keypoint_classifier.hdf5\n",
            "8/8 [==============================] - 0s 18ms/step - loss: 0.2717 - accuracy: 0.9045 - val_loss: 0.1210 - val_accuracy: 0.9627\n",
            "Epoch 90/1000\n",
            "1/8 [==>...........................] - ETA: 0s - loss: 0.2789 - accuracy: 0.8672\n",
            "Epoch 90: saving model to model/keypoint_classifier\\keypoint_classifier.hdf5\n",
            "8/8 [==============================] - 0s 11ms/step - loss: 0.2743 - accuracy: 0.8993 - val_loss: 0.1212 - val_accuracy: 0.9627\n",
            "Epoch 91/1000\n",
            "1/8 [==>...........................] - ETA: 0s - loss: 0.3861 - accuracy: 0.8984\n",
            "Epoch 91: saving model to model/keypoint_classifier\\keypoint_classifier.hdf5\n",
            "8/8 [==============================] - 0s 12ms/step - loss: 0.2712 - accuracy: 0.9138 - val_loss: 0.1189 - val_accuracy: 0.9596\n",
            "Epoch 92/1000\n",
            "1/8 [==>...........................] - ETA: 0s - loss: 0.2461 - accuracy: 0.9141\n",
            "Epoch 92: saving model to model/keypoint_classifier\\keypoint_classifier.hdf5\n",
            "8/8 [==============================] - 0s 10ms/step - loss: 0.2666 - accuracy: 0.9045 - val_loss: 0.1166 - val_accuracy: 0.9627\n",
            "Epoch 93/1000\n",
            "1/8 [==>...........................] - ETA: 0s - loss: 0.2736 - accuracy: 0.8828\n",
            "Epoch 93: saving model to model/keypoint_classifier\\keypoint_classifier.hdf5\n",
            "8/8 [==============================] - 0s 11ms/step - loss: 0.2736 - accuracy: 0.8982 - val_loss: 0.1163 - val_accuracy: 0.9658\n",
            "Epoch 94/1000\n",
            "1/8 [==>...........................] - ETA: 0s - loss: 0.3133 - accuracy: 0.9062\n",
            "Epoch 94: saving model to model/keypoint_classifier\\keypoint_classifier.hdf5\n",
            "8/8 [==============================] - 0s 9ms/step - loss: 0.2726 - accuracy: 0.9065 - val_loss: 0.1156 - val_accuracy: 0.9627\n",
            "Epoch 95/1000\n",
            "1/8 [==>...........................] - ETA: 0s - loss: 0.3364 - accuracy: 0.8594\n",
            "Epoch 95: saving model to model/keypoint_classifier\\keypoint_classifier.hdf5\n",
            "8/8 [==============================] - 0s 9ms/step - loss: 0.2919 - accuracy: 0.8837 - val_loss: 0.1165 - val_accuracy: 0.9596\n",
            "Epoch 96/1000\n",
            "1/8 [==>...........................] - ETA: 0s - loss: 0.2693 - accuracy: 0.9062\n",
            "Epoch 96: saving model to model/keypoint_classifier\\keypoint_classifier.hdf5\n",
            "8/8 [==============================] - 0s 11ms/step - loss: 0.2714 - accuracy: 0.9107 - val_loss: 0.1173 - val_accuracy: 0.9627\n",
            "Epoch 97/1000\n",
            "1/8 [==>...........................] - ETA: 0s - loss: 0.3485 - accuracy: 0.8750\n",
            "Epoch 97: saving model to model/keypoint_classifier\\keypoint_classifier.hdf5\n",
            "8/8 [==============================] - 0s 14ms/step - loss: 0.2969 - accuracy: 0.8879 - val_loss: 0.1184 - val_accuracy: 0.9596\n",
            "Epoch 98/1000\n",
            "1/8 [==>...........................] - ETA: 0s - loss: 0.2809 - accuracy: 0.9297\n",
            "Epoch 98: saving model to model/keypoint_classifier\\keypoint_classifier.hdf5\n",
            "8/8 [==============================] - 0s 11ms/step - loss: 0.2706 - accuracy: 0.8962 - val_loss: 0.1193 - val_accuracy: 0.9596\n",
            "Epoch 99/1000\n",
            "1/8 [==>...........................] - ETA: 0s - loss: 0.3169 - accuracy: 0.8906\n",
            "Epoch 99: saving model to model/keypoint_classifier\\keypoint_classifier.hdf5\n",
            "8/8 [==============================] - 0s 11ms/step - loss: 0.2743 - accuracy: 0.8941 - val_loss: 0.1204 - val_accuracy: 0.9627\n",
            "Epoch 100/1000\n",
            "1/8 [==>...........................] - ETA: 0s - loss: 0.2474 - accuracy: 0.9062\n",
            "Epoch 100: saving model to model/keypoint_classifier\\keypoint_classifier.hdf5\n",
            "8/8 [==============================] - 0s 11ms/step - loss: 0.2624 - accuracy: 0.9034 - val_loss: 0.1179 - val_accuracy: 0.9658\n",
            "Epoch 101/1000\n",
            "1/8 [==>...........................] - ETA: 0s - loss: 0.2317 - accuracy: 0.9141\n",
            "Epoch 101: saving model to model/keypoint_classifier\\keypoint_classifier.hdf5\n",
            "8/8 [==============================] - 0s 10ms/step - loss: 0.2681 - accuracy: 0.9055 - val_loss: 0.1150 - val_accuracy: 0.9627\n",
            "Epoch 102/1000\n",
            "1/8 [==>...........................] - ETA: 0s - loss: 0.1909 - accuracy: 0.9453\n",
            "Epoch 102: saving model to model/keypoint_classifier\\keypoint_classifier.hdf5\n",
            "8/8 [==============================] - 0s 9ms/step - loss: 0.2621 - accuracy: 0.9107 - val_loss: 0.1142 - val_accuracy: 0.9627\n",
            "Epoch 103/1000\n",
            "1/8 [==>...........................] - ETA: 0s - loss: 0.2292 - accuracy: 0.9062\n",
            "Epoch 103: saving model to model/keypoint_classifier\\keypoint_classifier.hdf5\n",
            "8/8 [==============================] - 0s 11ms/step - loss: 0.2731 - accuracy: 0.8951 - val_loss: 0.1132 - val_accuracy: 0.9658\n",
            "Epoch 104/1000\n",
            "4/8 [==============>...............] - ETA: 0s - loss: 0.2591 - accuracy: 0.9004\n",
            "Epoch 104: saving model to model/keypoint_classifier\\keypoint_classifier.hdf5\n",
            "8/8 [==============================] - 0s 30ms/step - loss: 0.2788 - accuracy: 0.8962 - val_loss: 0.1145 - val_accuracy: 0.9689\n",
            "Epoch 105/1000\n",
            "1/8 [==>...........................] - ETA: 0s - loss: 0.3527 - accuracy: 0.8828\n",
            "Epoch 105: saving model to model/keypoint_classifier\\keypoint_classifier.hdf5\n",
            "8/8 [==============================] - 0s 15ms/step - loss: 0.2682 - accuracy: 0.9065 - val_loss: 0.1144 - val_accuracy: 0.9596\n",
            "Epoch 106/1000\n",
            "1/8 [==>...........................] - ETA: 0s - loss: 0.2836 - accuracy: 0.8906\n",
            "Epoch 106: saving model to model/keypoint_classifier\\keypoint_classifier.hdf5\n",
            "8/8 [==============================] - 0s 16ms/step - loss: 0.2707 - accuracy: 0.8993 - val_loss: 0.1170 - val_accuracy: 0.9596\n",
            "Epoch 107/1000\n",
            "1/8 [==>...........................] - ETA: 0s - loss: 0.2520 - accuracy: 0.9062\n",
            "Epoch 107: saving model to model/keypoint_classifier\\keypoint_classifier.hdf5\n",
            "8/8 [==============================] - 0s 14ms/step - loss: 0.2602 - accuracy: 0.9055 - val_loss: 0.1153 - val_accuracy: 0.9596\n",
            "Epoch 108/1000\n",
            "1/8 [==>...........................] - ETA: 0s - loss: 0.2241 - accuracy: 0.9297\n",
            "Epoch 108: saving model to model/keypoint_classifier\\keypoint_classifier.hdf5\n",
            "8/8 [==============================] - 0s 16ms/step - loss: 0.2546 - accuracy: 0.9138 - val_loss: 0.1130 - val_accuracy: 0.9627\n",
            "Epoch 109/1000\n",
            "1/8 [==>...........................] - ETA: 0s - loss: 0.2540 - accuracy: 0.8984\n",
            "Epoch 109: saving model to model/keypoint_classifier\\keypoint_classifier.hdf5\n",
            "8/8 [==============================] - 0s 11ms/step - loss: 0.2810 - accuracy: 0.8972 - val_loss: 0.1155 - val_accuracy: 0.9658\n",
            "Epoch 110/1000\n",
            "1/8 [==>...........................] - ETA: 0s - loss: 0.2345 - accuracy: 0.9297\n",
            "Epoch 110: saving model to model/keypoint_classifier\\keypoint_classifier.hdf5\n",
            "8/8 [==============================] - 0s 12ms/step - loss: 0.2498 - accuracy: 0.9097 - val_loss: 0.1142 - val_accuracy: 0.9658\n",
            "Epoch 111/1000\n",
            "1/8 [==>...........................] - ETA: 0s - loss: 0.3197 - accuracy: 0.8906\n",
            "Epoch 111: saving model to model/keypoint_classifier\\keypoint_classifier.hdf5\n",
            "8/8 [==============================] - 0s 17ms/step - loss: 0.2701 - accuracy: 0.9024 - val_loss: 0.1121 - val_accuracy: 0.9627\n",
            "Epoch 112/1000\n",
            "1/8 [==>...........................] - ETA: 0s - loss: 0.2485 - accuracy: 0.8828\n",
            "Epoch 112: saving model to model/keypoint_classifier\\keypoint_classifier.hdf5\n",
            "8/8 [==============================] - 0s 9ms/step - loss: 0.2598 - accuracy: 0.9076 - val_loss: 0.1106 - val_accuracy: 0.9596\n",
            "Epoch 113/1000\n",
            "1/8 [==>...........................] - ETA: 0s - loss: 0.1888 - accuracy: 0.9453\n",
            "Epoch 113: saving model to model/keypoint_classifier\\keypoint_classifier.hdf5\n",
            "8/8 [==============================] - 0s 9ms/step - loss: 0.2481 - accuracy: 0.9034 - val_loss: 0.1090 - val_accuracy: 0.9658\n",
            "Epoch 114/1000\n",
            "1/8 [==>...........................] - ETA: 0s - loss: 0.2317 - accuracy: 0.9141\n",
            "Epoch 114: saving model to model/keypoint_classifier\\keypoint_classifier.hdf5\n",
            "8/8 [==============================] - 0s 9ms/step - loss: 0.2194 - accuracy: 0.9221 - val_loss: 0.1090 - val_accuracy: 0.9689\n",
            "Epoch 115/1000\n",
            "1/8 [==>...........................] - ETA: 0s - loss: 0.2741 - accuracy: 0.8828\n",
            "Epoch 115: saving model to model/keypoint_classifier\\keypoint_classifier.hdf5\n",
            "8/8 [==============================] - 0s 11ms/step - loss: 0.2768 - accuracy: 0.9055 - val_loss: 0.1074 - val_accuracy: 0.9658\n",
            "Epoch 116/1000\n",
            "1/8 [==>...........................] - ETA: 0s - loss: 0.2283 - accuracy: 0.9141\n",
            "Epoch 116: saving model to model/keypoint_classifier\\keypoint_classifier.hdf5\n",
            "8/8 [==============================] - 0s 10ms/step - loss: 0.2504 - accuracy: 0.9117 - val_loss: 0.1083 - val_accuracy: 0.9627\n",
            "Epoch 117/1000\n",
            "1/8 [==>...........................] - ETA: 0s - loss: 0.2265 - accuracy: 0.9062\n",
            "Epoch 117: saving model to model/keypoint_classifier\\keypoint_classifier.hdf5\n",
            "8/8 [==============================] - 0s 9ms/step - loss: 0.2550 - accuracy: 0.9086 - val_loss: 0.1059 - val_accuracy: 0.9658\n",
            "Epoch 118/1000\n",
            "1/8 [==>...........................] - ETA: 0s - loss: 0.1734 - accuracy: 0.9219\n",
            "Epoch 118: saving model to model/keypoint_classifier\\keypoint_classifier.hdf5\n",
            "8/8 [==============================] - 0s 14ms/step - loss: 0.2353 - accuracy: 0.9065 - val_loss: 0.1049 - val_accuracy: 0.9658\n",
            "Epoch 119/1000\n",
            "1/8 [==>...........................] - ETA: 0s - loss: 0.1979 - accuracy: 0.9141\n",
            "Epoch 119: saving model to model/keypoint_classifier\\keypoint_classifier.hdf5\n",
            "8/8 [==============================] - 0s 10ms/step - loss: 0.2624 - accuracy: 0.8930 - val_loss: 0.1063 - val_accuracy: 0.9658\n",
            "Epoch 120/1000\n",
            "1/8 [==>...........................] - ETA: 0s - loss: 0.2991 - accuracy: 0.8750\n",
            "Epoch 120: saving model to model/keypoint_classifier\\keypoint_classifier.hdf5\n",
            "8/8 [==============================] - 0s 9ms/step - loss: 0.2749 - accuracy: 0.8899 - val_loss: 0.1125 - val_accuracy: 0.9658\n",
            "Epoch 121/1000\n",
            "1/8 [==>...........................] - ETA: 0s - loss: 0.3643 - accuracy: 0.8828\n",
            "Epoch 121: saving model to model/keypoint_classifier\\keypoint_classifier.hdf5\n",
            "8/8 [==============================] - 0s 10ms/step - loss: 0.2527 - accuracy: 0.9263 - val_loss: 0.1156 - val_accuracy: 0.9627\n",
            "Epoch 122/1000\n",
            "1/8 [==>...........................] - ETA: 0s - loss: 0.3123 - accuracy: 0.8828\n",
            "Epoch 122: saving model to model/keypoint_classifier\\keypoint_classifier.hdf5\n",
            "8/8 [==============================] - 0s 9ms/step - loss: 0.2775 - accuracy: 0.8993 - val_loss: 0.1153 - val_accuracy: 0.9658\n",
            "Epoch 123/1000\n",
            "1/8 [==>...........................] - ETA: 0s - loss: 0.3360 - accuracy: 0.8984\n",
            "Epoch 123: saving model to model/keypoint_classifier\\keypoint_classifier.hdf5\n",
            "8/8 [==============================] - 0s 10ms/step - loss: 0.2423 - accuracy: 0.9097 - val_loss: 0.1133 - val_accuracy: 0.9658\n",
            "Epoch 124/1000\n",
            "1/8 [==>...........................] - ETA: 0s - loss: 0.2563 - accuracy: 0.9141\n",
            "Epoch 124: saving model to model/keypoint_classifier\\keypoint_classifier.hdf5\n",
            "8/8 [==============================] - 0s 9ms/step - loss: 0.2467 - accuracy: 0.9148 - val_loss: 0.1115 - val_accuracy: 0.9596\n",
            "Epoch 125/1000\n",
            "1/8 [==>...........................] - ETA: 0s - loss: 0.2220 - accuracy: 0.9375\n",
            "Epoch 125: saving model to model/keypoint_classifier\\keypoint_classifier.hdf5\n",
            "8/8 [==============================] - 0s 9ms/step - loss: 0.2799 - accuracy: 0.9065 - val_loss: 0.1106 - val_accuracy: 0.9627\n",
            "Epoch 126/1000\n",
            "1/8 [==>...........................] - ETA: 0s - loss: 0.1601 - accuracy: 0.9453\n",
            "Epoch 126: saving model to model/keypoint_classifier\\keypoint_classifier.hdf5\n",
            "8/8 [==============================] - 0s 13ms/step - loss: 0.2395 - accuracy: 0.9190 - val_loss: 0.1097 - val_accuracy: 0.9596\n",
            "Epoch 127/1000\n",
            "1/8 [==>...........................] - ETA: 0s - loss: 0.2267 - accuracy: 0.8828\n",
            "Epoch 127: saving model to model/keypoint_classifier\\keypoint_classifier.hdf5\n",
            "8/8 [==============================] - 0s 11ms/step - loss: 0.2552 - accuracy: 0.9097 - val_loss: 0.1080 - val_accuracy: 0.9689\n",
            "Epoch 128/1000\n",
            "1/8 [==>...........................] - ETA: 0s - loss: 0.2652 - accuracy: 0.9141\n",
            "Epoch 128: saving model to model/keypoint_classifier\\keypoint_classifier.hdf5\n",
            "8/8 [==============================] - 0s 9ms/step - loss: 0.2718 - accuracy: 0.9065 - val_loss: 0.1080 - val_accuracy: 0.9689\n",
            "Epoch 129/1000\n",
            "1/8 [==>...........................] - ETA: 0s - loss: 0.2733 - accuracy: 0.8828\n",
            "Epoch 129: saving model to model/keypoint_classifier\\keypoint_classifier.hdf5\n",
            "8/8 [==============================] - 0s 9ms/step - loss: 0.2411 - accuracy: 0.9055 - val_loss: 0.1080 - val_accuracy: 0.9658\n",
            "Epoch 130/1000\n",
            "1/8 [==>...........................] - ETA: 0s - loss: 0.3064 - accuracy: 0.8672\n",
            "Epoch 130: saving model to model/keypoint_classifier\\keypoint_classifier.hdf5\n",
            "8/8 [==============================] - 0s 9ms/step - loss: 0.2447 - accuracy: 0.9076 - val_loss: 0.1092 - val_accuracy: 0.9658\n",
            "Epoch 131/1000\n",
            "1/8 [==>...........................] - ETA: 0s - loss: 0.2513 - accuracy: 0.9141\n",
            "Epoch 131: saving model to model/keypoint_classifier\\keypoint_classifier.hdf5\n",
            "8/8 [==============================] - 0s 9ms/step - loss: 0.2432 - accuracy: 0.9003 - val_loss: 0.1097 - val_accuracy: 0.9689\n",
            "Epoch 132/1000\n",
            "1/8 [==>...........................] - ETA: 0s - loss: 0.2821 - accuracy: 0.8750\n",
            "Epoch 132: saving model to model/keypoint_classifier\\keypoint_classifier.hdf5\n",
            "8/8 [==============================] - 0s 10ms/step - loss: 0.2536 - accuracy: 0.9034 - val_loss: 0.1085 - val_accuracy: 0.9689\n",
            "Epoch 133/1000\n",
            "1/8 [==>...........................] - ETA: 0s - loss: 0.3764 - accuracy: 0.8984\n",
            "Epoch 133: saving model to model/keypoint_classifier\\keypoint_classifier.hdf5\n",
            "8/8 [==============================] - 0s 9ms/step - loss: 0.2688 - accuracy: 0.9045 - val_loss: 0.1091 - val_accuracy: 0.9658\n",
            "Epoch 134/1000\n",
            "1/8 [==>...........................] - ETA: 0s - loss: 0.2394 - accuracy: 0.9141\n",
            "Epoch 134: saving model to model/keypoint_classifier\\keypoint_classifier.hdf5\n",
            "8/8 [==============================] - 0s 16ms/step - loss: 0.2384 - accuracy: 0.9117 - val_loss: 0.1085 - val_accuracy: 0.9689\n",
            "Epoch 135/1000\n",
            "1/8 [==>...........................] - ETA: 0s - loss: 0.2630 - accuracy: 0.9062\n",
            "Epoch 135: saving model to model/keypoint_classifier\\keypoint_classifier.hdf5\n",
            "8/8 [==============================] - 0s 11ms/step - loss: 0.2398 - accuracy: 0.9107 - val_loss: 0.1078 - val_accuracy: 0.9658\n",
            "Epoch 136/1000\n",
            "1/8 [==>...........................] - ETA: 0s - loss: 0.2943 - accuracy: 0.9062\n",
            "Epoch 136: saving model to model/keypoint_classifier\\keypoint_classifier.hdf5\n",
            "8/8 [==============================] - 0s 10ms/step - loss: 0.2400 - accuracy: 0.9159 - val_loss: 0.1069 - val_accuracy: 0.9658\n",
            "Epoch 137/1000\n",
            "1/8 [==>...........................] - ETA: 0s - loss: 0.2349 - accuracy: 0.9062\n",
            "Epoch 137: saving model to model/keypoint_classifier\\keypoint_classifier.hdf5\n",
            "8/8 [==============================] - 0s 9ms/step - loss: 0.2471 - accuracy: 0.9024 - val_loss: 0.1065 - val_accuracy: 0.9658\n",
            "Epoch 138/1000\n",
            "1/8 [==>...........................] - ETA: 0s - loss: 0.1931 - accuracy: 0.9375\n",
            "Epoch 138: saving model to model/keypoint_classifier\\keypoint_classifier.hdf5\n",
            "8/8 [==============================] - 0s 10ms/step - loss: 0.2552 - accuracy: 0.8962 - val_loss: 0.1053 - val_accuracy: 0.9689\n",
            "Epoch 138: early stopping\n"
          ]
        },
        {
          "data": {
            "text/plain": [
              "<keras.src.callbacks.History at 0x17dfa648290>"
            ]
          },
          "execution_count": 11,
          "metadata": {},
          "output_type": "execute_result"
        }
      ],
      "source": [
        "model.fit(\n",
        "    X_train,\n",
        "    y_train,\n",
        "    epochs=1000,\n",
        "    batch_size=128,\n",
        "    validation_data=(X_test, y_test),\n",
        "    callbacks=[cp_callback, es_callback]\n",
        ")"
      ]
    },
    {
      "cell_type": "code",
      "execution_count": 12,
      "metadata": {
        "colab": {
          "base_uri": "https://localhost:8080/"
        },
        "id": "pxvb2Y299hE3",
        "outputId": "59eb3185-2e37-4b9e-bc9d-ab1b8ac29b7f"
      },
      "outputs": [
        {
          "name": "stdout",
          "output_type": "stream",
          "text": [
            "3/3 [==============================] - 0s 0s/step - loss: 0.1053 - accuracy: 0.9689\n"
          ]
        }
      ],
      "source": [
        "# Model evaluation\n",
        "val_loss, val_acc = model.evaluate(X_test, y_test, batch_size=128)"
      ]
    },
    {
      "cell_type": "code",
      "execution_count": 13,
      "metadata": {
        "id": "RBkmDeUW9hE4"
      },
      "outputs": [],
      "source": [
        "# Loading the saved model\n",
        "model = tf.keras.models.load_model(model_save_path)"
      ]
    },
    {
      "cell_type": "code",
      "execution_count": 14,
      "metadata": {
        "colab": {
          "base_uri": "https://localhost:8080/"
        },
        "id": "tFz9Tb0I9hE4",
        "outputId": "1c3b3528-54ae-4ee2-ab04-77429211cbef"
      },
      "outputs": [
        {
          "name": "stdout",
          "output_type": "stream",
          "text": [
            "1/1 [==============================] - 0s 98ms/step\n",
            "[2.7305960e-08 9.9684995e-01 2.9947122e-03 1.5500444e-04 3.1373705e-07]\n",
            "1\n"
          ]
        }
      ],
      "source": [
        "# Inference test\n",
        "predict_result = model.predict(np.array([X_test[0]]))\n",
        "print(np.squeeze(predict_result))\n",
        "print(np.argmax(np.squeeze(predict_result)))"
      ]
    },
    {
      "cell_type": "markdown",
      "metadata": {
        "id": "S3U4yNWx9hE4"
      },
      "source": [
        "# Confusion matrix"
      ]
    },
    {
      "cell_type": "code",
      "execution_count": 15,
      "metadata": {
        "colab": {
          "base_uri": "https://localhost:8080/",
          "height": 582
        },
        "id": "AP1V6SCk9hE5",
        "outputId": "08e41a80-7a4a-4619-8125-ecc371368d19"
      },
      "outputs": [
        {
          "name": "stdout",
          "output_type": "stream",
          "text": [
            "11/11 [==============================] - 0s 3ms/step\n"
          ]
        },
        {
          "data": {
            "image/png": "[encoded data removed]",
            "text/plain": [
              "<Figure size 700x600 with 2 Axes>"
            ]
          },
          "metadata": {},
          "output_type": "display_data"
        },
        {
          "name": "stdout",
          "output_type": "stream",
          "text": [
            "Classification Report\n",
            "              precision    recall  f1-score   support\n",
            "\n",
            "           1       0.98      0.97      0.98       204\n",
            "           2       0.97      0.97      0.97        73\n",
            "           3       0.91      0.96      0.93        45\n",
            "\n",
            "    accuracy                           0.97       322\n",
            "   macro avg       0.96      0.97      0.96       322\n",
            "weighted avg       0.97      0.97      0.97       322\n",
            "\n"
          ]
        }
      ],
      "source": [
        "import pandas as pd\n",
        "import seaborn as sns\n",
        "import matplotlib.pyplot as plt\n",
        "from sklearn.metrics import confusion_matrix, classification_report\n",
        "\n",
        "def print_confusion_matrix(y_true, y_pred, report=True):\n",
        "    labels = sorted(list(set(y_true)))\n",
        "    cmx_data = confusion_matrix(y_true, y_pred, labels=labels)\n",
        "    \n",
        "    df_cmx = pd.DataFrame(cmx_data, index=labels, columns=labels)\n",
        " \n",
        "    fig, ax = plt.subplots(figsize=(7, 6))\n",
        "    sns.heatmap(df_cmx, annot=True, fmt='g' ,square=False)\n",
        "    ax.set_ylim(len(set(y_true)), 0)\n",
        "    plt.show()\n",
        "    \n",
        "    if report:\n",
        "        print('Classification Report')\n",
        "        print(classification_report(y_test, y_pred))\n",
        "\n",
        "Y_pred = model.predict(X_test)\n",
        "y_pred = np.argmax(Y_pred, axis=1)\n",
        "\n",
        "print_confusion_matrix(y_test, y_pred)"
      ]
    },
    {
      "cell_type": "markdown",
      "metadata": {
        "id": "FNP6aqzc9hE5"
      },
      "source": [
        "# Convert to model for Tensorflow-Lite"
      ]
    },
    {
      "cell_type": "code",
      "execution_count": 16,
      "metadata": {
        "id": "ODjnYyld9hE6"
      },
      "outputs": [
        {
          "name": "stderr",
          "output_type": "stream",
          "text": [
            "C:\\Users\\Aadi\\AppData\\Local\\Packages\\PythonSoftwareFoundation.Python.3.11_qbz5n2kfra8p0\\LocalCache\\local-packages\\Python311\\site-packages\\keras\\src\\engine\\training.py:3103: UserWarning: You are saving your model as an HDF5 file via `model.save()`. This file format is considered legacy. We recommend using instead the native Keras format, e.g. `model.save('my_model.keras')`.\n",
            "  saving_api.save_model(\n"
          ]
        }
      ],
      "source": [
        "# Save as a model dedicated to inference\n",
        "model.save(model_save_path, include_optimizer=False)"
      ]
    },
    {
      "cell_type": "code",
      "execution_count": 17,
      "metadata": {
        "colab": {
          "base_uri": "https://localhost:8080/"
        },
        "id": "zRfuK8Y59hE6",
        "outputId": "a4ca585c-b5d5-4244-8291-8674063209bb"
      },
      "outputs": [
        {
          "name": "stdout",
          "output_type": "stream",
          "text": [
            "INFO:tensorflow:Assets written to: C:\\Users\\Aadi\\AppData\\Local\\Temp\\tmpnbwefdvb\\assets\n"
          ]
        },
        {
          "name": "stderr",
          "output_type": "stream",
          "text": [
            "INFO:tensorflow:Assets written to: C:\\Users\\Aadi\\AppData\\Local\\Temp\\tmpnbwefdvb\\assets\n"
          ]
        },
        {
          "data": {
            "text/plain": [
              "6588"
            ]
          },
          "execution_count": 17,
          "metadata": {},
          "output_type": "execute_result"
        }
      ],
      "source": [
        "# Transform model (quantization)\n",
        "\n",
        "converter = tf.lite.TFLiteConverter.from_keras_model(model)\n",
        "converter.optimizations = [tf.lite.Optimize.DEFAULT]\n",
        "tflite_quantized_model = converter.convert()\n",
        "\n",
        "open(tflite_save_path, 'wb').write(tflite_quantized_model)"
      ]
    },
    {
      "cell_type": "markdown",
      "metadata": {
        "id": "CHBPBXdx9hE6"
      },
      "source": [
        "# Inference test"
      ]
    },
    {
      "cell_type": "code",
      "execution_count": 18,
      "metadata": {
        "id": "mGAzLocO9hE7"
      },
      "outputs": [],
      "source": [
        "interpreter = tf.lite.Interpreter(model_path=tflite_save_path)\n",
        "interpreter.allocate_tensors()"
      ]
    },
    {
      "cell_type": "code",
      "execution_count": 19,
      "metadata": {
        "id": "oQuDK8YS9hE7"
      },
      "outputs": [],
      "source": [
        "# Get I / O tensor\n",
        "input_details = interpreter.get_input_details()\n",
        "output_details = interpreter.get_output_details()"
      ]
    },
    {
      "cell_type": "code",
      "execution_count": 20,
      "metadata": {
        "id": "2_ixAf_l9hE7"
      },
      "outputs": [],
      "source": [
        "interpreter.set_tensor(input_details[0]['index'], np.array([X_test[0]]))"
      ]
    },
    {
      "cell_type": "code",
      "execution_count": 21,
      "metadata": {
        "colab": {
          "base_uri": "https://localhost:8080/"
        },
        "id": "s4FoAnuc9hE7",
        "outputId": "91f18257-8d8b-4ef3-c558-e9b5f94fabbf",
        "scrolled": true
      },
      "outputs": [
        {
          "name": "stdout",
          "output_type": "stream",
          "text": [
            "CPU times: total: 0 ns\n",
            "Wall time: 0 ns\n"
          ]
        }
      ],
      "source": [
        "%%time\n",
        "# Inference implementation\n",
        "interpreter.invoke()\n",
        "tflite_results = interpreter.get_tensor(output_details[0]['index'])"
      ]
    },
    {
      "cell_type": "code",
      "execution_count": 22,
      "metadata": {
        "colab": {
          "base_uri": "https://localhost:8080/"
        },
        "id": "vONjp19J9hE8",
        "outputId": "77205e24-fd00-42c4-f7b6-e06e527c2cba"
      },
      "outputs": [
        {
          "name": "stdout",
          "output_type": "stream",
          "text": [
            "[2.7305960e-08 9.9684995e-01 2.9947108e-03 1.5500429e-04 3.1373705e-07]\n",
            "1\n"
          ]
        }
      ],
      "source": [
        "print(np.squeeze(tflite_results))\n",
        "print(np.argmax(np.squeeze(tflite_results)))"
      ]
    }
  ],
  "metadata": {
    "accelerator": "GPU",
    "colab": {
      "collapsed_sections": [],
      "name": "keypoint_classification_EN.ipynb",
      "provenance": [],
      "toc_visible": true
    },
    "kernelspec": {
      "display_name": "Python 3",
      "language": "python",
      "name": "python3"
    },
    "language_info": {
      "codemirror_mode": {
        "name": "ipython",
        "version": 3
      },
      "file_extension": ".py",
      "mimetype": "text/x-python",
      "name": "python",
      "nbconvert_exporter": "python",
      "pygments_lexer": "ipython3",
      "version": "3.11.8"
    }
  },
  "nbformat": 4,
  "nbformat_minor": 0
}
