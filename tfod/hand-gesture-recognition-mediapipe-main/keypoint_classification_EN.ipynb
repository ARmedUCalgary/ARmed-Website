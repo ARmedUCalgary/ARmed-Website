{
  "cells": [
    {
      "cell_type": "code",
      "execution_count": 1,
      "metadata": {
        "id": "igMyGnjE9hEp"
      },
      "outputs": [
        {
          "name": "stdout",
          "output_type": "stream",
          "text": [
            "WARNING:tensorflow:From C:\\Users\\Aadi\\AppData\\Local\\Packages\\PythonSoftwareFoundation.Python.3.11_qbz5n2kfra8p0\\LocalCache\\local-packages\\Python311\\site-packages\\keras\\src\\losses.py:2976: The name tf.losses.sparse_softmax_cross_entropy is deprecated. Please use tf.compat.v1.losses.sparse_softmax_cross_entropy instead.\n",
            "\n"
          ]
        }
      ],
      "source": [
        "import csv\n",
        "\n",
        "import numpy as np\n",
        "import tensorflow as tf\n",
        "from sklearn.model_selection import train_test_split\n",
        "\n",
        "RANDOM_SEED = 42"
      ]
    },
    {
      "cell_type": "markdown",
      "metadata": {
        "id": "t2HDvhIu9hEr"
      },
      "source": [
        "# Specify each path"
      ]
    },
    {
      "cell_type": "code",
      "execution_count": 2,
      "metadata": {
        "id": "9NvZP2Zn9hEy"
      },
      "outputs": [],
      "source": [
        "dataset = 'model/keypoint_classifier/keypoint.csv'\n",
        "model_save_path = 'model/keypoint_classifier/keypoint_classifier.hdf5'\n",
        "tflite_save_path = 'model/keypoint_classifier/keypoint_classifier.tflite'"
      ]
    },
    {
      "cell_type": "markdown",
      "metadata": {
        "id": "s5oMH7x19hEz"
      },
      "source": [
        "# Set number of classes"
      ]
    },
    {
      "cell_type": "code",
      "execution_count": 3,
      "metadata": {
        "id": "du4kodXL9hEz"
      },
      "outputs": [],
      "source": [
        "NUM_CLASSES = 5"
      ]
    },
    {
      "cell_type": "markdown",
      "metadata": {
        "id": "XjnL0uso9hEz"
      },
      "source": [
        "# Dataset reading"
      ]
    },
    {
      "cell_type": "code",
      "execution_count": 4,
      "metadata": {
        "id": "QT5ZqtEz9hE0"
      },
      "outputs": [],
      "source": [
        "X_dataset = np.loadtxt(dataset, delimiter=',', dtype='float32', usecols=list(range(1, (21 * 2) + 1)))"
      ]
    },
    {
      "cell_type": "code",
      "execution_count": 5,
      "metadata": {
        "id": "QmoKFsp49hE0"
      },
      "outputs": [],
      "source": [
        "y_dataset = np.loadtxt(dataset, delimiter=',', dtype='int32', usecols=(0))"
      ]
    },
    {
      "cell_type": "code",
      "execution_count": 6,
      "metadata": {
        "id": "xQU7JTZ_9hE0"
      },
      "outputs": [],
      "source": [
        "X_train, X_test, y_train, y_test = train_test_split(X_dataset, y_dataset, train_size=0.75, random_state=RANDOM_SEED)"
      ]
    },
    {
      "cell_type": "markdown",
      "metadata": {
        "id": "mxK_lETT9hE0"
      },
      "source": [
        "# Model building"
      ]
    },
    {
      "cell_type": "code",
      "execution_count": 7,
      "metadata": {
        "id": "vHBmUf1t9hE1"
      },
      "outputs": [
        {
          "name": "stdout",
          "output_type": "stream",
          "text": [
            "WARNING:tensorflow:From C:\\Users\\Aadi\\AppData\\Local\\Packages\\PythonSoftwareFoundation.Python.3.11_qbz5n2kfra8p0\\LocalCache\\local-packages\\Python311\\site-packages\\keras\\src\\backend.py:1398: The name tf.executing_eagerly_outside_functions is deprecated. Please use tf.compat.v1.executing_eagerly_outside_functions instead.\n",
            "\n"
          ]
        }
      ],
      "source": [
        "model = tf.keras.models.Sequential([\n",
        "    tf.keras.layers.Input((21 * 2, )),\n",
        "    tf.keras.layers.Dropout(0.2),\n",
        "    tf.keras.layers.Dense(20, activation='relu'),\n",
        "    tf.keras.layers.Dropout(0.4),\n",
        "    tf.keras.layers.Dense(10, activation='relu'),\n",
        "    tf.keras.layers.Dense(NUM_CLASSES, activation='softmax')\n",
        "])"
      ]
    },
    {
      "cell_type": "code",
      "execution_count": 8,
      "metadata": {
        "colab": {
          "base_uri": "https://localhost:8080/"
        },
        "id": "ypqky9tc9hE1",
        "outputId": "5db082bb-30e3-4110-bf63-a1ee777ecd46"
      },
      "outputs": [
        {
          "name": "stdout",
          "output_type": "stream",
          "text": [
            "Model: \"sequential\"\n",
            "_________________________________________________________________\n",
            " Layer (type)                Output Shape              Param #   \n",
            "=================================================================\n",
            " dropout (Dropout)           (None, 42)                0         \n",
            "                                                                 \n",
            " dense (Dense)               (None, 20)                860       \n",
            "                                                                 \n",
            " dropout_1 (Dropout)         (None, 20)                0         \n",
            "                                                                 \n",
            " dense_1 (Dense)             (None, 10)                210       \n",
            "                                                                 \n",
            " dense_2 (Dense)             (None, 5)                 55        \n",
            "                                                                 \n",
            "=================================================================\n",
            "Total params: 1125 (4.39 KB)\n",
            "Trainable params: 1125 (4.39 KB)\n",
            "Non-trainable params: 0 (0.00 Byte)\n",
            "_________________________________________________________________\n"
          ]
        }
      ],
      "source": [
        "model.summary()  # tf.keras.utils.plot_model(model, show_shapes=True)"
      ]
    },
    {
      "cell_type": "code",
      "execution_count": 9,
      "metadata": {
        "id": "MbMjOflQ9hE1"
      },
      "outputs": [],
      "source": [
        "# Model checkpoint callback\n",
        "cp_callback = tf.keras.callbacks.ModelCheckpoint(\n",
        "    model_save_path, verbose=1, save_weights_only=False)\n",
        "# Callback for early stopping\n",
        "es_callback = tf.keras.callbacks.EarlyStopping(patience=20, verbose=1)"
      ]
    },
    {
      "cell_type": "code",
      "execution_count": 10,
      "metadata": {
        "id": "c3Dac0M_9hE2"
      },
      "outputs": [
        {
          "name": "stdout",
          "output_type": "stream",
          "text": [
            "WARNING:tensorflow:From C:\\Users\\Aadi\\AppData\\Local\\Packages\\PythonSoftwareFoundation.Python.3.11_qbz5n2kfra8p0\\LocalCache\\local-packages\\Python311\\site-packages\\keras\\src\\optimizers\\__init__.py:309: The name tf.train.Optimizer is deprecated. Please use tf.compat.v1.train.Optimizer instead.\n",
            "\n"
          ]
        }
      ],
      "source": [
        "# Model compilation\n",
        "model.compile(\n",
        "    optimizer='adam',\n",
        "    loss='sparse_categorical_crossentropy',\n",
        "    metrics=['accuracy']\n",
        ")"
      ]
    },
    {
      "cell_type": "markdown",
      "metadata": {
        "id": "7XI0j1Iu9hE2"
      },
      "source": [
        "# Model training"
      ]
    },
    {
      "cell_type": "code",
      "execution_count": 11,
      "metadata": {
        "colab": {
          "base_uri": "https://localhost:8080/"
        },
        "id": "WirBl-JE9hE3",
        "outputId": "71b30ca2-8294-4d9d-8aa2-800d90d399de",
        "scrolled": true
      },
      "outputs": [
        {
          "name": "stdout",
          "output_type": "stream",
          "text": [
            "Epoch 1/1000\n",
            "WARNING:tensorflow:From C:\\Users\\Aadi\\AppData\\Local\\Packages\\PythonSoftwareFoundation.Python.3.11_qbz5n2kfra8p0\\LocalCache\\local-packages\\Python311\\site-packages\\keras\\src\\utils\\tf_utils.py:492: The name tf.ragged.RaggedTensorValue is deprecated. Please use tf.compat.v1.ragged.RaggedTensorValue instead.\n",
            "\n",
            "WARNING:tensorflow:From C:\\Users\\Aadi\\AppData\\Local\\Packages\\PythonSoftwareFoundation.Python.3.11_qbz5n2kfra8p0\\LocalCache\\local-packages\\Python311\\site-packages\\keras\\src\\engine\\base_layer_utils.py:384: The name tf.executing_eagerly_outside_functions is deprecated. Please use tf.compat.v1.executing_eagerly_outside_functions instead.\n",
            "\n",
            "29/29 [==============================] - ETA: 0s - loss: 1.6137 - accuracy: 0.2742 \n",
            "Epoch 1: saving model to model/keypoint_classifier\\keypoint_classifier.hdf5\n",
            "29/29 [==============================] - 2s 21ms/step - loss: 1.6137 - accuracy: 0.2742 - val_loss: 1.4911 - val_accuracy: 0.3172\n",
            "Epoch 2/1000\n",
            " 1/29 [>.............................] - ETA: 0s - loss: 1.4673 - accuracy: 0.3203\n",
            "Epoch 2: saving model to model/keypoint_classifier\\keypoint_classifier.hdf5\n",
            "29/29 [==============================] - 0s 4ms/step - loss: 1.4699 - accuracy: 0.3276 - val_loss: 1.3937 - val_accuracy: 0.3875\n",
            "Epoch 3/1000\n",
            " 1/29 [>.............................] - ETA: 0s - loss: 1.4348 - accuracy: 0.3438"
          ]
        },
        {
          "name": "stderr",
          "output_type": "stream",
          "text": [
            "C:\\Users\\Aadi\\AppData\\Local\\Packages\\PythonSoftwareFoundation.Python.3.11_qbz5n2kfra8p0\\LocalCache\\local-packages\\Python311\\site-packages\\keras\\src\\engine\\training.py:3103: UserWarning: You are saving your model as an HDF5 file via `model.save()`. This file format is considered legacy. We recommend using instead the native Keras format, e.g. `model.save('my_model.keras')`.\n",
            "  saving_api.save_model(\n"
          ]
        },
        {
          "name": "stdout",
          "output_type": "stream",
          "text": [
            "\n",
            "Epoch 3: saving model to model/keypoint_classifier\\keypoint_classifier.hdf5\n",
            "29/29 [==============================] - 0s 4ms/step - loss: 1.3849 - accuracy: 0.3807 - val_loss: 1.3126 - val_accuracy: 0.4417\n",
            "Epoch 4/1000\n",
            " 1/29 [>.............................] - ETA: 0s - loss: 1.3434 - accuracy: 0.4141\n",
            "Epoch 4: saving model to model/keypoint_classifier\\keypoint_classifier.hdf5\n",
            "29/29 [==============================] - 0s 4ms/step - loss: 1.3037 - accuracy: 0.4350 - val_loss: 1.2256 - val_accuracy: 0.4862\n",
            "Epoch 5/1000\n",
            " 1/29 [>.............................] - ETA: 0s - loss: 1.2580 - accuracy: 0.4531\n",
            "Epoch 5: saving model to model/keypoint_classifier\\keypoint_classifier.hdf5\n",
            "29/29 [==============================] - 0s 4ms/step - loss: 1.2428 - accuracy: 0.4584 - val_loss: 1.1515 - val_accuracy: 0.5437\n",
            "Epoch 6/1000\n",
            " 1/29 [>.............................] - ETA: 0s - loss: 1.1734 - accuracy: 0.4688\n",
            "Epoch 6: saving model to model/keypoint_classifier\\keypoint_classifier.hdf5\n",
            "29/29 [==============================] - 0s 4ms/step - loss: 1.1805 - accuracy: 0.4989 - val_loss: 1.0793 - val_accuracy: 0.5955\n",
            "Epoch 7/1000\n",
            " 1/29 [>.............................] - ETA: 0s - loss: 1.0878 - accuracy: 0.5859\n",
            "Epoch 7: saving model to model/keypoint_classifier\\keypoint_classifier.hdf5\n",
            "29/29 [==============================] - 0s 4ms/step - loss: 1.1339 - accuracy: 0.5302 - val_loss: 1.0211 - val_accuracy: 0.6456\n",
            "Epoch 8/1000\n",
            " 1/29 [>.............................] - ETA: 0s - loss: 1.1465 - accuracy: 0.5000\n",
            "Epoch 8: saving model to model/keypoint_classifier\\keypoint_classifier.hdf5\n",
            "29/29 [==============================] - 0s 4ms/step - loss: 1.1080 - accuracy: 0.5391 - val_loss: 0.9657 - val_accuracy: 0.6739\n",
            "Epoch 9/1000\n",
            " 1/29 [>.............................] - ETA: 0s - loss: 1.0736 - accuracy: 0.5234\n",
            "Epoch 9: saving model to model/keypoint_classifier\\keypoint_classifier.hdf5\n",
            "29/29 [==============================] - 0s 4ms/step - loss: 1.0572 - accuracy: 0.5513 - val_loss: 0.9126 - val_accuracy: 0.6869\n",
            "Epoch 10/1000\n",
            " 1/29 [>.............................] - ETA: 0s - loss: 1.0432 - accuracy: 0.5312\n",
            "Epoch 10: saving model to model/keypoint_classifier\\keypoint_classifier.hdf5\n",
            "29/29 [==============================] - 0s 4ms/step - loss: 1.0151 - accuracy: 0.5861 - val_loss: 0.8650 - val_accuracy: 0.7403\n",
            "Epoch 11/1000\n",
            " 1/29 [>.............................] - ETA: 0s - loss: 0.9472 - accuracy: 0.6250\n",
            "Epoch 11: saving model to model/keypoint_classifier\\keypoint_classifier.hdf5\n",
            "29/29 [==============================] - 0s 4ms/step - loss: 0.9887 - accuracy: 0.5909 - val_loss: 0.8168 - val_accuracy: 0.7702\n",
            "Epoch 12/1000\n",
            " 1/29 [>.............................] - ETA: 0s - loss: 1.0368 - accuracy: 0.6016\n",
            "Epoch 12: saving model to model/keypoint_classifier\\keypoint_classifier.hdf5\n",
            "29/29 [==============================] - 0s 4ms/step - loss: 0.9754 - accuracy: 0.5977 - val_loss: 0.7737 - val_accuracy: 0.7840\n",
            "Epoch 13/1000\n",
            " 1/29 [>.............................] - ETA: 0s - loss: 1.0231 - accuracy: 0.5703\n",
            "Epoch 13: saving model to model/keypoint_classifier\\keypoint_classifier.hdf5\n",
            "29/29 [==============================] - 0s 4ms/step - loss: 0.9476 - accuracy: 0.6106 - val_loss: 0.7374 - val_accuracy: 0.7905\n",
            "Epoch 14/1000\n",
            " 1/29 [>.............................] - ETA: 0s - loss: 0.8539 - accuracy: 0.6719\n",
            "Epoch 14: saving model to model/keypoint_classifier\\keypoint_classifier.hdf5\n",
            "29/29 [==============================] - 0s 4ms/step - loss: 0.9188 - accuracy: 0.6282 - val_loss: 0.7007 - val_accuracy: 0.8074\n",
            "Epoch 15/1000\n",
            " 1/29 [>.............................] - ETA: 0s - loss: 0.8975 - accuracy: 0.6172\n",
            "Epoch 15: saving model to model/keypoint_classifier\\keypoint_classifier.hdf5\n",
            "29/29 [==============================] - 0s 4ms/step - loss: 0.8939 - accuracy: 0.6252 - val_loss: 0.6658 - val_accuracy: 0.8196\n",
            "Epoch 16/1000\n",
            " 1/29 [>.............................] - ETA: 0s - loss: 0.9968 - accuracy: 0.5547\n",
            "Epoch 16: saving model to model/keypoint_classifier\\keypoint_classifier.hdf5\n",
            "29/29 [==============================] - 0s 4ms/step - loss: 0.8758 - accuracy: 0.6471 - val_loss: 0.6369 - val_accuracy: 0.8180\n",
            "Epoch 17/1000\n",
            "19/29 [==================>...........] - ETA: 0s - loss: 0.8380 - accuracy: 0.6583\n",
            "Epoch 17: saving model to model/keypoint_classifier\\keypoint_classifier.hdf5\n",
            "29/29 [==============================] - 0s 5ms/step - loss: 0.8465 - accuracy: 0.6562 - val_loss: 0.6063 - val_accuracy: 0.8261\n",
            "Epoch 18/1000\n",
            " 1/29 [>.............................] - ETA: 0s - loss: 0.8854 - accuracy: 0.6250\n",
            "Epoch 18: saving model to model/keypoint_classifier\\keypoint_classifier.hdf5\n",
            "29/29 [==============================] - 0s 4ms/step - loss: 0.8353 - accuracy: 0.6511 - val_loss: 0.5867 - val_accuracy: 0.8382\n",
            "Epoch 19/1000\n",
            " 1/29 [>.............................] - ETA: 0s - loss: 0.8515 - accuracy: 0.6484\n",
            "Epoch 19: saving model to model/keypoint_classifier\\keypoint_classifier.hdf5\n",
            "29/29 [==============================] - 0s 4ms/step - loss: 0.8476 - accuracy: 0.6535 - val_loss: 0.5681 - val_accuracy: 0.8439\n",
            "Epoch 20/1000\n",
            " 1/29 [>.............................] - ETA: 0s - loss: 0.7513 - accuracy: 0.7031\n",
            "Epoch 20: saving model to model/keypoint_classifier\\keypoint_classifier.hdf5\n",
            "29/29 [==============================] - 0s 4ms/step - loss: 0.8070 - accuracy: 0.6713 - val_loss: 0.5485 - val_accuracy: 0.8439\n",
            "Epoch 21/1000\n",
            " 1/29 [>.............................] - ETA: 0s - loss: 0.7831 - accuracy: 0.6953\n",
            "Epoch 21: saving model to model/keypoint_classifier\\keypoint_classifier.hdf5\n",
            "29/29 [==============================] - 0s 4ms/step - loss: 0.8024 - accuracy: 0.6773 - val_loss: 0.5306 - val_accuracy: 0.8495\n",
            "Epoch 22/1000\n",
            " 1/29 [>.............................] - ETA: 0s - loss: 0.7955 - accuracy: 0.6328\n",
            "Epoch 22: saving model to model/keypoint_classifier\\keypoint_classifier.hdf5\n",
            "29/29 [==============================] - 0s 4ms/step - loss: 0.7970 - accuracy: 0.6789 - val_loss: 0.5212 - val_accuracy: 0.8519\n",
            "Epoch 23/1000\n",
            " 1/29 [>.............................] - ETA: 0s - loss: 0.8038 - accuracy: 0.6641\n",
            "Epoch 23: saving model to model/keypoint_classifier\\keypoint_classifier.hdf5\n",
            "29/29 [==============================] - 0s 4ms/step - loss: 0.7830 - accuracy: 0.6811 - val_loss: 0.5003 - val_accuracy: 0.8576\n",
            "Epoch 24/1000\n",
            " 1/29 [>.............................] - ETA: 0s - loss: 0.7895 - accuracy: 0.6797\n",
            "Epoch 24: saving model to model/keypoint_classifier\\keypoint_classifier.hdf5\n",
            "29/29 [==============================] - 0s 4ms/step - loss: 0.7716 - accuracy: 0.6789 - val_loss: 0.4959 - val_accuracy: 0.8608\n",
            "Epoch 25/1000\n",
            " 1/29 [>.............................] - ETA: 0s - loss: 0.7516 - accuracy: 0.6641\n",
            "Epoch 25: saving model to model/keypoint_classifier\\keypoint_classifier.hdf5\n",
            "29/29 [==============================] - 0s 4ms/step - loss: 0.7662 - accuracy: 0.6902 - val_loss: 0.4772 - val_accuracy: 0.8835\n",
            "Epoch 26/1000\n",
            " 1/29 [>.............................] - ETA: 0s - loss: 0.5756 - accuracy: 0.7969\n",
            "Epoch 26: saving model to model/keypoint_classifier\\keypoint_classifier.hdf5\n",
            "29/29 [==============================] - 0s 4ms/step - loss: 0.7533 - accuracy: 0.6932 - val_loss: 0.4752 - val_accuracy: 0.8778\n",
            "Epoch 27/1000\n",
            " 1/29 [>.............................] - ETA: 0s - loss: 0.8374 - accuracy: 0.6875\n",
            "Epoch 27: saving model to model/keypoint_classifier\\keypoint_classifier.hdf5\n",
            "29/29 [==============================] - 0s 4ms/step - loss: 0.7400 - accuracy: 0.7029 - val_loss: 0.4529 - val_accuracy: 0.9021\n",
            "Epoch 28/1000\n",
            " 1/29 [>.............................] - ETA: 0s - loss: 0.7105 - accuracy: 0.7188\n",
            "Epoch 28: saving model to model/keypoint_classifier\\keypoint_classifier.hdf5\n",
            "29/29 [==============================] - 0s 4ms/step - loss: 0.7379 - accuracy: 0.7026 - val_loss: 0.4450 - val_accuracy: 0.8948\n",
            "Epoch 29/1000\n",
            " 1/29 [>.............................] - ETA: 0s - loss: 0.7139 - accuracy: 0.6797\n",
            "Epoch 29: saving model to model/keypoint_classifier\\keypoint_classifier.hdf5\n",
            "29/29 [==============================] - 0s 4ms/step - loss: 0.7277 - accuracy: 0.7078 - val_loss: 0.4364 - val_accuracy: 0.9150\n",
            "Epoch 30/1000\n",
            " 1/29 [>.............................] - ETA: 0s - loss: 0.8531 - accuracy: 0.6719\n",
            "Epoch 30: saving model to model/keypoint_classifier\\keypoint_classifier.hdf5\n",
            "29/29 [==============================] - 0s 4ms/step - loss: 0.7235 - accuracy: 0.7134 - val_loss: 0.4233 - val_accuracy: 0.9142\n",
            "Epoch 31/1000\n",
            " 1/29 [>.............................] - ETA: 0s - loss: 0.6726 - accuracy: 0.7656\n",
            "Epoch 31: saving model to model/keypoint_classifier\\keypoint_classifier.hdf5\n",
            "29/29 [==============================] - 0s 4ms/step - loss: 0.7139 - accuracy: 0.7137 - val_loss: 0.4140 - val_accuracy: 0.9223\n",
            "Epoch 32/1000\n",
            " 1/29 [>.............................] - ETA: 0s - loss: 0.7635 - accuracy: 0.7109\n",
            "Epoch 32: saving model to model/keypoint_classifier\\keypoint_classifier.hdf5\n",
            "29/29 [==============================] - 0s 4ms/step - loss: 0.7032 - accuracy: 0.7180 - val_loss: 0.4011 - val_accuracy: 0.9280\n",
            "Epoch 33/1000\n",
            " 1/29 [>.............................] - ETA: 0s - loss: 0.6201 - accuracy: 0.7812\n",
            "Epoch 33: saving model to model/keypoint_classifier\\keypoint_classifier.hdf5\n",
            "29/29 [==============================] - 0s 4ms/step - loss: 0.7068 - accuracy: 0.7269 - val_loss: 0.4016 - val_accuracy: 0.9256\n",
            "Epoch 34/1000\n",
            "21/29 [====================>.........] - ETA: 0s - loss: 0.7088 - accuracy: 0.7165\n",
            "Epoch 34: saving model to model/keypoint_classifier\\keypoint_classifier.hdf5\n",
            "29/29 [==============================] - 0s 5ms/step - loss: 0.6976 - accuracy: 0.7202 - val_loss: 0.3962 - val_accuracy: 0.9288\n",
            "Epoch 35/1000\n",
            " 1/29 [>.............................] - ETA: 0s - loss: 0.6924 - accuracy: 0.7422\n",
            "Epoch 35: saving model to model/keypoint_classifier\\keypoint_classifier.hdf5\n",
            "29/29 [==============================] - 0s 4ms/step - loss: 0.6957 - accuracy: 0.7258 - val_loss: 0.3977 - val_accuracy: 0.9150\n",
            "Epoch 36/1000\n",
            " 1/29 [>.............................] - ETA: 0s - loss: 0.7257 - accuracy: 0.7109\n",
            "Epoch 36: saving model to model/keypoint_classifier\\keypoint_classifier.hdf5\n",
            "29/29 [==============================] - 0s 4ms/step - loss: 0.6946 - accuracy: 0.7191 - val_loss: 0.3814 - val_accuracy: 0.9215\n",
            "Epoch 37/1000\n",
            " 1/29 [>.............................] - ETA: 0s - loss: 0.7045 - accuracy: 0.7031\n",
            "Epoch 37: saving model to model/keypoint_classifier\\keypoint_classifier.hdf5\n",
            "29/29 [==============================] - 0s 4ms/step - loss: 0.6620 - accuracy: 0.7437 - val_loss: 0.3693 - val_accuracy: 0.9328\n",
            "Epoch 38/1000\n",
            " 1/29 [>.............................] - ETA: 0s - loss: 0.7565 - accuracy: 0.7188\n",
            "Epoch 38: saving model to model/keypoint_classifier\\keypoint_classifier.hdf5\n",
            "29/29 [==============================] - 0s 4ms/step - loss: 0.6820 - accuracy: 0.7250 - val_loss: 0.3726 - val_accuracy: 0.9191\n",
            "Epoch 39/1000\n",
            " 1/29 [>.............................] - ETA: 0s - loss: 0.6025 - accuracy: 0.8047\n",
            "Epoch 39: saving model to model/keypoint_classifier\\keypoint_classifier.hdf5\n",
            "29/29 [==============================] - 0s 4ms/step - loss: 0.6902 - accuracy: 0.7256 - val_loss: 0.3722 - val_accuracy: 0.9248\n",
            "Epoch 40/1000\n",
            " 1/29 [>.............................] - ETA: 0s - loss: 0.7481 - accuracy: 0.6719\n",
            "Epoch 40: saving model to model/keypoint_classifier\\keypoint_classifier.hdf5\n",
            "29/29 [==============================] - 0s 4ms/step - loss: 0.6671 - accuracy: 0.7337 - val_loss: 0.3688 - val_accuracy: 0.9231\n",
            "Epoch 41/1000\n",
            " 1/29 [>.............................] - ETA: 0s - loss: 0.6108 - accuracy: 0.7656\n",
            "Epoch 41: saving model to model/keypoint_classifier\\keypoint_classifier.hdf5\n",
            "29/29 [==============================] - 0s 4ms/step - loss: 0.6740 - accuracy: 0.7302 - val_loss: 0.3597 - val_accuracy: 0.9312\n",
            "Epoch 42/1000\n",
            " 1/29 [>.............................] - ETA: 0s - loss: 0.6129 - accuracy: 0.7812\n",
            "Epoch 42: saving model to model/keypoint_classifier\\keypoint_classifier.hdf5\n",
            "29/29 [==============================] - 0s 4ms/step - loss: 0.6720 - accuracy: 0.7437 - val_loss: 0.3582 - val_accuracy: 0.9304\n",
            "Epoch 43/1000\n",
            " 1/29 [>.............................] - ETA: 0s - loss: 0.5325 - accuracy: 0.7891\n",
            "Epoch 43: saving model to model/keypoint_classifier\\keypoint_classifier.hdf5\n",
            "29/29 [==============================] - 0s 5ms/step - loss: 0.6387 - accuracy: 0.7445 - val_loss: 0.3500 - val_accuracy: 0.9272\n",
            "Epoch 44/1000\n",
            "29/29 [==============================] - ETA: 0s - loss: 0.6529 - accuracy: 0.7377\n",
            "Epoch 44: saving model to model/keypoint_classifier\\keypoint_classifier.hdf5\n",
            "29/29 [==============================] - 0s 4ms/step - loss: 0.6529 - accuracy: 0.7377 - val_loss: 0.3550 - val_accuracy: 0.9207\n",
            "Epoch 45/1000\n",
            " 1/29 [>.............................] - ETA: 0s - loss: 0.6437 - accuracy: 0.7344\n",
            "Epoch 45: saving model to model/keypoint_classifier\\keypoint_classifier.hdf5\n",
            "29/29 [==============================] - 0s 4ms/step - loss: 0.6604 - accuracy: 0.7450 - val_loss: 0.3399 - val_accuracy: 0.9369\n",
            "Epoch 46/1000\n",
            " 1/29 [>.............................] - ETA: 0s - loss: 0.5872 - accuracy: 0.8281\n",
            "Epoch 46: saving model to model/keypoint_classifier\\keypoint_classifier.hdf5\n",
            "29/29 [==============================] - 0s 4ms/step - loss: 0.6567 - accuracy: 0.7439 - val_loss: 0.3386 - val_accuracy: 0.9304\n",
            "Epoch 47/1000\n",
            " 1/29 [>.............................] - ETA: 0s - loss: 0.5717 - accuracy: 0.7812\n",
            "Epoch 47: saving model to model/keypoint_classifier\\keypoint_classifier.hdf5\n",
            "29/29 [==============================] - 0s 4ms/step - loss: 0.6401 - accuracy: 0.7574 - val_loss: 0.3416 - val_accuracy: 0.9280\n",
            "Epoch 48/1000\n",
            " 1/29 [>.............................] - ETA: 0s - loss: 0.6080 - accuracy: 0.7500\n",
            "Epoch 48: saving model to model/keypoint_classifier\\keypoint_classifier.hdf5\n",
            "29/29 [==============================] - 0s 4ms/step - loss: 0.6385 - accuracy: 0.7461 - val_loss: 0.3249 - val_accuracy: 0.9312\n",
            "Epoch 49/1000\n",
            " 1/29 [>.............................] - ETA: 0s - loss: 0.6408 - accuracy: 0.7266\n",
            "Epoch 49: saving model to model/keypoint_classifier\\keypoint_classifier.hdf5\n",
            "29/29 [==============================] - 0s 4ms/step - loss: 0.6391 - accuracy: 0.7534 - val_loss: 0.3258 - val_accuracy: 0.9312\n",
            "Epoch 50/1000\n",
            "20/29 [===================>..........] - ETA: 0s - loss: 0.6535 - accuracy: 0.7574\n",
            "Epoch 50: saving model to model/keypoint_classifier\\keypoint_classifier.hdf5\n",
            "29/29 [==============================] - 0s 5ms/step - loss: 0.6518 - accuracy: 0.7558 - val_loss: 0.3289 - val_accuracy: 0.9264\n",
            "Epoch 51/1000\n",
            " 1/29 [>.............................] - ETA: 0s - loss: 0.6455 - accuracy: 0.7578\n",
            "Epoch 51: saving model to model/keypoint_classifier\\keypoint_classifier.hdf5\n",
            "29/29 [==============================] - 0s 4ms/step - loss: 0.6252 - accuracy: 0.7598 - val_loss: 0.3226 - val_accuracy: 0.9361\n",
            "Epoch 52/1000\n",
            " 1/29 [>.............................] - ETA: 0s - loss: 0.6067 - accuracy: 0.7812\n",
            "Epoch 52: saving model to model/keypoint_classifier\\keypoint_classifier.hdf5\n",
            "29/29 [==============================] - 0s 4ms/step - loss: 0.6428 - accuracy: 0.7550 - val_loss: 0.3214 - val_accuracy: 0.9272\n",
            "Epoch 53/1000\n",
            " 1/29 [>.............................] - ETA: 0s - loss: 0.6830 - accuracy: 0.7188\n",
            "Epoch 53: saving model to model/keypoint_classifier\\keypoint_classifier.hdf5\n",
            "29/29 [==============================] - 0s 4ms/step - loss: 0.6275 - accuracy: 0.7520 - val_loss: 0.3179 - val_accuracy: 0.9353\n",
            "Epoch 54/1000\n",
            " 1/29 [>.............................] - ETA: 0s - loss: 0.6976 - accuracy: 0.7578\n",
            "Epoch 54: saving model to model/keypoint_classifier\\keypoint_classifier.hdf5\n",
            "29/29 [==============================] - 0s 4ms/step - loss: 0.6199 - accuracy: 0.7634 - val_loss: 0.3173 - val_accuracy: 0.9312\n",
            "Epoch 55/1000\n",
            " 1/29 [>.............................] - ETA: 0s - loss: 0.5133 - accuracy: 0.8125\n",
            "Epoch 55: saving model to model/keypoint_classifier\\keypoint_classifier.hdf5\n",
            "29/29 [==============================] - 0s 4ms/step - loss: 0.6188 - accuracy: 0.7690 - val_loss: 0.3018 - val_accuracy: 0.9426\n",
            "Epoch 56/1000\n",
            " 1/29 [>.............................] - ETA: 0s - loss: 0.5942 - accuracy: 0.8047\n",
            "Epoch 56: saving model to model/keypoint_classifier\\keypoint_classifier.hdf5\n",
            "29/29 [==============================] - 0s 4ms/step - loss: 0.6269 - accuracy: 0.7598 - val_loss: 0.3056 - val_accuracy: 0.9409\n",
            "Epoch 57/1000\n",
            " 1/29 [>.............................] - ETA: 0s - loss: 0.5865 - accuracy: 0.7969\n",
            "Epoch 57: saving model to model/keypoint_classifier\\keypoint_classifier.hdf5\n",
            "29/29 [==============================] - 0s 4ms/step - loss: 0.6193 - accuracy: 0.7661 - val_loss: 0.3050 - val_accuracy: 0.9312\n",
            "Epoch 58/1000\n",
            " 1/29 [>.............................] - ETA: 0s - loss: 0.5826 - accuracy: 0.7891\n",
            "Epoch 58: saving model to model/keypoint_classifier\\keypoint_classifier.hdf5\n",
            "29/29 [==============================] - 0s 4ms/step - loss: 0.6011 - accuracy: 0.7747 - val_loss: 0.3019 - val_accuracy: 0.9409\n",
            "Epoch 59/1000\n",
            " 1/29 [>.............................] - ETA: 0s - loss: 0.6535 - accuracy: 0.7969\n",
            "Epoch 59: saving model to model/keypoint_classifier\\keypoint_classifier.hdf5\n",
            "29/29 [==============================] - 0s 4ms/step - loss: 0.6449 - accuracy: 0.7572 - val_loss: 0.3107 - val_accuracy: 0.9361\n",
            "Epoch 60/1000\n",
            " 1/29 [>.............................] - ETA: 0s - loss: 0.4793 - accuracy: 0.8438\n",
            "Epoch 60: saving model to model/keypoint_classifier\\keypoint_classifier.hdf5\n",
            "29/29 [==============================] - 0s 4ms/step - loss: 0.5941 - accuracy: 0.7774 - val_loss: 0.3038 - val_accuracy: 0.9312\n",
            "Epoch 61/1000\n",
            " 1/29 [>.............................] - ETA: 0s - loss: 0.5638 - accuracy: 0.7969\n",
            "Epoch 61: saving model to model/keypoint_classifier\\keypoint_classifier.hdf5\n",
            "29/29 [==============================] - 0s 4ms/step - loss: 0.6227 - accuracy: 0.7671 - val_loss: 0.3070 - val_accuracy: 0.9312\n",
            "Epoch 62/1000\n",
            " 1/29 [>.............................] - ETA: 0s - loss: 0.5441 - accuracy: 0.8281\n",
            "Epoch 62: saving model to model/keypoint_classifier\\keypoint_classifier.hdf5\n",
            "29/29 [==============================] - 0s 4ms/step - loss: 0.6281 - accuracy: 0.7580 - val_loss: 0.2970 - val_accuracy: 0.9361\n",
            "Epoch 63/1000\n",
            " 1/29 [>.............................] - ETA: 0s - loss: 0.6940 - accuracy: 0.7578\n",
            "Epoch 63: saving model to model/keypoint_classifier\\keypoint_classifier.hdf5\n",
            "29/29 [==============================] - 0s 4ms/step - loss: 0.6172 - accuracy: 0.7601 - val_loss: 0.3001 - val_accuracy: 0.9328\n",
            "Epoch 64/1000\n",
            " 1/29 [>.............................] - ETA: 0s - loss: 0.6261 - accuracy: 0.7734\n",
            "Epoch 64: saving model to model/keypoint_classifier\\keypoint_classifier.hdf5\n",
            "29/29 [==============================] - 0s 4ms/step - loss: 0.6127 - accuracy: 0.7617 - val_loss: 0.3029 - val_accuracy: 0.9369\n",
            "Epoch 65/1000\n",
            "18/29 [=================>............] - ETA: 0s - loss: 0.5728 - accuracy: 0.7817\n",
            "Epoch 65: saving model to model/keypoint_classifier\\keypoint_classifier.hdf5\n",
            "29/29 [==============================] - 0s 5ms/step - loss: 0.5837 - accuracy: 0.7833 - val_loss: 0.2854 - val_accuracy: 0.9409\n",
            "Epoch 66/1000\n",
            " 1/29 [>.............................] - ETA: 0s - loss: 0.5822 - accuracy: 0.7969\n",
            "Epoch 66: saving model to model/keypoint_classifier\\keypoint_classifier.hdf5\n",
            "29/29 [==============================] - 0s 4ms/step - loss: 0.6098 - accuracy: 0.7669 - val_loss: 0.2949 - val_accuracy: 0.9385\n",
            "Epoch 67/1000\n",
            " 1/29 [>.............................] - ETA: 0s - loss: 0.4842 - accuracy: 0.8281\n",
            "Epoch 67: saving model to model/keypoint_classifier\\keypoint_classifier.hdf5\n",
            "29/29 [==============================] - 0s 4ms/step - loss: 0.6046 - accuracy: 0.7790 - val_loss: 0.2847 - val_accuracy: 0.9361\n",
            "Epoch 68/1000\n",
            " 1/29 [>.............................] - ETA: 0s - loss: 0.6501 - accuracy: 0.7422\n",
            "Epoch 68: saving model to model/keypoint_classifier\\keypoint_classifier.hdf5\n",
            "29/29 [==============================] - 0s 4ms/step - loss: 0.5783 - accuracy: 0.7812 - val_loss: 0.2839 - val_accuracy: 0.9409\n",
            "Epoch 69/1000\n",
            " 1/29 [>.............................] - ETA: 0s - loss: 0.6349 - accuracy: 0.6797\n",
            "Epoch 69: saving model to model/keypoint_classifier\\keypoint_classifier.hdf5\n",
            "29/29 [==============================] - 0s 4ms/step - loss: 0.6027 - accuracy: 0.7690 - val_loss: 0.2812 - val_accuracy: 0.9401\n",
            "Epoch 70/1000\n",
            " 1/29 [>.............................] - ETA: 0s - loss: 0.5246 - accuracy: 0.7734\n",
            "Epoch 70: saving model to model/keypoint_classifier\\keypoint_classifier.hdf5\n",
            "29/29 [==============================] - 0s 4ms/step - loss: 0.5990 - accuracy: 0.7690 - val_loss: 0.2783 - val_accuracy: 0.9426\n",
            "Epoch 71/1000\n",
            " 1/29 [>.............................] - ETA: 0s - loss: 0.4708 - accuracy: 0.8594\n",
            "Epoch 71: saving model to model/keypoint_classifier\\keypoint_classifier.hdf5\n",
            "29/29 [==============================] - 0s 4ms/step - loss: 0.6089 - accuracy: 0.7696 - val_loss: 0.2818 - val_accuracy: 0.9482\n",
            "Epoch 72/1000\n",
            " 1/29 [>.............................] - ETA: 0s - loss: 0.5253 - accuracy: 0.7969\n",
            "Epoch 72: saving model to model/keypoint_classifier\\keypoint_classifier.hdf5\n",
            "29/29 [==============================] - 0s 3ms/step - loss: 0.5877 - accuracy: 0.7812 - val_loss: 0.2723 - val_accuracy: 0.9466\n",
            "Epoch 73/1000\n",
            " 1/29 [>.............................] - ETA: 0s - loss: 0.5825 - accuracy: 0.7656\n",
            "Epoch 73: saving model to model/keypoint_classifier\\keypoint_classifier.hdf5\n",
            "29/29 [==============================] - 0s 4ms/step - loss: 0.6120 - accuracy: 0.7647 - val_loss: 0.2807 - val_accuracy: 0.9442\n",
            "Epoch 74/1000\n",
            " 1/29 [>.............................] - ETA: 0s - loss: 0.6964 - accuracy: 0.7266\n",
            "Epoch 74: saving model to model/keypoint_classifier\\keypoint_classifier.hdf5\n",
            "29/29 [==============================] - 0s 4ms/step - loss: 0.5902 - accuracy: 0.7696 - val_loss: 0.2814 - val_accuracy: 0.9450\n",
            "Epoch 75/1000\n",
            " 1/29 [>.............................] - ETA: 0s - loss: 0.5839 - accuracy: 0.7734\n",
            "Epoch 75: saving model to model/keypoint_classifier\\keypoint_classifier.hdf5\n",
            "29/29 [==============================] - 0s 4ms/step - loss: 0.5950 - accuracy: 0.7739 - val_loss: 0.2840 - val_accuracy: 0.9417\n",
            "Epoch 76/1000\n",
            " 1/29 [>.............................] - ETA: 0s - loss: 0.6836 - accuracy: 0.7578\n",
            "Epoch 76: saving model to model/keypoint_classifier\\keypoint_classifier.hdf5\n",
            "29/29 [==============================] - 0s 4ms/step - loss: 0.6097 - accuracy: 0.7650 - val_loss: 0.2813 - val_accuracy: 0.9409\n",
            "Epoch 77/1000\n",
            " 1/29 [>.............................] - ETA: 0s - loss: 0.5667 - accuracy: 0.7891\n",
            "Epoch 77: saving model to model/keypoint_classifier\\keypoint_classifier.hdf5\n",
            "29/29 [==============================] - 0s 4ms/step - loss: 0.5842 - accuracy: 0.7766 - val_loss: 0.2745 - val_accuracy: 0.9482\n",
            "Epoch 78/1000\n",
            " 1/29 [>.............................] - ETA: 0s - loss: 0.6075 - accuracy: 0.7578\n",
            "Epoch 78: saving model to model/keypoint_classifier\\keypoint_classifier.hdf5\n",
            "29/29 [==============================] - 0s 4ms/step - loss: 0.5857 - accuracy: 0.7779 - val_loss: 0.2702 - val_accuracy: 0.9450\n",
            "Epoch 79/1000\n",
            " 1/29 [>.............................] - ETA: 0s - loss: 0.5308 - accuracy: 0.8203\n",
            "Epoch 79: saving model to model/keypoint_classifier\\keypoint_classifier.hdf5\n",
            "29/29 [==============================] - 0s 4ms/step - loss: 0.5989 - accuracy: 0.7731 - val_loss: 0.2769 - val_accuracy: 0.9401\n",
            "Epoch 80/1000\n",
            " 1/29 [>.............................] - ETA: 0s - loss: 0.5547 - accuracy: 0.7969\n",
            "Epoch 80: saving model to model/keypoint_classifier\\keypoint_classifier.hdf5\n",
            "29/29 [==============================] - 0s 4ms/step - loss: 0.5796 - accuracy: 0.7763 - val_loss: 0.2734 - val_accuracy: 0.9506\n",
            "Epoch 81/1000\n",
            " 1/29 [>.............................] - ETA: 0s - loss: 0.4883 - accuracy: 0.8281\n",
            "Epoch 81: saving model to model/keypoint_classifier\\keypoint_classifier.hdf5\n",
            "29/29 [==============================] - 0s 4ms/step - loss: 0.5786 - accuracy: 0.7879 - val_loss: 0.2726 - val_accuracy: 0.9474\n",
            "Epoch 82/1000\n",
            " 1/29 [>.............................] - ETA: 0s - loss: 0.6371 - accuracy: 0.7500\n",
            "Epoch 82: saving model to model/keypoint_classifier\\keypoint_classifier.hdf5\n",
            "29/29 [==============================] - 0s 4ms/step - loss: 0.6024 - accuracy: 0.7720 - val_loss: 0.2762 - val_accuracy: 0.9369\n",
            "Epoch 83/1000\n",
            " 1/29 [>.............................] - ETA: 0s - loss: 0.6560 - accuracy: 0.7500\n",
            "Epoch 83: saving model to model/keypoint_classifier\\keypoint_classifier.hdf5\n",
            "29/29 [==============================] - 0s 4ms/step - loss: 0.5689 - accuracy: 0.7885 - val_loss: 0.2680 - val_accuracy: 0.9434\n",
            "Epoch 84/1000\n",
            " 1/29 [>.............................] - ETA: 0s - loss: 0.5425 - accuracy: 0.7812\n",
            "Epoch 84: saving model to model/keypoint_classifier\\keypoint_classifier.hdf5\n",
            "29/29 [==============================] - 0s 4ms/step - loss: 0.5913 - accuracy: 0.7723 - val_loss: 0.2693 - val_accuracy: 0.9466\n",
            "Epoch 85/1000\n",
            " 1/29 [>.............................] - ETA: 0s - loss: 0.6460 - accuracy: 0.7422\n",
            "Epoch 85: saving model to model/keypoint_classifier\\keypoint_classifier.hdf5\n",
            "29/29 [==============================] - 0s 4ms/step - loss: 0.5861 - accuracy: 0.7812 - val_loss: 0.2635 - val_accuracy: 0.9498\n",
            "Epoch 86/1000\n",
            " 1/29 [>.............................] - ETA: 0s - loss: 0.6580 - accuracy: 0.7656\n",
            "Epoch 86: saving model to model/keypoint_classifier\\keypoint_classifier.hdf5\n",
            "29/29 [==============================] - 0s 4ms/step - loss: 0.5800 - accuracy: 0.7874 - val_loss: 0.2658 - val_accuracy: 0.9401\n",
            "Epoch 87/1000\n",
            " 1/29 [>.............................] - ETA: 0s - loss: 0.4820 - accuracy: 0.8359\n",
            "Epoch 87: saving model to model/keypoint_classifier\\keypoint_classifier.hdf5\n",
            "29/29 [==============================] - 0s 4ms/step - loss: 0.5535 - accuracy: 0.7914 - val_loss: 0.2606 - val_accuracy: 0.9426\n",
            "Epoch 88/1000\n",
            " 1/29 [>.............................] - ETA: 0s - loss: 0.4678 - accuracy: 0.8125\n",
            "Epoch 88: saving model to model/keypoint_classifier\\keypoint_classifier.hdf5\n",
            "29/29 [==============================] - 0s 4ms/step - loss: 0.5686 - accuracy: 0.7852 - val_loss: 0.2565 - val_accuracy: 0.9490\n",
            "Epoch 89/1000\n",
            " 1/29 [>.............................] - ETA: 0s - loss: 0.5771 - accuracy: 0.7578\n",
            "Epoch 89: saving model to model/keypoint_classifier\\keypoint_classifier.hdf5\n",
            "29/29 [==============================] - 0s 4ms/step - loss: 0.5723 - accuracy: 0.7903 - val_loss: 0.2601 - val_accuracy: 0.9450\n",
            "Epoch 90/1000\n",
            " 1/29 [>.............................] - ETA: 0s - loss: 0.5044 - accuracy: 0.8203\n",
            "Epoch 90: saving model to model/keypoint_classifier\\keypoint_classifier.hdf5\n",
            "29/29 [==============================] - 0s 4ms/step - loss: 0.5637 - accuracy: 0.7944 - val_loss: 0.2534 - val_accuracy: 0.9466\n",
            "Epoch 91/1000\n",
            " 1/29 [>.............................] - ETA: 0s - loss: 0.4092 - accuracy: 0.8750\n",
            "Epoch 91: saving model to model/keypoint_classifier\\keypoint_classifier.hdf5\n",
            "29/29 [==============================] - 0s 4ms/step - loss: 0.5735 - accuracy: 0.7836 - val_loss: 0.2573 - val_accuracy: 0.9474\n",
            "Epoch 92/1000\n",
            " 1/29 [>.............................] - ETA: 0s - loss: 0.5594 - accuracy: 0.7891\n",
            "Epoch 92: saving model to model/keypoint_classifier\\keypoint_classifier.hdf5\n",
            "29/29 [==============================] - 0s 4ms/step - loss: 0.5893 - accuracy: 0.7812 - val_loss: 0.2559 - val_accuracy: 0.9474\n",
            "Epoch 93/1000\n",
            " 1/29 [>.............................] - ETA: 0s - loss: 0.5985 - accuracy: 0.7891\n",
            "Epoch 93: saving model to model/keypoint_classifier\\keypoint_classifier.hdf5\n",
            "29/29 [==============================] - 0s 4ms/step - loss: 0.5692 - accuracy: 0.7885 - val_loss: 0.2544 - val_accuracy: 0.9482\n",
            "Epoch 94/1000\n",
            " 1/29 [>.............................] - ETA: 0s - loss: 0.5232 - accuracy: 0.8047\n",
            "Epoch 94: saving model to model/keypoint_classifier\\keypoint_classifier.hdf5\n",
            "29/29 [==============================] - 0s 5ms/step - loss: 0.5681 - accuracy: 0.7909 - val_loss: 0.2574 - val_accuracy: 0.9345\n",
            "Epoch 95/1000\n",
            " 1/29 [>.............................] - ETA: 0s - loss: 0.4419 - accuracy: 0.8359\n",
            "Epoch 95: saving model to model/keypoint_classifier\\keypoint_classifier.hdf5\n",
            "29/29 [==============================] - 0s 4ms/step - loss: 0.5550 - accuracy: 0.7936 - val_loss: 0.2563 - val_accuracy: 0.9531\n",
            "Epoch 96/1000\n",
            " 1/29 [>.............................] - ETA: 0s - loss: 0.5835 - accuracy: 0.7969\n",
            "Epoch 96: saving model to model/keypoint_classifier\\keypoint_classifier.hdf5\n",
            "29/29 [==============================] - 0s 4ms/step - loss: 0.5578 - accuracy: 0.7938 - val_loss: 0.2562 - val_accuracy: 0.9458\n",
            "Epoch 97/1000\n",
            " 1/29 [>.............................] - ETA: 0s - loss: 0.6746 - accuracy: 0.7500\n",
            "Epoch 97: saving model to model/keypoint_classifier\\keypoint_classifier.hdf5\n",
            "29/29 [==============================] - 0s 4ms/step - loss: 0.5532 - accuracy: 0.7887 - val_loss: 0.2535 - val_accuracy: 0.9490\n",
            "Epoch 98/1000\n",
            " 1/29 [>.............................] - ETA: 0s - loss: 0.6065 - accuracy: 0.7578\n",
            "Epoch 98: saving model to model/keypoint_classifier\\keypoint_classifier.hdf5\n",
            "29/29 [==============================] - 0s 4ms/step - loss: 0.5663 - accuracy: 0.7866 - val_loss: 0.2444 - val_accuracy: 0.9498\n",
            "Epoch 99/1000\n",
            " 1/29 [>.............................] - ETA: 0s - loss: 0.5330 - accuracy: 0.7812\n",
            "Epoch 99: saving model to model/keypoint_classifier\\keypoint_classifier.hdf5\n",
            "29/29 [==============================] - 0s 4ms/step - loss: 0.5558 - accuracy: 0.7890 - val_loss: 0.2512 - val_accuracy: 0.9506\n",
            "Epoch 100/1000\n",
            " 1/29 [>.............................] - ETA: 0s - loss: 0.6246 - accuracy: 0.7578\n",
            "Epoch 100: saving model to model/keypoint_classifier\\keypoint_classifier.hdf5\n",
            "29/29 [==============================] - 0s 4ms/step - loss: 0.5509 - accuracy: 0.7982 - val_loss: 0.2529 - val_accuracy: 0.9458\n",
            "Epoch 101/1000\n",
            " 1/29 [>.............................] - ETA: 0s - loss: 0.4314 - accuracy: 0.8438\n",
            "Epoch 101: saving model to model/keypoint_classifier\\keypoint_classifier.hdf5\n",
            "29/29 [==============================] - 0s 3ms/step - loss: 0.5410 - accuracy: 0.8001 - val_loss: 0.2540 - val_accuracy: 0.9506\n",
            "Epoch 102/1000\n",
            " 1/29 [>.............................] - ETA: 0s - loss: 0.5212 - accuracy: 0.7969\n",
            "Epoch 102: saving model to model/keypoint_classifier\\keypoint_classifier.hdf5\n",
            "29/29 [==============================] - 0s 4ms/step - loss: 0.5441 - accuracy: 0.8017 - val_loss: 0.2510 - val_accuracy: 0.9490\n",
            "Epoch 103/1000\n",
            " 1/29 [>.............................] - ETA: 0s - loss: 0.4945 - accuracy: 0.8281\n",
            "Epoch 103: saving model to model/keypoint_classifier\\keypoint_classifier.hdf5\n",
            "29/29 [==============================] - 0s 4ms/step - loss: 0.5590 - accuracy: 0.7944 - val_loss: 0.2398 - val_accuracy: 0.9506\n",
            "Epoch 104/1000\n",
            " 1/29 [>.............................] - ETA: 0s - loss: 0.5475 - accuracy: 0.8203\n",
            "Epoch 104: saving model to model/keypoint_classifier\\keypoint_classifier.hdf5\n",
            "29/29 [==============================] - 0s 4ms/step - loss: 0.5770 - accuracy: 0.7774 - val_loss: 0.2399 - val_accuracy: 0.9531\n",
            "Epoch 105/1000\n",
            " 1/29 [>.............................] - ETA: 0s - loss: 0.5733 - accuracy: 0.8281\n",
            "Epoch 105: saving model to model/keypoint_classifier\\keypoint_classifier.hdf5\n",
            "29/29 [==============================] - 0s 4ms/step - loss: 0.5593 - accuracy: 0.7971 - val_loss: 0.2483 - val_accuracy: 0.9506\n",
            "Epoch 106/1000\n",
            " 1/29 [>.............................] - ETA: 0s - loss: 0.6435 - accuracy: 0.7422\n",
            "Epoch 106: saving model to model/keypoint_classifier\\keypoint_classifier.hdf5\n",
            "29/29 [==============================] - 0s 4ms/step - loss: 0.5669 - accuracy: 0.7863 - val_loss: 0.2444 - val_accuracy: 0.9515\n",
            "Epoch 107/1000\n",
            " 1/29 [>.............................] - ETA: 0s - loss: 0.6198 - accuracy: 0.7188\n",
            "Epoch 107: saving model to model/keypoint_classifier\\keypoint_classifier.hdf5\n",
            "29/29 [==============================] - 0s 4ms/step - loss: 0.5666 - accuracy: 0.7863 - val_loss: 0.2482 - val_accuracy: 0.9490\n",
            "Epoch 108/1000\n",
            " 1/29 [>.............................] - ETA: 0s - loss: 0.4875 - accuracy: 0.8203\n",
            "Epoch 108: saving model to model/keypoint_classifier\\keypoint_classifier.hdf5\n",
            "29/29 [==============================] - 0s 3ms/step - loss: 0.5477 - accuracy: 0.7947 - val_loss: 0.2428 - val_accuracy: 0.9523\n",
            "Epoch 109/1000\n",
            " 1/29 [>.............................] - ETA: 0s - loss: 0.5109 - accuracy: 0.8047\n",
            "Epoch 109: saving model to model/keypoint_classifier\\keypoint_classifier.hdf5\n",
            "29/29 [==============================] - 0s 4ms/step - loss: 0.5558 - accuracy: 0.7917 - val_loss: 0.2489 - val_accuracy: 0.9458\n",
            "Epoch 110/1000\n",
            "25/29 [========================>.....] - ETA: 0s - loss: 0.5484 - accuracy: 0.7887\n",
            "Epoch 110: saving model to model/keypoint_classifier\\keypoint_classifier.hdf5\n",
            "29/29 [==============================] - 0s 5ms/step - loss: 0.5509 - accuracy: 0.7887 - val_loss: 0.2428 - val_accuracy: 0.9426\n",
            "Epoch 111/1000\n",
            " 1/29 [>.............................] - ETA: 0s - loss: 0.5312 - accuracy: 0.8047\n",
            "Epoch 111: saving model to model/keypoint_classifier\\keypoint_classifier.hdf5\n",
            "29/29 [==============================] - 0s 4ms/step - loss: 0.5589 - accuracy: 0.7906 - val_loss: 0.2514 - val_accuracy: 0.9377\n",
            "Epoch 112/1000\n",
            " 1/29 [>.............................] - ETA: 0s - loss: 0.5174 - accuracy: 0.8047\n",
            "Epoch 112: saving model to model/keypoint_classifier\\keypoint_classifier.hdf5\n",
            "29/29 [==============================] - 0s 4ms/step - loss: 0.5479 - accuracy: 0.8017 - val_loss: 0.2456 - val_accuracy: 0.9506\n",
            "Epoch 113/1000\n",
            " 1/29 [>.............................] - ETA: 0s - loss: 0.4887 - accuracy: 0.8281\n",
            "Epoch 113: saving model to model/keypoint_classifier\\keypoint_classifier.hdf5\n",
            "29/29 [==============================] - 0s 4ms/step - loss: 0.5672 - accuracy: 0.7911 - val_loss: 0.2469 - val_accuracy: 0.9426\n",
            "Epoch 114/1000\n",
            " 1/29 [>.............................] - ETA: 0s - loss: 0.5632 - accuracy: 0.8203\n",
            "Epoch 114: saving model to model/keypoint_classifier\\keypoint_classifier.hdf5\n",
            "29/29 [==============================] - 0s 4ms/step - loss: 0.5443 - accuracy: 0.7979 - val_loss: 0.2398 - val_accuracy: 0.9490\n",
            "Epoch 115/1000\n",
            " 1/29 [>.............................] - ETA: 0s - loss: 0.5671 - accuracy: 0.8047\n",
            "Epoch 115: saving model to model/keypoint_classifier\\keypoint_classifier.hdf5\n",
            "29/29 [==============================] - 0s 4ms/step - loss: 0.5611 - accuracy: 0.7866 - val_loss: 0.2377 - val_accuracy: 0.9498\n",
            "Epoch 116/1000\n",
            " 1/29 [>.............................] - ETA: 0s - loss: 0.4622 - accuracy: 0.8203\n",
            "Epoch 116: saving model to model/keypoint_classifier\\keypoint_classifier.hdf5\n",
            "29/29 [==============================] - 0s 4ms/step - loss: 0.5421 - accuracy: 0.7979 - val_loss: 0.2396 - val_accuracy: 0.9442\n",
            "Epoch 117/1000\n",
            " 1/29 [>.............................] - ETA: 0s - loss: 0.4612 - accuracy: 0.8438\n",
            "Epoch 117: saving model to model/keypoint_classifier\\keypoint_classifier.hdf5\n",
            "29/29 [==============================] - 0s 4ms/step - loss: 0.5433 - accuracy: 0.7992 - val_loss: 0.2424 - val_accuracy: 0.9506\n",
            "Epoch 118/1000\n",
            " 1/29 [>.............................] - ETA: 0s - loss: 0.5945 - accuracy: 0.7891\n",
            "Epoch 118: saving model to model/keypoint_classifier\\keypoint_classifier.hdf5\n",
            "29/29 [==============================] - 0s 3ms/step - loss: 0.5594 - accuracy: 0.7920 - val_loss: 0.2478 - val_accuracy: 0.9466\n",
            "Epoch 119/1000\n",
            " 1/29 [>.............................] - ETA: 0s - loss: 0.5347 - accuracy: 0.8203\n",
            "Epoch 119: saving model to model/keypoint_classifier\\keypoint_classifier.hdf5\n",
            "29/29 [==============================] - 0s 3ms/step - loss: 0.5538 - accuracy: 0.7928 - val_loss: 0.2450 - val_accuracy: 0.9466\n",
            "Epoch 120/1000\n",
            " 1/29 [>.............................] - ETA: 0s - loss: 0.5148 - accuracy: 0.8047\n",
            "Epoch 120: saving model to model/keypoint_classifier\\keypoint_classifier.hdf5\n",
            "29/29 [==============================] - 0s 4ms/step - loss: 0.5739 - accuracy: 0.7806 - val_loss: 0.2505 - val_accuracy: 0.9442\n",
            "Epoch 121/1000\n",
            " 1/29 [>.............................] - ETA: 0s - loss: 0.4571 - accuracy: 0.8516\n",
            "Epoch 121: saving model to model/keypoint_classifier\\keypoint_classifier.hdf5\n",
            "29/29 [==============================] - 0s 4ms/step - loss: 0.5401 - accuracy: 0.7957 - val_loss: 0.2370 - val_accuracy: 0.9531\n",
            "Epoch 122/1000\n",
            "23/29 [======================>.......] - ETA: 0s - loss: 0.5474 - accuracy: 0.7982\n",
            "Epoch 122: saving model to model/keypoint_classifier\\keypoint_classifier.hdf5\n",
            "29/29 [==============================] - 0s 5ms/step - loss: 0.5453 - accuracy: 0.7982 - val_loss: 0.2394 - val_accuracy: 0.9506\n",
            "Epoch 123/1000\n",
            " 1/29 [>.............................] - ETA: 0s - loss: 0.5470 - accuracy: 0.7656\n",
            "Epoch 123: saving model to model/keypoint_classifier\\keypoint_classifier.hdf5\n",
            "29/29 [==============================] - 0s 4ms/step - loss: 0.5580 - accuracy: 0.7960 - val_loss: 0.2457 - val_accuracy: 0.9450\n",
            "Epoch 124/1000\n",
            " 1/29 [>.............................] - ETA: 0s - loss: 0.5435 - accuracy: 0.7578\n",
            "Epoch 124: saving model to model/keypoint_classifier\\keypoint_classifier.hdf5\n",
            "29/29 [==============================] - 0s 4ms/step - loss: 0.5248 - accuracy: 0.8041 - val_loss: 0.2403 - val_accuracy: 0.9458\n",
            "Epoch 125/1000\n",
            " 1/29 [>.............................] - ETA: 0s - loss: 0.3974 - accuracy: 0.8438\n",
            "Epoch 125: saving model to model/keypoint_classifier\\keypoint_classifier.hdf5\n",
            "29/29 [==============================] - 0s 4ms/step - loss: 0.5354 - accuracy: 0.7979 - val_loss: 0.2325 - val_accuracy: 0.9563\n",
            "Epoch 126/1000\n",
            " 1/29 [>.............................] - ETA: 0s - loss: 0.5739 - accuracy: 0.7812\n",
            "Epoch 126: saving model to model/keypoint_classifier\\keypoint_classifier.hdf5\n",
            "29/29 [==============================] - 0s 4ms/step - loss: 0.5371 - accuracy: 0.7947 - val_loss: 0.2365 - val_accuracy: 0.9506\n",
            "Epoch 127/1000\n",
            " 1/29 [>.............................] - ETA: 0s - loss: 0.4855 - accuracy: 0.8359\n",
            "Epoch 127: saving model to model/keypoint_classifier\\keypoint_classifier.hdf5\n",
            "29/29 [==============================] - 0s 4ms/step - loss: 0.5250 - accuracy: 0.8019 - val_loss: 0.2327 - val_accuracy: 0.9506\n",
            "Epoch 128/1000\n",
            " 1/29 [>.............................] - ETA: 0s - loss: 0.6087 - accuracy: 0.7578\n",
            "Epoch 128: saving model to model/keypoint_classifier\\keypoint_classifier.hdf5\n",
            "29/29 [==============================] - 0s 4ms/step - loss: 0.5256 - accuracy: 0.8044 - val_loss: 0.2293 - val_accuracy: 0.9506\n",
            "Epoch 129/1000\n",
            " 1/29 [>.............................] - ETA: 0s - loss: 0.4735 - accuracy: 0.8203\n",
            "Epoch 129: saving model to model/keypoint_classifier\\keypoint_classifier.hdf5\n",
            "29/29 [==============================] - 0s 4ms/step - loss: 0.5378 - accuracy: 0.7987 - val_loss: 0.2355 - val_accuracy: 0.9506\n",
            "Epoch 130/1000\n",
            " 1/29 [>.............................] - ETA: 0s - loss: 0.4856 - accuracy: 0.8047\n",
            "Epoch 130: saving model to model/keypoint_classifier\\keypoint_classifier.hdf5\n",
            "29/29 [==============================] - 0s 4ms/step - loss: 0.5430 - accuracy: 0.7971 - val_loss: 0.2335 - val_accuracy: 0.9547\n",
            "Epoch 131/1000\n",
            " 1/29 [>.............................] - ETA: 0s - loss: 0.6053 - accuracy: 0.7969\n",
            "Epoch 131: saving model to model/keypoint_classifier\\keypoint_classifier.hdf5\n",
            "29/29 [==============================] - 0s 4ms/step - loss: 0.5435 - accuracy: 0.8001 - val_loss: 0.2298 - val_accuracy: 0.9595\n",
            "Epoch 132/1000\n",
            " 1/29 [>.............................] - ETA: 0s - loss: 0.6474 - accuracy: 0.6875\n",
            "Epoch 132: saving model to model/keypoint_classifier\\keypoint_classifier.hdf5\n",
            "29/29 [==============================] - 0s 4ms/step - loss: 0.5494 - accuracy: 0.7938 - val_loss: 0.2345 - val_accuracy: 0.9555\n",
            "Epoch 133/1000\n",
            " 1/29 [>.............................] - ETA: 0s - loss: 0.5546 - accuracy: 0.7891\n",
            "Epoch 133: saving model to model/keypoint_classifier\\keypoint_classifier.hdf5\n",
            "29/29 [==============================] - 0s 3ms/step - loss: 0.5190 - accuracy: 0.8122 - val_loss: 0.2308 - val_accuracy: 0.9571\n",
            "Epoch 134/1000\n",
            "22/29 [=====================>........] - ETA: 0s - loss: 0.5452 - accuracy: 0.8040\n",
            "Epoch 134: saving model to model/keypoint_classifier\\keypoint_classifier.hdf5\n",
            "29/29 [==============================] - 0s 5ms/step - loss: 0.5452 - accuracy: 0.8033 - val_loss: 0.2381 - val_accuracy: 0.9515\n",
            "Epoch 135/1000\n",
            " 1/29 [>.............................] - ETA: 0s - loss: 0.4896 - accuracy: 0.8359\n",
            "Epoch 135: saving model to model/keypoint_classifier\\keypoint_classifier.hdf5\n",
            "29/29 [==============================] - 0s 4ms/step - loss: 0.5259 - accuracy: 0.8103 - val_loss: 0.2293 - val_accuracy: 0.9571\n",
            "Epoch 136/1000\n",
            " 1/29 [>.............................] - ETA: 0s - loss: 0.4392 - accuracy: 0.8281\n",
            "Epoch 136: saving model to model/keypoint_classifier\\keypoint_classifier.hdf5\n",
            "29/29 [==============================] - 0s 4ms/step - loss: 0.5434 - accuracy: 0.8028 - val_loss: 0.2404 - val_accuracy: 0.9555\n",
            "Epoch 137/1000\n",
            " 1/29 [>.............................] - ETA: 0s - loss: 0.6059 - accuracy: 0.7891\n",
            "Epoch 137: saving model to model/keypoint_classifier\\keypoint_classifier.hdf5\n",
            "29/29 [==============================] - 0s 4ms/step - loss: 0.5183 - accuracy: 0.8079 - val_loss: 0.2267 - val_accuracy: 0.9579\n",
            "Epoch 138/1000\n",
            " 1/29 [>.............................] - ETA: 0s - loss: 0.6488 - accuracy: 0.7656\n",
            "Epoch 138: saving model to model/keypoint_classifier\\keypoint_classifier.hdf5\n",
            "29/29 [==============================] - 0s 4ms/step - loss: 0.5353 - accuracy: 0.8073 - val_loss: 0.2299 - val_accuracy: 0.9563\n",
            "Epoch 139/1000\n",
            " 1/29 [>.............................] - ETA: 0s - loss: 0.6382 - accuracy: 0.7344\n",
            "Epoch 139: saving model to model/keypoint_classifier\\keypoint_classifier.hdf5\n",
            "29/29 [==============================] - 0s 4ms/step - loss: 0.5389 - accuracy: 0.7920 - val_loss: 0.2260 - val_accuracy: 0.9555\n",
            "Epoch 140/1000\n",
            " 1/29 [>.............................] - ETA: 0s - loss: 0.4598 - accuracy: 0.8281\n",
            "Epoch 140: saving model to model/keypoint_classifier\\keypoint_classifier.hdf5\n",
            "29/29 [==============================] - 0s 4ms/step - loss: 0.5290 - accuracy: 0.8068 - val_loss: 0.2244 - val_accuracy: 0.9579\n",
            "Epoch 141/1000\n",
            " 1/29 [>.............................] - ETA: 0s - loss: 0.5797 - accuracy: 0.7812\n",
            "Epoch 141: saving model to model/keypoint_classifier\\keypoint_classifier.hdf5\n",
            "29/29 [==============================] - 0s 4ms/step - loss: 0.5256 - accuracy: 0.8038 - val_loss: 0.2291 - val_accuracy: 0.9539\n",
            "Epoch 142/1000\n",
            " 1/29 [>.............................] - ETA: 0s - loss: 0.5466 - accuracy: 0.8359\n",
            "Epoch 142: saving model to model/keypoint_classifier\\keypoint_classifier.hdf5\n",
            "29/29 [==============================] - 0s 4ms/step - loss: 0.5236 - accuracy: 0.8055 - val_loss: 0.2219 - val_accuracy: 0.9571\n",
            "Epoch 143/1000\n",
            " 1/29 [>.............................] - ETA: 0s - loss: 0.5463 - accuracy: 0.7812\n",
            "Epoch 143: saving model to model/keypoint_classifier\\keypoint_classifier.hdf5\n",
            "29/29 [==============================] - 0s 4ms/step - loss: 0.5189 - accuracy: 0.8103 - val_loss: 0.2249 - val_accuracy: 0.9474\n",
            "Epoch 144/1000\n",
            " 1/29 [>.............................] - ETA: 0s - loss: 0.6865 - accuracy: 0.7188\n",
            "Epoch 144: saving model to model/keypoint_classifier\\keypoint_classifier.hdf5\n",
            "29/29 [==============================] - 0s 4ms/step - loss: 0.5405 - accuracy: 0.7982 - val_loss: 0.2285 - val_accuracy: 0.9506\n",
            "Epoch 145/1000\n",
            " 1/29 [>.............................] - ETA: 0s - loss: 0.5426 - accuracy: 0.7891\n",
            "Epoch 145: saving model to model/keypoint_classifier\\keypoint_classifier.hdf5\n",
            "29/29 [==============================] - 0s 4ms/step - loss: 0.5327 - accuracy: 0.8055 - val_loss: 0.2312 - val_accuracy: 0.9506\n",
            "Epoch 146/1000\n",
            " 1/29 [>.............................] - ETA: 0s - loss: 0.6240 - accuracy: 0.7891\n",
            "Epoch 146: saving model to model/keypoint_classifier\\keypoint_classifier.hdf5\n",
            "29/29 [==============================] - 0s 4ms/step - loss: 0.5399 - accuracy: 0.7984 - val_loss: 0.2244 - val_accuracy: 0.9620\n",
            "Epoch 147/1000\n",
            "21/29 [====================>.........] - ETA: 0s - loss: 0.5164 - accuracy: 0.8192\n",
            "Epoch 147: saving model to model/keypoint_classifier\\keypoint_classifier.hdf5\n",
            "29/29 [==============================] - 0s 5ms/step - loss: 0.5011 - accuracy: 0.8225 - val_loss: 0.2308 - val_accuracy: 0.9506\n",
            "Epoch 148/1000\n",
            " 1/29 [>.............................] - ETA: 0s - loss: 0.4454 - accuracy: 0.8203\n",
            "Epoch 148: saving model to model/keypoint_classifier\\keypoint_classifier.hdf5\n",
            "29/29 [==============================] - 0s 3ms/step - loss: 0.5227 - accuracy: 0.8055 - val_loss: 0.2195 - val_accuracy: 0.9563\n",
            "Epoch 149/1000\n",
            " 1/29 [>.............................] - ETA: 0s - loss: 0.5954 - accuracy: 0.7422\n",
            "Epoch 149: saving model to model/keypoint_classifier\\keypoint_classifier.hdf5\n",
            "29/29 [==============================] - 0s 4ms/step - loss: 0.5180 - accuracy: 0.8087 - val_loss: 0.2359 - val_accuracy: 0.9531\n",
            "Epoch 150/1000\n",
            " 1/29 [>.............................] - ETA: 0s - loss: 0.5502 - accuracy: 0.8516\n",
            "Epoch 150: saving model to model/keypoint_classifier\\keypoint_classifier.hdf5\n",
            "29/29 [==============================] - 0s 4ms/step - loss: 0.5299 - accuracy: 0.8081 - val_loss: 0.2320 - val_accuracy: 0.9547\n",
            "Epoch 151/1000\n",
            " 1/29 [>.............................] - ETA: 0s - loss: 0.5596 - accuracy: 0.8203\n",
            "Epoch 151: saving model to model/keypoint_classifier\\keypoint_classifier.hdf5\n",
            "29/29 [==============================] - 0s 4ms/step - loss: 0.5197 - accuracy: 0.8071 - val_loss: 0.2259 - val_accuracy: 0.9587\n",
            "Epoch 152/1000\n",
            " 1/29 [>.............................] - ETA: 0s - loss: 0.4526 - accuracy: 0.8438\n",
            "Epoch 152: saving model to model/keypoint_classifier\\keypoint_classifier.hdf5\n",
            "29/29 [==============================] - 0s 4ms/step - loss: 0.5217 - accuracy: 0.8090 - val_loss: 0.2243 - val_accuracy: 0.9563\n",
            "Epoch 153/1000\n",
            " 1/29 [>.............................] - ETA: 0s - loss: 0.3626 - accuracy: 0.8984\n",
            "Epoch 153: saving model to model/keypoint_classifier\\keypoint_classifier.hdf5\n",
            "29/29 [==============================] - 0s 4ms/step - loss: 0.5229 - accuracy: 0.8095 - val_loss: 0.2269 - val_accuracy: 0.9555\n",
            "Epoch 154/1000\n",
            " 1/29 [>.............................] - ETA: 0s - loss: 0.4874 - accuracy: 0.8438\n",
            "Epoch 154: saving model to model/keypoint_classifier\\keypoint_classifier.hdf5\n",
            "29/29 [==============================] - 0s 4ms/step - loss: 0.5080 - accuracy: 0.8149 - val_loss: 0.2200 - val_accuracy: 0.9595\n",
            "Epoch 155/1000\n",
            " 1/29 [>.............................] - ETA: 0s - loss: 0.4518 - accuracy: 0.8359\n",
            "Epoch 155: saving model to model/keypoint_classifier\\keypoint_classifier.hdf5\n",
            "29/29 [==============================] - 0s 4ms/step - loss: 0.5288 - accuracy: 0.8057 - val_loss: 0.2215 - val_accuracy: 0.9571\n",
            "Epoch 156/1000\n",
            " 1/29 [>.............................] - ETA: 0s - loss: 0.4246 - accuracy: 0.8672\n",
            "Epoch 156: saving model to model/keypoint_classifier\\keypoint_classifier.hdf5\n",
            "29/29 [==============================] - 0s 4ms/step - loss: 0.5049 - accuracy: 0.8135 - val_loss: 0.2253 - val_accuracy: 0.9490\n",
            "Epoch 157/1000\n",
            " 1/29 [>.............................] - ETA: 0s - loss: 0.4423 - accuracy: 0.8516\n",
            "Epoch 157: saving model to model/keypoint_classifier\\keypoint_classifier.hdf5\n",
            "29/29 [==============================] - 0s 4ms/step - loss: 0.5173 - accuracy: 0.8146 - val_loss: 0.2167 - val_accuracy: 0.9563\n",
            "Epoch 158/1000\n",
            "22/29 [=====================>........] - ETA: 0s - loss: 0.5267 - accuracy: 0.8036\n",
            "Epoch 158: saving model to model/keypoint_classifier\\keypoint_classifier.hdf5\n",
            "29/29 [==============================] - 0s 5ms/step - loss: 0.5260 - accuracy: 0.8030 - val_loss: 0.2259 - val_accuracy: 0.9555\n",
            "Epoch 159/1000\n",
            " 1/29 [>.............................] - ETA: 0s - loss: 0.4855 - accuracy: 0.7891\n",
            "Epoch 159: saving model to model/keypoint_classifier\\keypoint_classifier.hdf5\n",
            "29/29 [==============================] - 0s 4ms/step - loss: 0.5138 - accuracy: 0.8108 - val_loss: 0.2177 - val_accuracy: 0.9579\n",
            "Epoch 160/1000\n",
            " 1/29 [>.............................] - ETA: 0s - loss: 0.4314 - accuracy: 0.8516\n",
            "Epoch 160: saving model to model/keypoint_classifier\\keypoint_classifier.hdf5\n",
            "29/29 [==============================] - 0s 3ms/step - loss: 0.5079 - accuracy: 0.8157 - val_loss: 0.2181 - val_accuracy: 0.9595\n",
            "Epoch 161/1000\n",
            " 1/29 [>.............................] - ETA: 0s - loss: 0.5687 - accuracy: 0.7812\n",
            "Epoch 161: saving model to model/keypoint_classifier\\keypoint_classifier.hdf5\n",
            "29/29 [==============================] - 0s 4ms/step - loss: 0.5266 - accuracy: 0.8033 - val_loss: 0.2187 - val_accuracy: 0.9539\n",
            "Epoch 162/1000\n",
            " 1/29 [>.............................] - ETA: 0s - loss: 0.5342 - accuracy: 0.7734\n",
            "Epoch 162: saving model to model/keypoint_classifier\\keypoint_classifier.hdf5\n",
            "29/29 [==============================] - 0s 4ms/step - loss: 0.4966 - accuracy: 0.8251 - val_loss: 0.2208 - val_accuracy: 0.9506\n",
            "Epoch 163/1000\n",
            " 1/29 [>.............................] - ETA: 0s - loss: 0.5427 - accuracy: 0.8047\n",
            "Epoch 163: saving model to model/keypoint_classifier\\keypoint_classifier.hdf5\n",
            "29/29 [==============================] - 0s 4ms/step - loss: 0.5528 - accuracy: 0.8033 - val_loss: 0.2191 - val_accuracy: 0.9628\n",
            "Epoch 164/1000\n",
            " 1/29 [>.............................] - ETA: 0s - loss: 0.5250 - accuracy: 0.8438\n",
            "Epoch 164: saving model to model/keypoint_classifier\\keypoint_classifier.hdf5\n",
            "29/29 [==============================] - 0s 4ms/step - loss: 0.5152 - accuracy: 0.8106 - val_loss: 0.2230 - val_accuracy: 0.9604\n",
            "Epoch 165/1000\n",
            " 1/29 [>.............................] - ETA: 0s - loss: 0.4561 - accuracy: 0.8594\n",
            "Epoch 165: saving model to model/keypoint_classifier\\keypoint_classifier.hdf5\n",
            "29/29 [==============================] - 0s 4ms/step - loss: 0.5188 - accuracy: 0.8103 - val_loss: 0.2187 - val_accuracy: 0.9563\n",
            "Epoch 166/1000\n",
            " 1/29 [>.............................] - ETA: 0s - loss: 0.4166 - accuracy: 0.8516\n",
            "Epoch 166: saving model to model/keypoint_classifier\\keypoint_classifier.hdf5\n",
            "29/29 [==============================] - 0s 4ms/step - loss: 0.5155 - accuracy: 0.8125 - val_loss: 0.2145 - val_accuracy: 0.9571\n",
            "Epoch 167/1000\n",
            " 1/29 [>.............................] - ETA: 0s - loss: 0.6161 - accuracy: 0.7969\n",
            "Epoch 167: saving model to model/keypoint_classifier\\keypoint_classifier.hdf5\n",
            "29/29 [==============================] - 0s 4ms/step - loss: 0.5122 - accuracy: 0.8149 - val_loss: 0.2172 - val_accuracy: 0.9515\n",
            "Epoch 168/1000\n",
            " 1/29 [>.............................] - ETA: 0s - loss: 0.5332 - accuracy: 0.8203\n",
            "Epoch 168: saving model to model/keypoint_classifier\\keypoint_classifier.hdf5\n",
            "29/29 [==============================] - 0s 4ms/step - loss: 0.5269 - accuracy: 0.8028 - val_loss: 0.2155 - val_accuracy: 0.9547\n",
            "Epoch 169/1000\n",
            " 1/29 [>.............................] - ETA: 0s - loss: 0.4778 - accuracy: 0.8672\n",
            "Epoch 169: saving model to model/keypoint_classifier\\keypoint_classifier.hdf5\n",
            "29/29 [==============================] - 0s 4ms/step - loss: 0.5155 - accuracy: 0.8133 - val_loss: 0.2202 - val_accuracy: 0.9515\n",
            "Epoch 170/1000\n",
            "17/29 [================>.............] - ETA: 0s - loss: 0.5020 - accuracy: 0.8139\n",
            "Epoch 170: saving model to model/keypoint_classifier\\keypoint_classifier.hdf5\n",
            "29/29 [==============================] - 0s 5ms/step - loss: 0.5099 - accuracy: 0.8092 - val_loss: 0.2130 - val_accuracy: 0.9571\n",
            "Epoch 171/1000\n",
            " 1/29 [>.............................] - ETA: 0s - loss: 0.4736 - accuracy: 0.8203\n",
            "Epoch 171: saving model to model/keypoint_classifier\\keypoint_classifier.hdf5\n",
            "29/29 [==============================] - 0s 4ms/step - loss: 0.5141 - accuracy: 0.8157 - val_loss: 0.2265 - val_accuracy: 0.9506\n",
            "Epoch 172/1000\n",
            " 1/29 [>.............................] - ETA: 0s - loss: 0.6801 - accuracy: 0.7891\n",
            "Epoch 172: saving model to model/keypoint_classifier\\keypoint_classifier.hdf5\n",
            "29/29 [==============================] - 0s 4ms/step - loss: 0.5073 - accuracy: 0.8270 - val_loss: 0.2193 - val_accuracy: 0.9604\n",
            "Epoch 173/1000\n",
            " 1/29 [>.............................] - ETA: 0s - loss: 0.4353 - accuracy: 0.8516\n",
            "Epoch 173: saving model to model/keypoint_classifier\\keypoint_classifier.hdf5\n",
            "29/29 [==============================] - 0s 4ms/step - loss: 0.4929 - accuracy: 0.8203 - val_loss: 0.2146 - val_accuracy: 0.9587\n",
            "Epoch 174/1000\n",
            " 1/29 [>.............................] - ETA: 0s - loss: 0.5549 - accuracy: 0.7969\n",
            "Epoch 174: saving model to model/keypoint_classifier\\keypoint_classifier.hdf5\n",
            "29/29 [==============================] - 0s 4ms/step - loss: 0.5014 - accuracy: 0.8135 - val_loss: 0.2130 - val_accuracy: 0.9587\n",
            "Epoch 175/1000\n",
            " 1/29 [>.............................] - ETA: 0s - loss: 0.4733 - accuracy: 0.8594\n",
            "Epoch 175: saving model to model/keypoint_classifier\\keypoint_classifier.hdf5\n",
            "29/29 [==============================] - 0s 4ms/step - loss: 0.5155 - accuracy: 0.8100 - val_loss: 0.2248 - val_accuracy: 0.9498\n",
            "Epoch 176/1000\n",
            " 1/29 [>.............................] - ETA: 0s - loss: 0.5672 - accuracy: 0.7891\n",
            "Epoch 176: saving model to model/keypoint_classifier\\keypoint_classifier.hdf5\n",
            "29/29 [==============================] - 0s 4ms/step - loss: 0.5090 - accuracy: 0.8117 - val_loss: 0.2133 - val_accuracy: 0.9595\n",
            "Epoch 177/1000\n",
            " 1/29 [>.............................] - ETA: 0s - loss: 0.4661 - accuracy: 0.8516\n",
            "Epoch 177: saving model to model/keypoint_classifier\\keypoint_classifier.hdf5\n",
            "29/29 [==============================] - 0s 4ms/step - loss: 0.5197 - accuracy: 0.8108 - val_loss: 0.2268 - val_accuracy: 0.9515\n",
            "Epoch 178/1000\n",
            " 1/29 [>.............................] - ETA: 0s - loss: 0.6647 - accuracy: 0.7109\n",
            "Epoch 178: saving model to model/keypoint_classifier\\keypoint_classifier.hdf5\n",
            "29/29 [==============================] - 0s 4ms/step - loss: 0.4963 - accuracy: 0.8216 - val_loss: 0.2186 - val_accuracy: 0.9604\n",
            "Epoch 179/1000\n",
            " 1/29 [>.............................] - ETA: 0s - loss: 0.4386 - accuracy: 0.8672\n",
            "Epoch 179: saving model to model/keypoint_classifier\\keypoint_classifier.hdf5\n",
            "29/29 [==============================] - 0s 4ms/step - loss: 0.4939 - accuracy: 0.8173 - val_loss: 0.2220 - val_accuracy: 0.9498\n",
            "Epoch 180/1000\n",
            " 1/29 [>.............................] - ETA: 0s - loss: 0.6268 - accuracy: 0.7891\n",
            "Epoch 180: saving model to model/keypoint_classifier\\keypoint_classifier.hdf5\n",
            "29/29 [==============================] - 0s 4ms/step - loss: 0.5199 - accuracy: 0.8114 - val_loss: 0.2209 - val_accuracy: 0.9579\n",
            "Epoch 181/1000\n",
            "24/29 [=======================>......] - ETA: 0s - loss: 0.4805 - accuracy: 0.8239\n",
            "Epoch 181: saving model to model/keypoint_classifier\\keypoint_classifier.hdf5\n",
            "29/29 [==============================] - 0s 5ms/step - loss: 0.4896 - accuracy: 0.8206 - val_loss: 0.2196 - val_accuracy: 0.9515\n",
            "Epoch 182/1000\n",
            " 1/29 [>.............................] - ETA: 0s - loss: 0.4201 - accuracy: 0.8828\n",
            "Epoch 182: saving model to model/keypoint_classifier\\keypoint_classifier.hdf5\n",
            "29/29 [==============================] - 0s 4ms/step - loss: 0.5102 - accuracy: 0.8181 - val_loss: 0.2194 - val_accuracy: 0.9515\n",
            "Epoch 183/1000\n",
            " 1/29 [>.............................] - ETA: 0s - loss: 0.5448 - accuracy: 0.7734\n",
            "Epoch 183: saving model to model/keypoint_classifier\\keypoint_classifier.hdf5\n",
            "29/29 [==============================] - 0s 4ms/step - loss: 0.5114 - accuracy: 0.8114 - val_loss: 0.2178 - val_accuracy: 0.9555\n",
            "Epoch 184/1000\n",
            " 1/29 [>.............................] - ETA: 0s - loss: 0.5759 - accuracy: 0.8047\n",
            "Epoch 184: saving model to model/keypoint_classifier\\keypoint_classifier.hdf5\n",
            "29/29 [==============================] - 0s 4ms/step - loss: 0.5246 - accuracy: 0.7976 - val_loss: 0.2189 - val_accuracy: 0.9555\n",
            "Epoch 185/1000\n",
            " 1/29 [>.............................] - ETA: 0s - loss: 0.4521 - accuracy: 0.8438\n",
            "Epoch 185: saving model to model/keypoint_classifier\\keypoint_classifier.hdf5\n",
            "29/29 [==============================] - 0s 4ms/step - loss: 0.5044 - accuracy: 0.8200 - val_loss: 0.2223 - val_accuracy: 0.9571\n",
            "Epoch 186/1000\n",
            " 1/29 [>.............................] - ETA: 0s - loss: 0.3786 - accuracy: 0.8672\n",
            "Epoch 186: saving model to model/keypoint_classifier\\keypoint_classifier.hdf5\n",
            "29/29 [==============================] - 0s 4ms/step - loss: 0.5070 - accuracy: 0.8100 - val_loss: 0.2184 - val_accuracy: 0.9563\n",
            "Epoch 187/1000\n",
            " 1/29 [>.............................] - ETA: 0s - loss: 0.4832 - accuracy: 0.8438\n",
            "Epoch 187: saving model to model/keypoint_classifier\\keypoint_classifier.hdf5\n",
            "29/29 [==============================] - 0s 4ms/step - loss: 0.4751 - accuracy: 0.8262 - val_loss: 0.2138 - val_accuracy: 0.9571\n",
            "Epoch 188/1000\n",
            " 1/29 [>.............................] - ETA: 0s - loss: 0.3465 - accuracy: 0.8594\n",
            "Epoch 188: saving model to model/keypoint_classifier\\keypoint_classifier.hdf5\n",
            "29/29 [==============================] - 0s 4ms/step - loss: 0.4878 - accuracy: 0.8187 - val_loss: 0.2049 - val_accuracy: 0.9579\n",
            "Epoch 189/1000\n",
            " 1/29 [>.............................] - ETA: 0s - loss: 0.5323 - accuracy: 0.7969\n",
            "Epoch 189: saving model to model/keypoint_classifier\\keypoint_classifier.hdf5\n",
            "29/29 [==============================] - 0s 3ms/step - loss: 0.4973 - accuracy: 0.8130 - val_loss: 0.2138 - val_accuracy: 0.9579\n",
            "Epoch 190/1000\n",
            " 1/29 [>.............................] - ETA: 0s - loss: 0.6887 - accuracy: 0.7734\n",
            "Epoch 190: saving model to model/keypoint_classifier\\keypoint_classifier.hdf5\n",
            "29/29 [==============================] - 0s 4ms/step - loss: 0.5061 - accuracy: 0.8130 - val_loss: 0.2148 - val_accuracy: 0.9595\n",
            "Epoch 191/1000\n",
            " 1/29 [>.............................] - ETA: 0s - loss: 0.4254 - accuracy: 0.8672\n",
            "Epoch 191: saving model to model/keypoint_classifier\\keypoint_classifier.hdf5\n",
            "29/29 [==============================] - 0s 4ms/step - loss: 0.4735 - accuracy: 0.8327 - val_loss: 0.2115 - val_accuracy: 0.9604\n",
            "Epoch 192/1000\n",
            " 1/29 [>.............................] - ETA: 0s - loss: 0.4014 - accuracy: 0.8438\n",
            "Epoch 192: saving model to model/keypoint_classifier\\keypoint_classifier.hdf5\n",
            "29/29 [==============================] - 0s 4ms/step - loss: 0.4838 - accuracy: 0.8284 - val_loss: 0.2153 - val_accuracy: 0.9555\n",
            "Epoch 193/1000\n",
            "26/29 [=========================>....] - ETA: 0s - loss: 0.4798 - accuracy: 0.8248\n",
            "Epoch 193: saving model to model/keypoint_classifier\\keypoint_classifier.hdf5\n",
            "29/29 [==============================] - 0s 5ms/step - loss: 0.4837 - accuracy: 0.8249 - val_loss: 0.2167 - val_accuracy: 0.9482\n",
            "Epoch 194/1000\n",
            " 1/29 [>.............................] - ETA: 0s - loss: 0.4375 - accuracy: 0.8516\n",
            "Epoch 194: saving model to model/keypoint_classifier\\keypoint_classifier.hdf5\n",
            "29/29 [==============================] - 0s 4ms/step - loss: 0.4828 - accuracy: 0.8289 - val_loss: 0.2030 - val_accuracy: 0.9628\n",
            "Epoch 195/1000\n",
            " 1/29 [>.............................] - ETA: 0s - loss: 0.4985 - accuracy: 0.8438\n",
            "Epoch 195: saving model to model/keypoint_classifier\\keypoint_classifier.hdf5\n",
            "29/29 [==============================] - 0s 4ms/step - loss: 0.4951 - accuracy: 0.8233 - val_loss: 0.2101 - val_accuracy: 0.9563\n",
            "Epoch 196/1000\n",
            " 1/29 [>.............................] - ETA: 0s - loss: 0.4184 - accuracy: 0.8516\n",
            "Epoch 196: saving model to model/keypoint_classifier\\keypoint_classifier.hdf5\n",
            "29/29 [==============================] - 0s 4ms/step - loss: 0.5163 - accuracy: 0.8065 - val_loss: 0.2233 - val_accuracy: 0.9579\n",
            "Epoch 197/1000\n",
            " 1/29 [>.............................] - ETA: 0s - loss: 0.5486 - accuracy: 0.7812\n",
            "Epoch 197: saving model to model/keypoint_classifier\\keypoint_classifier.hdf5\n",
            "29/29 [==============================] - 0s 4ms/step - loss: 0.5019 - accuracy: 0.8181 - val_loss: 0.2209 - val_accuracy: 0.9515\n",
            "Epoch 198/1000\n",
            " 1/29 [>.............................] - ETA: 0s - loss: 0.5355 - accuracy: 0.7656\n",
            "Epoch 198: saving model to model/keypoint_classifier\\keypoint_classifier.hdf5\n",
            "29/29 [==============================] - 0s 4ms/step - loss: 0.4994 - accuracy: 0.8135 - val_loss: 0.2129 - val_accuracy: 0.9547\n",
            "Epoch 199/1000\n",
            " 1/29 [>.............................] - ETA: 0s - loss: 0.5102 - accuracy: 0.8047\n",
            "Epoch 199: saving model to model/keypoint_classifier\\keypoint_classifier.hdf5\n",
            "29/29 [==============================] - 0s 4ms/step - loss: 0.5201 - accuracy: 0.8108 - val_loss: 0.2284 - val_accuracy: 0.9523\n",
            "Epoch 200/1000\n",
            " 1/29 [>.............................] - ETA: 0s - loss: 0.5188 - accuracy: 0.8203\n",
            "Epoch 200: saving model to model/keypoint_classifier\\keypoint_classifier.hdf5\n",
            "29/29 [==============================] - 0s 4ms/step - loss: 0.4981 - accuracy: 0.8187 - val_loss: 0.2249 - val_accuracy: 0.9539\n",
            "Epoch 201/1000\n",
            " 1/29 [>.............................] - ETA: 0s - loss: 0.4924 - accuracy: 0.7891\n",
            "Epoch 201: saving model to model/keypoint_classifier\\keypoint_classifier.hdf5\n",
            "29/29 [==============================] - 0s 4ms/step - loss: 0.5155 - accuracy: 0.8127 - val_loss: 0.2243 - val_accuracy: 0.9482\n",
            "Epoch 202/1000\n",
            " 1/29 [>.............................] - ETA: 0s - loss: 0.4099 - accuracy: 0.8516\n",
            "Epoch 202: saving model to model/keypoint_classifier\\keypoint_classifier.hdf5\n",
            "29/29 [==============================] - 0s 4ms/step - loss: 0.5008 - accuracy: 0.8152 - val_loss: 0.2169 - val_accuracy: 0.9563\n",
            "Epoch 203/1000\n",
            " 1/29 [>.............................] - ETA: 0s - loss: 0.4899 - accuracy: 0.8203\n",
            "Epoch 203: saving model to model/keypoint_classifier\\keypoint_classifier.hdf5\n",
            "29/29 [==============================] - 0s 3ms/step - loss: 0.5085 - accuracy: 0.8154 - val_loss: 0.2133 - val_accuracy: 0.9612\n",
            "Epoch 204/1000\n",
            "23/29 [======================>.......] - ETA: 0s - loss: 0.4940 - accuracy: 0.8135\n",
            "Epoch 204: saving model to model/keypoint_classifier\\keypoint_classifier.hdf5\n",
            "29/29 [==============================] - 0s 5ms/step - loss: 0.4971 - accuracy: 0.8122 - val_loss: 0.2148 - val_accuracy: 0.9620\n",
            "Epoch 205/1000\n",
            " 1/29 [>.............................] - ETA: 0s - loss: 0.6366 - accuracy: 0.8125\n",
            "Epoch 205: saving model to model/keypoint_classifier\\keypoint_classifier.hdf5\n",
            "29/29 [==============================] - 0s 4ms/step - loss: 0.5075 - accuracy: 0.8119 - val_loss: 0.2218 - val_accuracy: 0.9563\n",
            "Epoch 206/1000\n",
            " 1/29 [>.............................] - ETA: 0s - loss: 0.4038 - accuracy: 0.8672\n",
            "Epoch 206: saving model to model/keypoint_classifier\\keypoint_classifier.hdf5\n",
            "29/29 [==============================] - 0s 3ms/step - loss: 0.4882 - accuracy: 0.8214 - val_loss: 0.2192 - val_accuracy: 0.9571\n",
            "Epoch 207/1000\n",
            " 1/29 [>.............................] - ETA: 0s - loss: 0.4894 - accuracy: 0.8125\n",
            "Epoch 207: saving model to model/keypoint_classifier\\keypoint_classifier.hdf5\n",
            "29/29 [==============================] - 0s 4ms/step - loss: 0.4860 - accuracy: 0.8230 - val_loss: 0.2202 - val_accuracy: 0.9579\n",
            "Epoch 208/1000\n",
            " 1/29 [>.............................] - ETA: 0s - loss: 0.7011 - accuracy: 0.7422\n",
            "Epoch 208: saving model to model/keypoint_classifier\\keypoint_classifier.hdf5\n",
            "29/29 [==============================] - 0s 4ms/step - loss: 0.4775 - accuracy: 0.8262 - val_loss: 0.2197 - val_accuracy: 0.9482\n",
            "Epoch 209/1000\n",
            " 1/29 [>.............................] - ETA: 0s - loss: 0.4136 - accuracy: 0.8594\n",
            "Epoch 209: saving model to model/keypoint_classifier\\keypoint_classifier.hdf5\n",
            "29/29 [==============================] - 0s 4ms/step - loss: 0.4963 - accuracy: 0.8198 - val_loss: 0.2104 - val_accuracy: 0.9587\n",
            "Epoch 210/1000\n",
            " 1/29 [>.............................] - ETA: 0s - loss: 0.5201 - accuracy: 0.8438\n",
            "Epoch 210: saving model to model/keypoint_classifier\\keypoint_classifier.hdf5\n",
            "29/29 [==============================] - 0s 3ms/step - loss: 0.5121 - accuracy: 0.8106 - val_loss: 0.2242 - val_accuracy: 0.9555\n",
            "Epoch 211/1000\n",
            " 1/29 [>.............................] - ETA: 0s - loss: 0.5138 - accuracy: 0.8281\n",
            "Epoch 211: saving model to model/keypoint_classifier\\keypoint_classifier.hdf5\n",
            "29/29 [==============================] - 0s 4ms/step - loss: 0.4905 - accuracy: 0.8251 - val_loss: 0.2169 - val_accuracy: 0.9612\n",
            "Epoch 212/1000\n",
            " 1/29 [>.............................] - ETA: 0s - loss: 0.5022 - accuracy: 0.8125\n",
            "Epoch 212: saving model to model/keypoint_classifier\\keypoint_classifier.hdf5\n",
            "29/29 [==============================] - 0s 4ms/step - loss: 0.5124 - accuracy: 0.8130 - val_loss: 0.2166 - val_accuracy: 0.9571\n",
            "Epoch 213/1000\n",
            " 1/29 [>.............................] - ETA: 0s - loss: 0.3459 - accuracy: 0.8828\n",
            "Epoch 213: saving model to model/keypoint_classifier\\keypoint_classifier.hdf5\n",
            "29/29 [==============================] - 0s 4ms/step - loss: 0.4816 - accuracy: 0.8297 - val_loss: 0.2172 - val_accuracy: 0.9595\n",
            "Epoch 214/1000\n",
            " 1/29 [>.............................] - ETA: 0s - loss: 0.4390 - accuracy: 0.8359\n",
            "Epoch 214: saving model to model/keypoint_classifier\\keypoint_classifier.hdf5\n",
            "29/29 [==============================] - 0s 4ms/step - loss: 0.4792 - accuracy: 0.8270 - val_loss: 0.2113 - val_accuracy: 0.9587\n",
            "Epoch 214: early stopping\n"
          ]
        },
        {
          "data": {
            "text/plain": [
              "<keras.src.callbacks.History at 0x230640f8a50>"
            ]
          },
          "execution_count": 11,
          "metadata": {},
          "output_type": "execute_result"
        }
      ],
      "source": [
        "model.fit(\n",
        "    X_train,\n",
        "    y_train,\n",
        "    epochs=1000,\n",
        "    batch_size=128,\n",
        "    validation_data=(X_test, y_test),\n",
        "    callbacks=[cp_callback, es_callback]\n",
        ")"
      ]
    },
    {
      "cell_type": "code",
      "execution_count": 12,
      "metadata": {
        "colab": {
          "base_uri": "https://localhost:8080/"
        },
        "id": "pxvb2Y299hE3",
        "outputId": "59eb3185-2e37-4b9e-bc9d-ab1b8ac29b7f"
      },
      "outputs": [
        {
          "name": "stdout",
          "output_type": "stream",
          "text": [
            "10/10 [==============================] - 0s 2ms/step - loss: 0.2113 - accuracy: 0.9587\n"
          ]
        }
      ],
      "source": [
        "# Model evaluation\n",
        "val_loss, val_acc = model.evaluate(X_test, y_test, batch_size=128)"
      ]
    },
    {
      "cell_type": "code",
      "execution_count": 13,
      "metadata": {
        "id": "RBkmDeUW9hE4"
      },
      "outputs": [],
      "source": [
        "# Loading the saved model\n",
        "model = tf.keras.models.load_model(model_save_path)"
      ]
    },
    {
      "cell_type": "code",
      "execution_count": 14,
      "metadata": {
        "colab": {
          "base_uri": "https://localhost:8080/"
        },
        "id": "tFz9Tb0I9hE4",
        "outputId": "1c3b3528-54ae-4ee2-ab04-77429211cbef"
      },
      "outputs": [
        {
          "name": "stdout",
          "output_type": "stream",
          "text": [
            "1/1 [==============================] - 0s 128ms/step\n",
            "[9.4578660e-01 5.3771194e-02 3.8412705e-04 2.1971682e-06 5.5939887e-05]\n",
            "0\n"
          ]
        }
      ],
      "source": [
        "# Inference test\n",
        "predict_result = model.predict(np.array([X_test[0]]))\n",
        "print(np.squeeze(predict_result))\n",
        "print(np.argmax(np.squeeze(predict_result)))"
      ]
    },
    {
      "cell_type": "markdown",
      "metadata": {
        "id": "S3U4yNWx9hE4"
      },
      "source": [
        "# Confusion matrix"
      ]
    },
    {
      "cell_type": "code",
      "execution_count": 15,
      "metadata": {
        "colab": {
          "base_uri": "https://localhost:8080/",
          "height": 582
        },
        "id": "AP1V6SCk9hE5",
        "outputId": "08e41a80-7a4a-4619-8125-ecc371368d19"
      },
      "outputs": [
        {
          "name": "stdout",
          "output_type": "stream",
          "text": [
            "39/39 [==============================] - 0s 1ms/step\n"
          ]
        },
        {
          "data": {
            "image/png": "[encoded data removed]",
            "text/plain": [
              "<Figure size 700x600 with 2 Axes>"
            ]
          },
          "metadata": {},
          "output_type": "display_data"
        },
        {
          "name": "stdout",
          "output_type": "stream",
          "text": [
            "Classification Report\n",
            "              precision    recall  f1-score   support\n",
            "\n",
            "           0       0.98      1.00      0.99       400\n",
            "           1       0.99      0.91      0.94       373\n",
            "           2       0.90      0.99      0.94       335\n",
            "           3       1.00      0.98      0.99        83\n",
            "           4       1.00      0.82      0.90        45\n",
            "\n",
            "    accuracy                           0.96      1236\n",
            "   macro avg       0.97      0.94      0.95      1236\n",
            "weighted avg       0.96      0.96      0.96      1236\n",
            "\n"
          ]
        }
      ],
      "source": [
        "import pandas as pd\n",
        "import seaborn as sns\n",
        "import matplotlib.pyplot as plt\n",
        "from sklearn.metrics import confusion_matrix, classification_report\n",
        "\n",
        "def print_confusion_matrix(y_true, y_pred, report=True):\n",
        "    labels = sorted(list(set(y_true)))\n",
        "    cmx_data = confusion_matrix(y_true, y_pred, labels=labels)\n",
        "    \n",
        "    df_cmx = pd.DataFrame(cmx_data, index=labels, columns=labels)\n",
        " \n",
        "    fig, ax = plt.subplots(figsize=(7, 6))\n",
        "    sns.heatmap(df_cmx, annot=True, fmt='g' ,square=False)\n",
        "    ax.set_ylim(len(set(y_true)), 0)\n",
        "    plt.show()\n",
        "    \n",
        "    if report:\n",
        "        print('Classification Report')\n",
        "        print(classification_report(y_test, y_pred))\n",
        "\n",
        "Y_pred = model.predict(X_test)\n",
        "y_pred = np.argmax(Y_pred, axis=1)\n",
        "\n",
        "print_confusion_matrix(y_test, y_pred)"
      ]
    },
    {
      "cell_type": "markdown",
      "metadata": {
        "id": "FNP6aqzc9hE5"
      },
      "source": [
        "# Convert to model for Tensorflow-Lite"
      ]
    },
    {
      "cell_type": "code",
      "execution_count": 16,
      "metadata": {
        "id": "ODjnYyld9hE6"
      },
      "outputs": [
        {
          "name": "stderr",
          "output_type": "stream",
          "text": [
            "C:\\Users\\Aadi\\AppData\\Local\\Packages\\PythonSoftwareFoundation.Python.3.11_qbz5n2kfra8p0\\LocalCache\\local-packages\\Python311\\site-packages\\keras\\src\\engine\\training.py:3103: UserWarning: You are saving your model as an HDF5 file via `model.save()`. This file format is considered legacy. We recommend using instead the native Keras format, e.g. `model.save('my_model.keras')`.\n",
            "  saving_api.save_model(\n"
          ]
        }
      ],
      "source": [
        "# Save as a model dedicated to inference\n",
        "model.save(model_save_path, include_optimizer=False)"
      ]
    },
    {
      "cell_type": "code",
      "execution_count": 17,
      "metadata": {
        "colab": {
          "base_uri": "https://localhost:8080/"
        },
        "id": "zRfuK8Y59hE6",
        "outputId": "a4ca585c-b5d5-4244-8291-8674063209bb"
      },
      "outputs": [
        {
          "name": "stdout",
          "output_type": "stream",
          "text": [
            "INFO:tensorflow:Assets written to: C:\\Users\\Aadi\\AppData\\Local\\Temp\\tmpkpddjgb2\\assets\n"
          ]
        },
        {
          "name": "stderr",
          "output_type": "stream",
          "text": [
            "INFO:tensorflow:Assets written to: C:\\Users\\Aadi\\AppData\\Local\\Temp\\tmpkpddjgb2\\assets\n"
          ]
        },
        {
          "data": {
            "text/plain": [
              "6588"
            ]
          },
          "execution_count": 17,
          "metadata": {},
          "output_type": "execute_result"
        }
      ],
      "source": [
        "# Transform model (quantization)\n",
        "\n",
        "converter = tf.lite.TFLiteConverter.from_keras_model(model)\n",
        "converter.optimizations = [tf.lite.Optimize.DEFAULT]\n",
        "tflite_quantized_model = converter.convert()\n",
        "\n",
        "open(tflite_save_path, 'wb').write(tflite_quantized_model)"
      ]
    },
    {
      "cell_type": "markdown",
      "metadata": {
        "id": "CHBPBXdx9hE6"
      },
      "source": [
        "# Inference test"
      ]
    },
    {
      "cell_type": "code",
      "execution_count": 18,
      "metadata": {
        "id": "mGAzLocO9hE7"
      },
      "outputs": [],
      "source": [
        "interpreter = tf.lite.Interpreter(model_path=tflite_save_path)\n",
        "interpreter.allocate_tensors()"
      ]
    },
    {
      "cell_type": "code",
      "execution_count": 19,
      "metadata": {
        "id": "oQuDK8YS9hE7"
      },
      "outputs": [],
      "source": [
        "# Get I / O tensor\n",
        "input_details = interpreter.get_input_details()\n",
        "output_details = interpreter.get_output_details()"
      ]
    },
    {
      "cell_type": "code",
      "execution_count": 20,
      "metadata": {
        "id": "2_ixAf_l9hE7"
      },
      "outputs": [],
      "source": [
        "interpreter.set_tensor(input_details[0]['index'], np.array([X_test[0]]))"
      ]
    },
    {
      "cell_type": "code",
      "execution_count": 21,
      "metadata": {
        "colab": {
          "base_uri": "https://localhost:8080/"
        },
        "id": "s4FoAnuc9hE7",
        "outputId": "91f18257-8d8b-4ef3-c558-e9b5f94fabbf",
        "scrolled": true
      },
      "outputs": [
        {
          "name": "stdout",
          "output_type": "stream",
          "text": [
            "CPU times: total: 0 ns\n",
            "Wall time: 991 µs\n"
          ]
        }
      ],
      "source": [
        "%%time\n",
        "# Inference implementation\n",
        "interpreter.invoke()\n",
        "tflite_results = interpreter.get_tensor(output_details[0]['index'])"
      ]
    },
    {
      "cell_type": "code",
      "execution_count": 22,
      "metadata": {
        "colab": {
          "base_uri": "https://localhost:8080/"
        },
        "id": "vONjp19J9hE8",
        "outputId": "77205e24-fd00-42c4-f7b6-e06e527c2cba"
      },
      "outputs": [
        {
          "name": "stdout",
          "output_type": "stream",
          "text": [
            "[9.4578660e-01 5.3771142e-02 3.8412705e-04 2.1971639e-06 5.5939883e-05]\n",
            "0\n"
          ]
        }
      ],
      "source": [
        "print(np.squeeze(tflite_results))\n",
        "print(np.argmax(np.squeeze(tflite_results)))"
      ]
    }
  ],
  "metadata": {
    "accelerator": "GPU",
    "colab": {
      "collapsed_sections": [],
      "name": "keypoint_classification_EN.ipynb",
      "provenance": [],
      "toc_visible": true
    },
    "kernelspec": {
      "display_name": "Python 3",
      "language": "python",
      "name": "python3"
    },
    "language_info": {
      "codemirror_mode": {
        "name": "ipython",
        "version": 3
      },
      "file_extension": ".py",
      "mimetype": "text/x-python",
      "name": "python",
      "nbconvert_exporter": "python",
      "pygments_lexer": "ipython3",
      "version": "3.11.8"
    }
  },
  "nbformat": 4,
  "nbformat_minor": 0
}
